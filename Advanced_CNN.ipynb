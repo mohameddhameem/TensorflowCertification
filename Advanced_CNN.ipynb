{
  "nbformat": 4,
  "nbformat_minor": 0,
  "metadata": {
    "colab": {
      "name": "Advanced CNN.ipynb",
      "provenance": [],
      "authorship_tag": "ABX9TyOlepX6G05lgbt19NzDuSzz",
      "include_colab_link": true
    },
    "kernelspec": {
      "name": "python3",
      "display_name": "Python 3"
    },
    "accelerator": "GPU"
  },
  "cells": [
    {
      "cell_type": "markdown",
      "metadata": {
        "id": "view-in-github",
        "colab_type": "text"
      },
      "source": [
        "<a href=\"https://colab.research.google.com/github/mohameddhameem/TensorflowCertification/blob/main/Advanced_CNN.ipynb\" target=\"_parent\"><img src=\"https://colab.research.google.com/assets/colab-badge.svg\" alt=\"Open In Colab\"/></a>"
      ]
    },
    {
      "cell_type": "markdown",
      "metadata": {
        "id": "hlEOjsLM27qC"
      },
      "source": [
        "# Fashon MNIST with TF Estimator"
      ]
    },
    {
      "cell_type": "code",
      "metadata": {
        "id": "2jFtTf0B214d"
      },
      "source": [
        "import os\n",
        "import tensorflow as tf\n",
        "import numpy as np"
      ],
      "execution_count": 1,
      "outputs": []
    },
    {
      "cell_type": "code",
      "metadata": {
        "colab": {
          "base_uri": "https://localhost:8080/"
        },
        "id": "07Qg6Bq13MLV",
        "outputId": "8e49e058-6a53-472a-f758-b181a2b9b7ce"
      },
      "source": [
        "LABEL_DIMENSION = 10\n",
        "\n",
        "(train_images, train_labels), (test_images, test_labels) = tf.keras.datasets.fashion_mnist.load_data()\n",
        "TRAINING_SIZE = len(train_images)\n",
        "TEST_SIZE = len(test_images)\n",
        "\n",
        "#Normalize the image\n",
        "train_images = np.asarray(train_images, dtype=np.float32) / 255\n",
        "# Convert the train images and add channels\n",
        "train_images = train_images.reshape((TRAINING_SIZE, 28, 28, 1))\n",
        "test_images = np.asarray(test_images, dtype=np.float32) / 255\n",
        "# Convert the train images and add channels\n",
        "test_images = test_images.reshape((TEST_SIZE, 28, 28, 1))"
      ],
      "execution_count": 3,
      "outputs": [
        {
          "output_type": "stream",
          "text": [
            "Downloading data from https://storage.googleapis.com/tensorflow/tf-keras-datasets/train-labels-idx1-ubyte.gz\n",
            "32768/29515 [=================================] - 0s 0us/step\n",
            "Downloading data from https://storage.googleapis.com/tensorflow/tf-keras-datasets/train-images-idx3-ubyte.gz\n",
            "26427392/26421880 [==============================] - 0s 0us/step\n",
            "Downloading data from https://storage.googleapis.com/tensorflow/tf-keras-datasets/t10k-labels-idx1-ubyte.gz\n",
            "8192/5148 [===============================================] - 0s 0us/step\n",
            "Downloading data from https://storage.googleapis.com/tensorflow/tf-keras-datasets/t10k-images-idx3-ubyte.gz\n",
            "4423680/4422102 [==============================] - 0s 0us/step\n"
          ],
          "name": "stdout"
        }
      ]
    },
    {
      "cell_type": "code",
      "metadata": {
        "colab": {
          "base_uri": "https://localhost:8080/"
        },
        "id": "TvBRc2kU3PSe",
        "outputId": "7a6cb68d-a816-4ece-baf0-64887b5ba508"
      },
      "source": [
        "train_labels = tf.keras.utils.to_categorical(train_labels, LABEL_DIMENSION)\n",
        "test_labels = tf.keras.utils.to_categorical(test_labels, LABEL_DIMENSION)\n",
        "\n",
        "train_labels = train_labels.astype(np.float32)\n",
        "test_labels = test_labels.astype(np.float32)\n",
        "print(train_images.shape, train_labels.shape)\n",
        "print(test_images.shape, test_labels.shape)"
      ],
      "execution_count": 4,
      "outputs": [
        {
          "output_type": "stream",
          "text": [
            "(60000, 28, 28, 1) (60000, 10)\n",
            "(10000, 28, 28, 1) (10000, 10)\n"
          ],
          "name": "stdout"
        }
      ]
    },
    {
      "cell_type": "code",
      "metadata": {
        "colab": {
          "base_uri": "https://localhost:8080/"
        },
        "id": "q38tRzC54ftA",
        "outputId": "7e73c8d8-f206-46dc-a491-9440c1cf856e"
      },
      "source": [
        "inputs = tf.keras.Input(shape=(28,28,1))  \n",
        "x = tf.keras.layers.Conv2D(filters=32, kernel_size=(3, 3), activation='relu')(inputs)\n",
        "x = tf.keras.layers.MaxPooling2D(pool_size=(2, 2), strides=2)(x)\n",
        "x = tf.keras.layers.Conv2D(filters=64, kernel_size=(3, 3), activation='relu')(x)\n",
        "x = tf.keras.layers.MaxPooling2D(pool_size=(2, 2), strides=2)(x)\n",
        "x = tf.keras.layers.Conv2D(filters=64, kernel_size=(3, 3), activation='relu')(x)\n",
        "x = tf.keras.layers.Flatten()(x)\n",
        "x = tf.keras.layers.Dense(64, activation='relu')(x)\n",
        "predictions = tf.keras.layers.Dense(LABEL_DIMENSION, activation='softmax')(x)\n",
        "model = tf.keras.Model(inputs=inputs, outputs=predictions)\n",
        "model.summary()"
      ],
      "execution_count": 6,
      "outputs": [
        {
          "output_type": "stream",
          "text": [
            "Model: \"model\"\n",
            "_________________________________________________________________\n",
            "Layer (type)                 Output Shape              Param #   \n",
            "=================================================================\n",
            "input_2 (InputLayer)         [(None, 28, 28, 1)]       0         \n",
            "_________________________________________________________________\n",
            "conv2d_3 (Conv2D)            (None, 26, 26, 32)        320       \n",
            "_________________________________________________________________\n",
            "max_pooling2d_2 (MaxPooling2 (None, 13, 13, 32)        0         \n",
            "_________________________________________________________________\n",
            "conv2d_4 (Conv2D)            (None, 11, 11, 64)        18496     \n",
            "_________________________________________________________________\n",
            "max_pooling2d_3 (MaxPooling2 (None, 5, 5, 64)          0         \n",
            "_________________________________________________________________\n",
            "conv2d_5 (Conv2D)            (None, 3, 3, 64)          36928     \n",
            "_________________________________________________________________\n",
            "flatten_1 (Flatten)          (None, 576)               0         \n",
            "_________________________________________________________________\n",
            "dense_1 (Dense)              (None, 64)                36928     \n",
            "_________________________________________________________________\n",
            "dense_2 (Dense)              (None, 10)                650       \n",
            "=================================================================\n",
            "Total params: 93,322\n",
            "Trainable params: 93,322\n",
            "Non-trainable params: 0\n",
            "_________________________________________________________________\n"
          ],
          "name": "stdout"
        }
      ]
    },
    {
      "cell_type": "code",
      "metadata": {
        "colab": {
          "base_uri": "https://localhost:8080/"
        },
        "id": "G7NuoIAC4lY9",
        "outputId": "3ea7889e-e38d-4301-b34b-9c148995a63a"
      },
      "source": [
        "optimizer = tf.keras.optimizers.SGD()\n",
        "model.compile(loss='categorical_crossentropy',\n",
        "              optimizer=optimizer,\n",
        "              metrics = [\"accuracy\"])\n",
        "#Run the model first in CPU\n",
        "statergy = None\n",
        "config = tf.estimator.RunConfig(train_distribute=statergy)\n",
        "estimator = tf.keras.estimator.model_to_estimator(model, config=config)"
      ],
      "execution_count": 7,
      "outputs": [
        {
          "output_type": "stream",
          "text": [
            "WARNING:tensorflow:Using temporary folder as model directory: /tmp/tmp8_htcwrl\n",
            "INFO:tensorflow:Using the Keras model provided.\n"
          ],
          "name": "stdout"
        },
        {
          "output_type": "stream",
          "text": [
            "/usr/local/lib/python3.6/dist-packages/tensorflow/python/keras/backend.py:434: UserWarning: `tf.keras.backend.set_learning_phase` is deprecated and will be removed after 2020-10-11. To update it, simply pass a True/False value to the `training` argument of the `__call__` method of your layer or model.\n",
            "  warnings.warn('`tf.keras.backend.set_learning_phase` is deprecated and '\n"
          ],
          "name": "stderr"
        },
        {
          "output_type": "stream",
          "text": [
            "INFO:tensorflow:Using config: {'_model_dir': '/tmp/tmp8_htcwrl', '_tf_random_seed': None, '_save_summary_steps': 100, '_save_checkpoints_steps': None, '_save_checkpoints_secs': 600, '_session_config': allow_soft_placement: true\n",
            "graph_options {\n",
            "  rewrite_options {\n",
            "    meta_optimizer_iterations: ONE\n",
            "  }\n",
            "}\n",
            ", '_keep_checkpoint_max': 5, '_keep_checkpoint_every_n_hours': 10000, '_log_step_count_steps': 100, '_train_distribute': None, '_device_fn': None, '_protocol': None, '_eval_distribute': None, '_experimental_distribute': None, '_experimental_max_worker_delay_secs': None, '_session_creation_timeout_secs': 7200, '_checkpoint_save_graph_def': True, '_service': None, '_cluster_spec': ClusterSpec({}), '_task_type': 'worker', '_task_id': 0, '_global_id_in_cluster': 0, '_master': '', '_evaluation_master': '', '_is_chief': True, '_num_ps_replicas': 0, '_num_worker_replicas': 1}\n"
          ],
          "name": "stdout"
        }
      ]
    },
    {
      "cell_type": "code",
      "metadata": {
        "colab": {
          "base_uri": "https://localhost:8080/"
        },
        "id": "rghT0FNS5bN0",
        "outputId": "92d836c2-01f8-446e-83ab-d9cbf2a557a2"
      },
      "source": [
        "#Now Train input func\n",
        "def input_fn(images, labels, epochs, batch_size):\n",
        "  dataset = tf.data.Dataset.from_tensor_slices((images, labels))\n",
        "  SHUFFLE_SIZE = 5000\n",
        "  dataset = dataset.shuffle(SHUFFLE_SIZE).repeat(epochs).batch(batch_size)\n",
        "  dataset = dataset.prefetch(None)\n",
        "  return dataset\n",
        "\n",
        "BATCH_SIZE = 512\n",
        "EPOCHS = 50\n",
        "\n",
        "estimator_train_result = estimator.train(\n",
        "    input_fn=lambda:input_fn(train_images, train_labels,\n",
        "                 epochs=EPOCHS,\n",
        "                 batch_size=BATCH_SIZE))\n",
        "print(estimator_train_result)"
      ],
      "execution_count": 11,
      "outputs": [
        {
          "output_type": "stream",
          "text": [
            "INFO:tensorflow:Calling model_fn.\n",
            "INFO:tensorflow:Done calling model_fn.\n",
            "INFO:tensorflow:Warm-starting with WarmStartSettings: WarmStartSettings(ckpt_to_initialize_from='/tmp/tmp8_htcwrl/keras/keras_model.ckpt', vars_to_warm_start='.*', var_name_to_vocab_info={}, var_name_to_prev_var_name={})\n",
            "INFO:tensorflow:Warm-starting from: /tmp/tmp8_htcwrl/keras/keras_model.ckpt\n",
            "INFO:tensorflow:Warm-starting variables only in TRAINABLE_VARIABLES.\n"
          ],
          "name": "stdout"
        },
        {
          "output_type": "stream",
          "text": [
            "/usr/local/lib/python3.6/dist-packages/tensorflow/python/keras/backend.py:434: UserWarning: `tf.keras.backend.set_learning_phase` is deprecated and will be removed after 2020-10-11. To update it, simply pass a True/False value to the `training` argument of the `__call__` method of your layer or model.\n",
            "  warnings.warn('`tf.keras.backend.set_learning_phase` is deprecated and '\n"
          ],
          "name": "stderr"
        },
        {
          "output_type": "stream",
          "text": [
            "INFO:tensorflow:Warm-started 10 variables.\n",
            "INFO:tensorflow:Create CheckpointSaverHook.\n",
            "INFO:tensorflow:Graph was finalized.\n",
            "INFO:tensorflow:Running local_init_op.\n",
            "INFO:tensorflow:Done running local_init_op.\n",
            "INFO:tensorflow:Calling checkpoint listeners before saving checkpoint 0...\n",
            "INFO:tensorflow:Saving checkpoints for 0 into /tmp/tmp8_htcwrl/model.ckpt.\n",
            "INFO:tensorflow:Calling checkpoint listeners after saving checkpoint 0...\n",
            "INFO:tensorflow:loss = 2.3115318, step = 0\n",
            "INFO:tensorflow:global_step/sec: 66.6514\n",
            "INFO:tensorflow:loss = 2.2348974, step = 100 (1.505 sec)\n",
            "INFO:tensorflow:global_step/sec: 65.0168\n",
            "INFO:tensorflow:loss = 1.8801285, step = 200 (1.538 sec)\n",
            "INFO:tensorflow:global_step/sec: 70.2953\n",
            "INFO:tensorflow:loss = 1.1381004, step = 300 (1.422 sec)\n",
            "WARNING:tensorflow:It seems that global step (tf.train.get_global_step) has not been increased. Current value (could be stable): 384 vs previous value: 384. You could increase the global step by passing tf.train.get_global_step() to Optimizer.apply_gradients or Optimizer.minimize.\n",
            "WARNING:tensorflow:It seems that global step (tf.train.get_global_step) has not been increased. Current value (could be stable): 397 vs previous value: 397. You could increase the global step by passing tf.train.get_global_step() to Optimizer.apply_gradients or Optimizer.minimize.\n",
            "INFO:tensorflow:global_step/sec: 82.2782\n",
            "INFO:tensorflow:loss = 0.92333627, step = 400 (1.212 sec)\n",
            "WARNING:tensorflow:It seems that global step (tf.train.get_global_step) has not been increased. Current value (could be stable): 407 vs previous value: 407. You could increase the global step by passing tf.train.get_global_step() to Optimizer.apply_gradients or Optimizer.minimize.\n",
            "WARNING:tensorflow:It seems that global step (tf.train.get_global_step) has not been increased. Current value (could be stable): 495 vs previous value: 495. You could increase the global step by passing tf.train.get_global_step() to Optimizer.apply_gradients or Optimizer.minimize.\n",
            "INFO:tensorflow:global_step/sec: 79.9383\n",
            "INFO:tensorflow:loss = 0.8743781, step = 500 (1.254 sec)\n",
            "WARNING:tensorflow:It seems that global step (tf.train.get_global_step) has not been increased. Current value (could be stable): 582 vs previous value: 582. You could increase the global step by passing tf.train.get_global_step() to Optimizer.apply_gradients or Optimizer.minimize.\n",
            "INFO:tensorflow:global_step/sec: 78.8188\n",
            "INFO:tensorflow:loss = 0.95653737, step = 600 (1.269 sec)\n",
            "INFO:tensorflow:global_step/sec: 83.7998\n",
            "INFO:tensorflow:loss = 0.8096747, step = 700 (1.193 sec)\n",
            "INFO:tensorflow:global_step/sec: 80.6974\n",
            "INFO:tensorflow:loss = 0.7778504, step = 800 (1.241 sec)\n",
            "INFO:tensorflow:global_step/sec: 80.9864\n",
            "INFO:tensorflow:loss = 0.719231, step = 900 (1.235 sec)\n",
            "INFO:tensorflow:global_step/sec: 81.3078\n",
            "INFO:tensorflow:loss = 0.7519873, step = 1000 (1.226 sec)\n",
            "INFO:tensorflow:global_step/sec: 83.4263\n",
            "INFO:tensorflow:loss = 0.73981756, step = 1100 (1.202 sec)\n",
            "INFO:tensorflow:global_step/sec: 92.5711\n",
            "INFO:tensorflow:loss = 0.7273314, step = 1200 (1.081 sec)\n",
            "INFO:tensorflow:global_step/sec: 89.9436\n",
            "INFO:tensorflow:loss = 0.5927798, step = 1300 (1.108 sec)\n",
            "INFO:tensorflow:global_step/sec: 90.3637\n",
            "INFO:tensorflow:loss = 0.6234165, step = 1400 (1.108 sec)\n",
            "INFO:tensorflow:global_step/sec: 87.5807\n",
            "INFO:tensorflow:loss = 0.6909517, step = 1500 (1.141 sec)\n",
            "INFO:tensorflow:global_step/sec: 91.4482\n",
            "INFO:tensorflow:loss = 0.65839595, step = 1600 (1.097 sec)\n",
            "INFO:tensorflow:global_step/sec: 90.4993\n",
            "INFO:tensorflow:loss = 0.61912704, step = 1700 (1.101 sec)\n",
            "INFO:tensorflow:global_step/sec: 90.6677\n",
            "INFO:tensorflow:loss = 0.66392046, step = 1800 (1.104 sec)\n",
            "INFO:tensorflow:global_step/sec: 90.8438\n",
            "INFO:tensorflow:loss = 0.5992086, step = 1900 (1.101 sec)\n",
            "INFO:tensorflow:global_step/sec: 87.3993\n",
            "INFO:tensorflow:loss = 0.5530058, step = 2000 (1.143 sec)\n",
            "INFO:tensorflow:global_step/sec: 91.4319\n",
            "INFO:tensorflow:loss = 0.5344165, step = 2100 (1.096 sec)\n",
            "INFO:tensorflow:global_step/sec: 93.9191\n",
            "INFO:tensorflow:loss = 0.57507384, step = 2200 (1.062 sec)\n",
            "INFO:tensorflow:global_step/sec: 88.1434\n",
            "INFO:tensorflow:loss = 0.5759606, step = 2300 (1.135 sec)\n",
            "INFO:tensorflow:global_step/sec: 92.5903\n",
            "INFO:tensorflow:loss = 0.5938069, step = 2400 (1.083 sec)\n",
            "INFO:tensorflow:global_step/sec: 80.4725\n",
            "INFO:tensorflow:loss = 0.5047214, step = 2500 (1.243 sec)\n",
            "INFO:tensorflow:global_step/sec: 80.2381\n",
            "INFO:tensorflow:loss = 0.516563, step = 2600 (1.246 sec)\n",
            "INFO:tensorflow:global_step/sec: 81.7042\n",
            "INFO:tensorflow:loss = 0.51901406, step = 2700 (1.222 sec)\n",
            "INFO:tensorflow:global_step/sec: 80.0484\n",
            "INFO:tensorflow:loss = 0.56556356, step = 2800 (1.249 sec)\n",
            "INFO:tensorflow:global_step/sec: 80.6727\n",
            "INFO:tensorflow:loss = 0.50143003, step = 2900 (1.242 sec)\n",
            "INFO:tensorflow:global_step/sec: 81.2408\n",
            "INFO:tensorflow:loss = 0.514088, step = 3000 (1.231 sec)\n",
            "INFO:tensorflow:global_step/sec: 81.2402\n",
            "INFO:tensorflow:loss = 0.50423837, step = 3100 (1.229 sec)\n",
            "INFO:tensorflow:global_step/sec: 81.004\n",
            "INFO:tensorflow:loss = 0.47705457, step = 3200 (1.234 sec)\n",
            "INFO:tensorflow:global_step/sec: 82.1838\n",
            "INFO:tensorflow:loss = 0.52833885, step = 3300 (1.217 sec)\n",
            "INFO:tensorflow:global_step/sec: 82.0155\n",
            "INFO:tensorflow:loss = 0.46948823, step = 3400 (1.219 sec)\n",
            "INFO:tensorflow:global_step/sec: 80.3381\n",
            "INFO:tensorflow:loss = 0.5004364, step = 3500 (1.246 sec)\n",
            "INFO:tensorflow:global_step/sec: 82.2056\n",
            "INFO:tensorflow:loss = 0.49855524, step = 3600 (1.221 sec)\n",
            "INFO:tensorflow:global_step/sec: 80.1131\n",
            "INFO:tensorflow:loss = 0.483464, step = 3700 (1.246 sec)\n",
            "INFO:tensorflow:global_step/sec: 81.341\n",
            "INFO:tensorflow:loss = 0.512792, step = 3800 (1.226 sec)\n",
            "INFO:tensorflow:global_step/sec: 81.6543\n",
            "INFO:tensorflow:loss = 0.3899506, step = 3900 (1.233 sec)\n",
            "INFO:tensorflow:global_step/sec: 80.6387\n",
            "INFO:tensorflow:loss = 0.4801706, step = 4000 (1.236 sec)\n",
            "INFO:tensorflow:global_step/sec: 80.1408\n",
            "INFO:tensorflow:loss = 0.433863, step = 4100 (1.247 sec)\n",
            "INFO:tensorflow:global_step/sec: 81.961\n",
            "INFO:tensorflow:loss = 0.46617675, step = 4200 (1.221 sec)\n",
            "INFO:tensorflow:global_step/sec: 81.9375\n",
            "INFO:tensorflow:loss = 0.44588923, step = 4300 (1.220 sec)\n",
            "INFO:tensorflow:global_step/sec: 81.7807\n",
            "INFO:tensorflow:loss = 0.43833613, step = 4400 (1.219 sec)\n",
            "INFO:tensorflow:global_step/sec: 80.8731\n",
            "INFO:tensorflow:loss = 0.4494323, step = 4500 (1.238 sec)\n",
            "INFO:tensorflow:global_step/sec: 81.6577\n",
            "INFO:tensorflow:loss = 0.44601017, step = 4600 (1.223 sec)\n",
            "INFO:tensorflow:global_step/sec: 82.1739\n",
            "INFO:tensorflow:loss = 0.4139936, step = 4700 (1.220 sec)\n",
            "INFO:tensorflow:global_step/sec: 80.7971\n",
            "INFO:tensorflow:loss = 0.41320413, step = 4800 (1.235 sec)\n",
            "INFO:tensorflow:global_step/sec: 80.9124\n",
            "INFO:tensorflow:loss = 0.44543856, step = 4900 (1.238 sec)\n",
            "INFO:tensorflow:global_step/sec: 80.2314\n",
            "INFO:tensorflow:loss = 0.3838135, step = 5000 (1.243 sec)\n",
            "INFO:tensorflow:global_step/sec: 80.1497\n",
            "INFO:tensorflow:loss = 0.47485575, step = 5100 (1.250 sec)\n",
            "INFO:tensorflow:global_step/sec: 81.0396\n",
            "INFO:tensorflow:loss = 0.44665626, step = 5200 (1.235 sec)\n",
            "INFO:tensorflow:global_step/sec: 79.6164\n",
            "INFO:tensorflow:loss = 0.40418214, step = 5300 (1.253 sec)\n",
            "INFO:tensorflow:global_step/sec: 81.1291\n",
            "INFO:tensorflow:loss = 0.48790932, step = 5400 (1.235 sec)\n",
            "INFO:tensorflow:global_step/sec: 81.151\n",
            "INFO:tensorflow:loss = 0.49397713, step = 5500 (1.231 sec)\n",
            "INFO:tensorflow:global_step/sec: 81.0147\n",
            "INFO:tensorflow:loss = 0.41033372, step = 5600 (1.234 sec)\n",
            "INFO:tensorflow:global_step/sec: 81.3822\n",
            "INFO:tensorflow:loss = 0.42579216, step = 5700 (1.229 sec)\n",
            "INFO:tensorflow:global_step/sec: 81.5113\n",
            "INFO:tensorflow:loss = 0.37057802, step = 5800 (1.227 sec)\n",
            "INFO:tensorflow:Calling checkpoint listeners before saving checkpoint 5860...\n",
            "INFO:tensorflow:Saving checkpoints for 5860 into /tmp/tmp8_htcwrl/model.ckpt.\n",
            "INFO:tensorflow:Calling checkpoint listeners after saving checkpoint 5860...\n",
            "INFO:tensorflow:Loss for final step: 0.59150225.\n",
            "<tensorflow_estimator.python.estimator.estimator.EstimatorV2 object at 0x7f154a82aeb8>\n"
          ],
          "name": "stdout"
        }
      ]
    },
    {
      "cell_type": "code",
      "metadata": {
        "colab": {
          "base_uri": "https://localhost:8080/"
        },
        "id": "fuFuEsTl6bXm",
        "outputId": "ec5ad945-eaca-4022-bb1f-af0595ba2c00"
      },
      "source": [
        "estimator.evaluate(lambda:input_fn(test_images, \n",
        "                                   test_labels,\n",
        "                                   epochs=1,\n",
        "                                   batch_size=BATCH_SIZE))"
      ],
      "execution_count": 12,
      "outputs": [
        {
          "output_type": "stream",
          "text": [
            "INFO:tensorflow:Calling model_fn.\n",
            "INFO:tensorflow:Done calling model_fn.\n",
            "INFO:tensorflow:Starting evaluation at 2021-01-02T02:28:18Z\n",
            "INFO:tensorflow:Graph was finalized.\n"
          ],
          "name": "stdout"
        },
        {
          "output_type": "stream",
          "text": [
            "/usr/local/lib/python3.6/dist-packages/tensorflow/python/keras/backend.py:434: UserWarning: `tf.keras.backend.set_learning_phase` is deprecated and will be removed after 2020-10-11. To update it, simply pass a True/False value to the `training` argument of the `__call__` method of your layer or model.\n",
            "  warnings.warn('`tf.keras.backend.set_learning_phase` is deprecated and '\n",
            "/usr/local/lib/python3.6/dist-packages/tensorflow/python/keras/engine/training.py:2325: UserWarning: `Model.state_updates` will be removed in a future version. This property should not be used in TensorFlow 2.0, as `updates` are applied automatically.\n",
            "  warnings.warn('`Model.state_updates` will be removed in a future version. '\n"
          ],
          "name": "stderr"
        },
        {
          "output_type": "stream",
          "text": [
            "INFO:tensorflow:Restoring parameters from /tmp/tmp8_htcwrl/model.ckpt-5860\n",
            "INFO:tensorflow:Running local_init_op.\n",
            "INFO:tensorflow:Done running local_init_op.\n",
            "INFO:tensorflow:Inference Time : 0.41748s\n",
            "INFO:tensorflow:Finished evaluation at 2021-01-02-02:28:18\n",
            "INFO:tensorflow:Saving dict for global step 5860: accuracy = 0.7925, global_step = 5860, loss = 0.54568505\n",
            "INFO:tensorflow:Saving 'checkpoint_path' summary for global step 5860: /tmp/tmp8_htcwrl/model.ckpt-5860\n"
          ],
          "name": "stdout"
        },
        {
          "output_type": "execute_result",
          "data": {
            "text/plain": [
              "{'accuracy': 0.7925, 'global_step': 5860, 'loss': 0.54568505}"
            ]
          },
          "metadata": {
            "tags": []
          },
          "execution_count": 12
        }
      ]
    },
    {
      "cell_type": "code",
      "metadata": {
        "id": "BeVzwws67I40"
      },
      "source": [
        ""
      ],
      "execution_count": null,
      "outputs": []
    }
  ]
}