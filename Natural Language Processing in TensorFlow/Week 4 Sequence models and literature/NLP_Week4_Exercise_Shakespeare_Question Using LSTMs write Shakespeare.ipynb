{
  "nbformat": 4,
  "nbformat_minor": 0,
  "metadata": {
    "accelerator": "GPU",
    "colab": {
      "name": "NLP_Week4_Exercise_Shakespeare_Question.ipynb",
      "provenance": [],
      "toc_visible": true,
      "include_colab_link": true
    },
    "kernelspec": {
      "display_name": "Python 3",
      "name": "python3"
    }
  },
  "cells": [
    {
      "cell_type": "markdown",
      "metadata": {
        "id": "view-in-github",
        "colab_type": "text"
      },
      "source": [
        "<a href=\"https://colab.research.google.com/github/mohameddhameem/TensorflowCertification/blob/main/Natural%20Language%20Processing%20in%20TensorFlow/Week%204/NLP_Week4_Exercise_Shakespeare_Question.ipynb\" target=\"_parent\"><img src=\"https://colab.research.google.com/assets/colab-badge.svg\" alt=\"Open In Colab\"/></a>"
      ]
    },
    {
      "cell_type": "code",
      "metadata": {
        "id": "zX4Kg8DUTKWO"
      },
      "source": [
        "#@title Licensed under the Apache License, Version 2.0 (the \"License\");\n",
        "# you may not use this file except in compliance with the License.\n",
        "# You may obtain a copy of the License at\n",
        "#\n",
        "# https://www.apache.org/licenses/LICENSE-2.0\n",
        "#\n",
        "# Unless required by applicable law or agreed to in writing, software\n",
        "# distributed under the License is distributed on an \"AS IS\" BASIS,\n",
        "# WITHOUT WARRANTIES OR CONDITIONS OF ANY KIND, either express or implied.\n",
        "# See the License for the specific language governing permissions and\n",
        "# limitations under the License."
      ],
      "execution_count": null,
      "outputs": []
    },
    {
      "cell_type": "code",
      "metadata": {
        "id": "BOwsuGQQY9OL"
      },
      "source": [
        "from tensorflow.keras.preprocessing.sequence import pad_sequences\n",
        "from tensorflow.keras.layers import Embedding, LSTM, Dense, Dropout, Bidirectional\n",
        "from tensorflow.keras.preprocessing.text import Tokenizer\n",
        "from tensorflow.keras.models import Sequential\n",
        "from tensorflow.keras.optimizers import Adam\n",
        "### YOUR CODE HERE\n",
        "# Figure out how to import regularizers\n",
        "from tensorflow.keras import regularizers\n",
        "###\n",
        "import tensorflow.keras.utils as ku \n",
        "import numpy as np "
      ],
      "execution_count": 1,
      "outputs": []
    },
    {
      "cell_type": "code",
      "metadata": {
        "id": "PRnDnCW-Z7qv",
        "colab": {
          "base_uri": "https://localhost:8080/"
        },
        "outputId": "fc6c9b8c-b5df-4c5e-b350-c9f823a3a831"
      },
      "source": [
        "tokenizer = Tokenizer()\n",
        "!wget --no-check-certificate \\\n",
        "    https://storage.googleapis.com/laurencemoroney-blog.appspot.com/sonnets.txt \\\n",
        "    -O /tmp/sonnets.txt\n",
        "data = open('/tmp/sonnets.txt').read()\n",
        "\n",
        "corpus = data.lower().split(\"\\n\")\n",
        "\n",
        "\n",
        "tokenizer.fit_on_texts(corpus)\n",
        "total_words = len(tokenizer.word_index) + 1\n",
        "\n",
        "# create input sequences using list of tokens\n",
        "input_sequences = []\n",
        "for line in corpus:\n",
        "\ttoken_list = tokenizer.texts_to_sequences([line])[0]\n",
        "\tfor i in range(1, len(token_list)):\n",
        "\t\tn_gram_sequence = token_list[:i+1]\n",
        "\t\tinput_sequences.append(n_gram_sequence)\n",
        "\n",
        "\n",
        "# pad sequences \n",
        "max_sequence_len = max([len(x) for x in input_sequences])\n",
        "input_sequences = np.array(pad_sequences(input_sequences, maxlen=max_sequence_len, padding='pre'))\n",
        "\n",
        "# create predictors and label\n",
        "predictors, label = input_sequences[:,:-1],input_sequences[:,-1]\n",
        "\n",
        "label = ku.to_categorical(label, num_classes=total_words)"
      ],
      "execution_count": 2,
      "outputs": [
        {
          "output_type": "stream",
          "text": [
            "--2021-05-15 14:55:51--  https://storage.googleapis.com/laurencemoroney-blog.appspot.com/sonnets.txt\n",
            "Resolving storage.googleapis.com (storage.googleapis.com)... 172.217.13.80, 172.217.15.80, 172.217.13.240, ...\n",
            "Connecting to storage.googleapis.com (storage.googleapis.com)|172.217.13.80|:443... connected.\n",
            "HTTP request sent, awaiting response... 200 OK\n",
            "Length: 93578 (91K) [text/plain]\n",
            "Saving to: ‘/tmp/sonnets.txt’\n",
            "\n",
            "\r/tmp/sonnets.txt      0%[                    ]       0  --.-KB/s               \r/tmp/sonnets.txt    100%[===================>]  91.38K  --.-KB/s    in 0.001s  \n",
            "\n",
            "2021-05-15 14:55:51 (96.1 MB/s) - ‘/tmp/sonnets.txt’ saved [93578/93578]\n",
            "\n"
          ],
          "name": "stdout"
        }
      ]
    },
    {
      "cell_type": "code",
      "metadata": {
        "id": "w9vH8Y59ajYL",
        "colab": {
          "base_uri": "https://localhost:8080/"
        },
        "outputId": "65568c80-d621-46f8-aee5-ffdd1e0d13b7"
      },
      "source": [
        "model = Sequential()\n",
        "model.add(Embedding(total_words, 100, input_length=max_sequence_len-1))\n",
        "model.add(Bidirectional(LSTM(150, return_sequences = True)))\n",
        "model.add(Dropout(0.2))\n",
        "model.add(LSTM(100))\n",
        "model.add(Dense(total_words/2, activation='relu', kernel_regularizer=regularizers.L1(0.01))) ## A Dense Layer including regularizers\n",
        "model.add(Dense(total_words, activation='softmax'))\n",
        "# Pick an optimizer\n",
        "model.compile(loss='categorical_crossentropy', optimizer='adam', metrics=['accuracy'])\n",
        "print(model.summary())\n"
      ],
      "execution_count": 8,
      "outputs": [
        {
          "output_type": "stream",
          "text": [
            "Model: \"sequential_5\"\n",
            "_________________________________________________________________\n",
            "Layer (type)                 Output Shape              Param #   \n",
            "=================================================================\n",
            "embedding_5 (Embedding)      (None, 10, 100)           321100    \n",
            "_________________________________________________________________\n",
            "bidirectional_6 (Bidirection (None, 10, 300)           301200    \n",
            "_________________________________________________________________\n",
            "dropout_5 (Dropout)          (None, 10, 300)           0         \n",
            "_________________________________________________________________\n",
            "lstm_11 (LSTM)               (None, 100)               160400    \n",
            "_________________________________________________________________\n",
            "dense_2 (Dense)              (None, 1605)              162105    \n",
            "_________________________________________________________________\n",
            "dense_3 (Dense)              (None, 3211)              5156866   \n",
            "=================================================================\n",
            "Total params: 6,101,671\n",
            "Trainable params: 6,101,671\n",
            "Non-trainable params: 0\n",
            "_________________________________________________________________\n",
            "None\n"
          ],
          "name": "stdout"
        }
      ]
    },
    {
      "cell_type": "code",
      "metadata": {
        "id": "AIg2f1HBxqof",
        "colab": {
          "base_uri": "https://localhost:8080/"
        },
        "outputId": "1b61b001-f686-4d50-a3dd-fc38c6023cd4"
      },
      "source": [
        "history = model.fit(predictors, label, epochs=100, verbose=2)"
      ],
      "execution_count": 9,
      "outputs": [
        {
          "output_type": "stream",
          "text": [
            "Epoch 1/100\n",
            "484/484 [==============================] - 40s 11ms/step - loss: 15.3421 - accuracy: 0.0199\n",
            "Epoch 2/100\n",
            "484/484 [==============================] - 5s 11ms/step - loss: 6.7390 - accuracy: 0.0200\n",
            "Epoch 3/100\n",
            "484/484 [==============================] - 5s 11ms/step - loss: 6.7476 - accuracy: 0.0207\n",
            "Epoch 4/100\n",
            "484/484 [==============================] - 5s 11ms/step - loss: 6.7394 - accuracy: 0.0232\n",
            "Epoch 5/100\n",
            "484/484 [==============================] - 5s 11ms/step - loss: 6.7524 - accuracy: 0.0216\n",
            "Epoch 6/100\n",
            "484/484 [==============================] - 5s 11ms/step - loss: 6.7596 - accuracy: 0.0197\n",
            "Epoch 7/100\n",
            "484/484 [==============================] - 5s 11ms/step - loss: 6.7594 - accuracy: 0.0236\n",
            "Epoch 8/100\n",
            "484/484 [==============================] - 5s 11ms/step - loss: 6.7483 - accuracy: 0.0226\n",
            "Epoch 9/100\n",
            "484/484 [==============================] - 5s 11ms/step - loss: 6.7544 - accuracy: 0.0244\n",
            "Epoch 10/100\n",
            "484/484 [==============================] - 5s 11ms/step - loss: 6.7692 - accuracy: 0.0218\n",
            "Epoch 11/100\n",
            "484/484 [==============================] - 5s 11ms/step - loss: 6.6748 - accuracy: 0.0228\n",
            "Epoch 12/100\n",
            "484/484 [==============================] - 5s 11ms/step - loss: 6.6734 - accuracy: 0.0247\n",
            "Epoch 13/100\n",
            "484/484 [==============================] - 5s 11ms/step - loss: 6.5964 - accuracy: 0.0326\n",
            "Epoch 14/100\n",
            "484/484 [==============================] - 5s 11ms/step - loss: 6.5022 - accuracy: 0.0349\n",
            "Epoch 15/100\n",
            "484/484 [==============================] - 5s 11ms/step - loss: 6.4808 - accuracy: 0.0334\n",
            "Epoch 16/100\n",
            "484/484 [==============================] - 5s 11ms/step - loss: 6.4537 - accuracy: 0.0381\n",
            "Epoch 17/100\n",
            "484/484 [==============================] - 5s 11ms/step - loss: 6.4352 - accuracy: 0.0406\n",
            "Epoch 18/100\n",
            "484/484 [==============================] - 5s 11ms/step - loss: 6.3819 - accuracy: 0.0420\n",
            "Epoch 19/100\n",
            "484/484 [==============================] - 5s 11ms/step - loss: 6.3411 - accuracy: 0.0431\n",
            "Epoch 20/100\n",
            "484/484 [==============================] - 5s 11ms/step - loss: 6.3602 - accuracy: 0.0422\n",
            "Epoch 21/100\n",
            "484/484 [==============================] - 5s 11ms/step - loss: 6.3152 - accuracy: 0.0395\n",
            "Epoch 22/100\n",
            "484/484 [==============================] - 5s 11ms/step - loss: 6.2962 - accuracy: 0.0415\n",
            "Epoch 23/100\n",
            "484/484 [==============================] - 5s 11ms/step - loss: 6.2917 - accuracy: 0.0427\n",
            "Epoch 24/100\n",
            "484/484 [==============================] - 5s 11ms/step - loss: 6.2619 - accuracy: 0.0464\n",
            "Epoch 25/100\n",
            "484/484 [==============================] - 5s 11ms/step - loss: 6.3411 - accuracy: 0.0417\n",
            "Epoch 26/100\n",
            "484/484 [==============================] - 5s 11ms/step - loss: 6.2628 - accuracy: 0.0480\n",
            "Epoch 27/100\n",
            "484/484 [==============================] - 5s 11ms/step - loss: 6.2505 - accuracy: 0.0517\n",
            "Epoch 28/100\n",
            "484/484 [==============================] - 5s 11ms/step - loss: 6.2217 - accuracy: 0.0481\n",
            "Epoch 29/100\n",
            "484/484 [==============================] - 5s 11ms/step - loss: 6.2262 - accuracy: 0.0529\n",
            "Epoch 30/100\n",
            "484/484 [==============================] - 5s 11ms/step - loss: 6.1980 - accuracy: 0.0526\n",
            "Epoch 31/100\n",
            "484/484 [==============================] - 5s 11ms/step - loss: 6.1371 - accuracy: 0.0542\n",
            "Epoch 32/100\n",
            "484/484 [==============================] - 5s 11ms/step - loss: 6.1084 - accuracy: 0.0578\n",
            "Epoch 33/100\n",
            "484/484 [==============================] - 5s 11ms/step - loss: 6.0766 - accuracy: 0.0599\n",
            "Epoch 34/100\n",
            "484/484 [==============================] - 5s 11ms/step - loss: 6.0583 - accuracy: 0.0579\n",
            "Epoch 35/100\n",
            "484/484 [==============================] - 5s 11ms/step - loss: 6.0178 - accuracy: 0.0593\n",
            "Epoch 36/100\n",
            "484/484 [==============================] - 5s 11ms/step - loss: 5.9838 - accuracy: 0.0652\n",
            "Epoch 37/100\n",
            "484/484 [==============================] - 5s 11ms/step - loss: 5.9385 - accuracy: 0.0649\n",
            "Epoch 38/100\n",
            "484/484 [==============================] - 5s 11ms/step - loss: 5.8889 - accuracy: 0.0687\n",
            "Epoch 39/100\n",
            "484/484 [==============================] - 5s 11ms/step - loss: 5.8307 - accuracy: 0.0710\n",
            "Epoch 40/100\n",
            "484/484 [==============================] - 5s 11ms/step - loss: 5.7867 - accuracy: 0.0743\n",
            "Epoch 41/100\n",
            "484/484 [==============================] - 5s 11ms/step - loss: 5.7467 - accuracy: 0.0737\n",
            "Epoch 42/100\n",
            "484/484 [==============================] - 5s 11ms/step - loss: 5.7411 - accuracy: 0.0706\n",
            "Epoch 43/100\n",
            "484/484 [==============================] - 5s 11ms/step - loss: 5.7123 - accuracy: 0.0777\n",
            "Epoch 44/100\n",
            "484/484 [==============================] - 5s 11ms/step - loss: 5.6459 - accuracy: 0.0755\n",
            "Epoch 45/100\n",
            "484/484 [==============================] - 5s 11ms/step - loss: 5.6040 - accuracy: 0.0822\n",
            "Epoch 46/100\n",
            "484/484 [==============================] - 5s 11ms/step - loss: 5.5960 - accuracy: 0.0819\n",
            "Epoch 47/100\n",
            "484/484 [==============================] - 5s 11ms/step - loss: 5.5725 - accuracy: 0.0796\n",
            "Epoch 48/100\n",
            "484/484 [==============================] - 5s 11ms/step - loss: 5.5254 - accuracy: 0.0815\n",
            "Epoch 49/100\n",
            "484/484 [==============================] - 5s 11ms/step - loss: 5.4988 - accuracy: 0.0861\n",
            "Epoch 50/100\n",
            "484/484 [==============================] - 5s 11ms/step - loss: 5.4678 - accuracy: 0.0847\n",
            "Epoch 51/100\n",
            "484/484 [==============================] - 5s 11ms/step - loss: 5.4331 - accuracy: 0.0910\n",
            "Epoch 52/100\n",
            "484/484 [==============================] - 5s 11ms/step - loss: 5.4441 - accuracy: 0.0872\n",
            "Epoch 53/100\n",
            "484/484 [==============================] - 5s 11ms/step - loss: 5.3852 - accuracy: 0.0911\n",
            "Epoch 54/100\n",
            "484/484 [==============================] - 5s 11ms/step - loss: 5.3422 - accuracy: 0.0936\n",
            "Epoch 55/100\n",
            "484/484 [==============================] - 5s 11ms/step - loss: 5.3080 - accuracy: 0.0963\n",
            "Epoch 56/100\n",
            "484/484 [==============================] - 5s 11ms/step - loss: 5.3070 - accuracy: 0.0979\n",
            "Epoch 57/100\n",
            "484/484 [==============================] - 5s 11ms/step - loss: 5.3055 - accuracy: 0.0953\n",
            "Epoch 58/100\n",
            "484/484 [==============================] - 5s 11ms/step - loss: 5.2767 - accuracy: 0.0971\n",
            "Epoch 59/100\n",
            "484/484 [==============================] - 5s 11ms/step - loss: 5.2104 - accuracy: 0.1022\n",
            "Epoch 60/100\n",
            "484/484 [==============================] - 5s 11ms/step - loss: 5.1861 - accuracy: 0.1068\n",
            "Epoch 61/100\n",
            "484/484 [==============================] - 5s 11ms/step - loss: 5.1530 - accuracy: 0.1045\n",
            "Epoch 62/100\n",
            "484/484 [==============================] - 5s 11ms/step - loss: 5.0883 - accuracy: 0.1123\n",
            "Epoch 63/100\n",
            "484/484 [==============================] - 5s 11ms/step - loss: 5.0848 - accuracy: 0.1125\n",
            "Epoch 64/100\n",
            "484/484 [==============================] - 5s 11ms/step - loss: 5.0513 - accuracy: 0.1167\n",
            "Epoch 65/100\n",
            "484/484 [==============================] - 5s 11ms/step - loss: 4.9925 - accuracy: 0.1199\n",
            "Epoch 66/100\n",
            "484/484 [==============================] - 5s 11ms/step - loss: 4.9749 - accuracy: 0.1246\n",
            "Epoch 67/100\n",
            "484/484 [==============================] - 5s 11ms/step - loss: 4.9758 - accuracy: 0.1244\n",
            "Epoch 68/100\n",
            "484/484 [==============================] - 5s 11ms/step - loss: 4.9136 - accuracy: 0.1290\n",
            "Epoch 69/100\n",
            "484/484 [==============================] - 5s 11ms/step - loss: 4.9096 - accuracy: 0.1292\n",
            "Epoch 70/100\n",
            "484/484 [==============================] - 5s 11ms/step - loss: 4.8930 - accuracy: 0.1303\n",
            "Epoch 71/100\n",
            "484/484 [==============================] - 5s 11ms/step - loss: 4.8251 - accuracy: 0.1329\n",
            "Epoch 72/100\n",
            "484/484 [==============================] - 5s 11ms/step - loss: 4.7936 - accuracy: 0.1423\n",
            "Epoch 73/100\n",
            "484/484 [==============================] - 5s 11ms/step - loss: 4.7941 - accuracy: 0.1383\n",
            "Epoch 74/100\n",
            "484/484 [==============================] - 5s 11ms/step - loss: 4.7657 - accuracy: 0.1415\n",
            "Epoch 75/100\n",
            "484/484 [==============================] - 5s 11ms/step - loss: 4.7287 - accuracy: 0.1426\n",
            "Epoch 76/100\n",
            "484/484 [==============================] - 5s 11ms/step - loss: 4.7120 - accuracy: 0.1522\n",
            "Epoch 77/100\n",
            "484/484 [==============================] - 5s 11ms/step - loss: 4.6941 - accuracy: 0.1534\n",
            "Epoch 78/100\n",
            "484/484 [==============================] - 5s 11ms/step - loss: 4.6384 - accuracy: 0.1553\n",
            "Epoch 79/100\n",
            "484/484 [==============================] - 5s 11ms/step - loss: 4.5964 - accuracy: 0.1649\n",
            "Epoch 80/100\n",
            "484/484 [==============================] - 5s 11ms/step - loss: 4.6121 - accuracy: 0.1640\n",
            "Epoch 81/100\n",
            "484/484 [==============================] - 5s 11ms/step - loss: 4.5667 - accuracy: 0.1694\n",
            "Epoch 82/100\n",
            "484/484 [==============================] - 5s 11ms/step - loss: 4.5410 - accuracy: 0.1765\n",
            "Epoch 83/100\n",
            "484/484 [==============================] - 5s 11ms/step - loss: 4.5290 - accuracy: 0.1684\n",
            "Epoch 84/100\n",
            "484/484 [==============================] - 5s 11ms/step - loss: 4.5078 - accuracy: 0.1772\n",
            "Epoch 85/100\n",
            "484/484 [==============================] - 5s 11ms/step - loss: 4.4921 - accuracy: 0.1802\n",
            "Epoch 86/100\n",
            "484/484 [==============================] - 5s 11ms/step - loss: 4.4871 - accuracy: 0.1846\n",
            "Epoch 87/100\n",
            "484/484 [==============================] - 5s 11ms/step - loss: 4.4000 - accuracy: 0.1842\n",
            "Epoch 88/100\n",
            "484/484 [==============================] - 5s 11ms/step - loss: 4.3840 - accuracy: 0.1903\n",
            "Epoch 89/100\n",
            "484/484 [==============================] - 5s 11ms/step - loss: 4.4159 - accuracy: 0.1960\n",
            "Epoch 90/100\n",
            "484/484 [==============================] - 5s 11ms/step - loss: 4.3801 - accuracy: 0.1919\n",
            "Epoch 91/100\n",
            "484/484 [==============================] - 5s 11ms/step - loss: 4.3375 - accuracy: 0.1998\n",
            "Epoch 92/100\n",
            "484/484 [==============================] - 5s 11ms/step - loss: 4.3445 - accuracy: 0.1998\n",
            "Epoch 93/100\n",
            "484/484 [==============================] - 5s 11ms/step - loss: 4.3398 - accuracy: 0.2001\n",
            "Epoch 94/100\n",
            "484/484 [==============================] - 5s 11ms/step - loss: 4.2716 - accuracy: 0.2136\n",
            "Epoch 95/100\n",
            "484/484 [==============================] - 5s 11ms/step - loss: 4.2563 - accuracy: 0.2174\n",
            "Epoch 96/100\n",
            "484/484 [==============================] - 5s 11ms/step - loss: 4.2025 - accuracy: 0.2205\n",
            "Epoch 97/100\n",
            "484/484 [==============================] - 5s 11ms/step - loss: 4.1597 - accuracy: 0.2254\n",
            "Epoch 98/100\n",
            "484/484 [==============================] - 6s 11ms/step - loss: 4.1920 - accuracy: 0.2250\n",
            "Epoch 99/100\n",
            "484/484 [==============================] - 5s 11ms/step - loss: 4.1504 - accuracy: 0.2332\n",
            "Epoch 100/100\n",
            "484/484 [==============================] - 5s 11ms/step - loss: 4.1619 - accuracy: 0.2284\n"
          ],
          "name": "stdout"
        }
      ]
    },
    {
      "cell_type": "code",
      "metadata": {
        "id": "1fXTEO3GJ282",
        "colab": {
          "base_uri": "https://localhost:8080/",
          "height": 545
        },
        "outputId": "a6d7d3a7-a8e4-4351-f2d8-2ef74fa05b3b"
      },
      "source": [
        "import matplotlib.pyplot as plt\n",
        "acc = history.history['accuracy']\n",
        "loss = history.history['loss']\n",
        "\n",
        "epochs = range(len(acc))\n",
        "\n",
        "plt.plot(epochs, acc, 'b', label='Training accuracy')\n",
        "plt.title('Training accuracy')\n",
        "\n",
        "plt.figure()\n",
        "\n",
        "plt.plot(epochs, loss, 'b', label='Training Loss')\n",
        "plt.title('Training loss')\n",
        "plt.legend()\n",
        "\n",
        "plt.show()"
      ],
      "execution_count": 10,
      "outputs": [
        {
          "output_type": "display_data",
          "data": {
            "image/png": "[encoded data removed]",
            "text/plain": [
              "<Figure size 432x288 with 1 Axes>"
            ]
          },
          "metadata": {
            "tags": [],
            "needs_background": "light"
          }
        },
        {
          "output_type": "display_data",
          "data": {
            "image/png": "[encoded data removed]",
            "text/plain": [
              "<Figure size 432x288 with 1 Axes>"
            ]
          },
          "metadata": {
            "tags": [],
            "needs_background": "light"
          }
        }
      ]
    },
    {
      "cell_type": "code",
      "metadata": {
        "id": "6Vc6PHgxa6Hm",
        "colab": {
          "base_uri": "https://localhost:8080/"
        },
        "outputId": "e1aa2c76-c4d5-4040-e388-b0cbb00f5104"
      },
      "source": [
        "seed_text = \"Help me Obi Wan Kenobi, you're my only hope\"\n",
        "next_words = 100\n",
        "  \n",
        "for _ in range(next_words):\n",
        "\ttoken_list = tokenizer.texts_to_sequences([seed_text])[0]\n",
        "\ttoken_list = pad_sequences([token_list], maxlen=max_sequence_len-1, padding='pre')\n",
        "\tpredicted = model.predict_classes(token_list, verbose=0)\n",
        "\toutput_word = \"\"\n",
        "\tfor word, index in tokenizer.word_index.items():\n",
        "\t\tif index == predicted:\n",
        "\t\t\toutput_word = word\n",
        "\t\t\tbreak\n",
        "\tseed_text += \" \" + output_word\n",
        "print(seed_text)"
      ],
      "execution_count": 11,
      "outputs": [
        {
          "output_type": "stream",
          "text": [
            "/usr/local/lib/python3.7/dist-packages/tensorflow/python/keras/engine/sequential.py:450: UserWarning: `model.predict_classes()` is deprecated and will be removed after 2021-01-01. Please use instead:* `np.argmax(model.predict(x), axis=-1)`,   if your model does multi-class classification   (e.g. if it uses a `softmax` last-layer activation).* `(model.predict(x) > 0.5).astype(\"int32\")`,   if your model does binary classification   (e.g. if it uses a `sigmoid` last-layer activation).\n",
            "  warnings.warn('`model.predict_classes()` is deprecated and '\n"
          ],
          "name": "stderr"
        },
        {
          "output_type": "stream",
          "text": [
            "Help me Obi Wan Kenobi, you're my only hope and all the heart should wilt his love were truth i'll spend seen woe art shall art were maintain are boast to love thou see my love were be increase art and gone with thy heart were lie of this beauty brings store thou night were grossly gone of the love another own love finds the eye shall lie of me all love is in thee doth seen hymns more forth injury of ' can am seen injury of life should love another more which thou forth injury of water seen were injury and ill wilt seen see this forth\n"
          ],
          "name": "stdout"
        }
      ]
    },
    {
      "cell_type": "code",
      "metadata": {
        "id": "JjC0XDv5kl1c"
      },
      "source": [
        "``"
      ],
      "execution_count": null,
      "outputs": []
    }
  ]
}