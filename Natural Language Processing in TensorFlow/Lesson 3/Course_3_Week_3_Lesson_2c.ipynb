{
  "nbformat": 4,
  "nbformat_minor": 0,
  "metadata": {
    "accelerator": "GPU",
    "colab": {
      "name": "Course 3 - Week 3 - Lesson 2c.ipynb",
      "provenance": [],
      "collapsed_sections": [],
      "toc_visible": true,
      "include_colab_link": true
    },
    "kernelspec": {
      "display_name": "Python 3",
      "language": "python",
      "name": "python3"
    },
    "language_info": {
      "codemirror_mode": {
        "name": "ipython",
        "version": 3
      },
      "file_extension": ".py",
      "mimetype": "text/x-python",
      "name": "python",
      "nbconvert_exporter": "python",
      "pygments_lexer": "ipython3",
      "version": "3.7.6"
    }
  },
  "cells": [
    {
      "cell_type": "markdown",
      "metadata": {
        "id": "view-in-github",
        "colab_type": "text"
      },
      "source": [
        "<a href=\"https://colab.research.google.com/github/mohameddhameem/TensorflowCertification/blob/main/Natural%20Language%20Processing%20in%20TensorFlow/Lesson%203/Course_3_Week_3_Lesson_2c.ipynb\" target=\"_parent\"><img src=\"https://colab.research.google.com/assets/colab-badge.svg\" alt=\"Open In Colab\"/></a>"
      ]
    },
    {
      "cell_type": "code",
      "metadata": {
        "id": "zX4Kg8DUTKWO"
      },
      "source": [
        "#@title Licensed under the Apache License, Version 2.0 (the \"License\");\n",
        "# you may not use this file except in compliance with the License.\n",
        "# You may obtain a copy of the License at\n",
        "#\n",
        "# https://www.apache.org/licenses/LICENSE-2.0\n",
        "#\n",
        "# Unless required by applicable law or agreed to in writing, software\n",
        "# distributed under the License is distributed on an \"AS IS\" BASIS,\n",
        "# WITHOUT WARRANTIES OR CONDITIONS OF ANY KIND, either express or implied.\n",
        "# See the License for the specific language governing permissions and\n",
        "# limitations under the License."
      ],
      "execution_count": null,
      "outputs": []
    },
    {
      "cell_type": "markdown",
      "metadata": {
        "id": "lj8MsFtrouxt"
      },
      "source": [
        "<a href=\"https://colab.research.google.com/github/lmoroney/dlaicourse/blob/master/TensorFlow%20In%20Practice/Course%203%20-%20NLP/Course%203%20-%20Week%203%20-%20Lesson%202c.ipynb\" target=\"_parent\"><img src=\"https://colab.research.google.com/assets/colab-badge.svg\" alt=\"Open In Colab\"/></a>"
      ]
    },
    {
      "cell_type": "code",
      "metadata": {
        "id": "jGwXGIXvFhXW",
        "colab": {
          "base_uri": "https://localhost:8080/"
        },
        "outputId": "f2c22be1-b501-442b-9bef-9015fb81ccf1"
      },
      "source": [
        "import numpy as np\n",
        "\n",
        "import json\n",
        "import tensorflow as tf\n",
        "\n",
        "from tensorflow.keras.preprocessing.text import Tokenizer\n",
        "from tensorflow.keras.preprocessing.sequence import pad_sequences\n",
        "\n",
        "!wget --no-check-certificate \\\n",
        "    https://storage.googleapis.com/laurencemoroney-blog.appspot.com/sarcasm.json \\\n",
        "    -O /tmp/sarcasm.json\n",
        "\n",
        "vocab_size = 1000\n",
        "embedding_dim = 16\n",
        "max_length = 120\n",
        "trunc_type='post'\n",
        "padding_type='post'\n",
        "oov_tok = \"<OOV>\"\n",
        "training_size = 20000\n",
        "\n",
        "\n",
        "with open(\"/tmp/sarcasm.json\", 'r') as f:\n",
        "    datastore = json.load(f)\n",
        "\n",
        "\n",
        "sentences = []\n",
        "labels = []\n",
        "urls = []\n",
        "for item in datastore:\n",
        "    sentences.append(item['headline'])\n",
        "    labels.append(item['is_sarcastic'])\n",
        "\n",
        "training_sentences = sentences[0:training_size]\n",
        "testing_sentences = sentences[training_size:]\n",
        "training_labels = labels[0:training_size]\n",
        "testing_labels = labels[training_size:]\n",
        "\n",
        "tokenizer = Tokenizer(num_words=vocab_size, oov_token=oov_tok)\n",
        "tokenizer.fit_on_texts(training_sentences)\n",
        "\n",
        "word_index = tokenizer.word_index\n",
        "\n",
        "training_sequences = tokenizer.texts_to_sequences(training_sentences)\n",
        "training_padded = pad_sequences(training_sequences, maxlen=max_length, padding=padding_type, truncating=trunc_type)\n",
        "\n",
        "testing_sequences = tokenizer.texts_to_sequences(testing_sentences)\n",
        "testing_padded = pad_sequences(testing_sequences, maxlen=max_length, padding=padding_type, truncating=trunc_type)\n",
        "\n",
        "model = tf.keras.Sequential([\n",
        "    tf.keras.layers.Embedding(vocab_size, embedding_dim, input_length=max_length),\n",
        "    tf.keras.layers.Conv1D(128, 5, activation='relu'),\n",
        "    tf.keras.layers.GlobalMaxPooling1D(),\n",
        "    tf.keras.layers.Dense(24, activation='relu'),\n",
        "    tf.keras.layers.Dense(1, activation='sigmoid')\n",
        "])\n",
        "model.compile(loss='binary_crossentropy',optimizer='adam',metrics=['accuracy'])\n",
        "model.summary()\n",
        "\n",
        "num_epochs = 50\n",
        "\n",
        "training_padded = np.array(training_padded)\n",
        "training_labels = np.array(training_labels)\n",
        "testing_padded = np.array(testing_padded)\n",
        "testing_labels = np.array(testing_labels)\n",
        "\n",
        "history = model.fit(training_padded, training_labels, epochs=num_epochs, validation_data=(testing_padded, testing_labels), verbose=1)\n"
      ],
      "execution_count": 1,
      "outputs": [
        {
          "output_type": "stream",
          "text": [
            "--2021-05-09 05:39:51--  https://storage.googleapis.com/laurencemoroney-blog.appspot.com/sarcasm.json\n",
            "Resolving storage.googleapis.com (storage.googleapis.com)... 172.217.15.80, 172.217.13.80, 172.217.13.240, ...\n",
            "Connecting to storage.googleapis.com (storage.googleapis.com)|172.217.15.80|:443... connected.\n",
            "HTTP request sent, awaiting response... 200 OK\n",
            "Length: 5643545 (5.4M) [application/json]\n",
            "Saving to: ‘/tmp/sarcasm.json’\n",
            "\n",
            "\r/tmp/sarcasm.json     0%[                    ]       0  --.-KB/s               \r/tmp/sarcasm.json   100%[===================>]   5.38M  --.-KB/s    in 0.05s   \n",
            "\n",
            "2021-05-09 05:39:51 (107 MB/s) - ‘/tmp/sarcasm.json’ saved [5643545/5643545]\n",
            "\n",
            "Model: \"sequential\"\n",
            "_________________________________________________________________\n",
            "Layer (type)                 Output Shape              Param #   \n",
            "=================================================================\n",
            "embedding (Embedding)        (None, 120, 16)           16000     \n",
            "_________________________________________________________________\n",
            "conv1d (Conv1D)              (None, 116, 128)          10368     \n",
            "_________________________________________________________________\n",
            "global_max_pooling1d (Global (None, 128)               0         \n",
            "_________________________________________________________________\n",
            "dense (Dense)                (None, 24)                3096      \n",
            "_________________________________________________________________\n",
            "dense_1 (Dense)              (None, 1)                 25        \n",
            "=================================================================\n",
            "Total params: 29,489\n",
            "Trainable params: 29,489\n",
            "Non-trainable params: 0\n",
            "_________________________________________________________________\n",
            "Epoch 1/50\n",
            "625/625 [==============================] - 36s 5ms/step - loss: 0.5574 - accuracy: 0.6830 - val_loss: 0.4055 - val_accuracy: 0.8149\n",
            "Epoch 2/50\n",
            "625/625 [==============================] - 3s 4ms/step - loss: 0.3543 - accuracy: 0.8439 - val_loss: 0.3852 - val_accuracy: 0.8275\n",
            "Epoch 3/50\n",
            "625/625 [==============================] - 2s 4ms/step - loss: 0.3085 - accuracy: 0.8622 - val_loss: 0.3908 - val_accuracy: 0.8252\n",
            "Epoch 4/50\n",
            "625/625 [==============================] - 3s 4ms/step - loss: 0.2688 - accuracy: 0.8865 - val_loss: 0.4105 - val_accuracy: 0.8189\n",
            "Epoch 5/50\n",
            "625/625 [==============================] - 2s 4ms/step - loss: 0.2380 - accuracy: 0.8998 - val_loss: 0.4301 - val_accuracy: 0.8158\n",
            "Epoch 6/50\n",
            "625/625 [==============================] - 3s 4ms/step - loss: 0.2039 - accuracy: 0.9168 - val_loss: 0.4718 - val_accuracy: 0.8140\n",
            "Epoch 7/50\n",
            "625/625 [==============================] - 2s 4ms/step - loss: 0.1723 - accuracy: 0.9359 - val_loss: 0.5034 - val_accuracy: 0.8146\n",
            "Epoch 8/50\n",
            "625/625 [==============================] - 3s 4ms/step - loss: 0.1360 - accuracy: 0.9514 - val_loss: 0.5561 - val_accuracy: 0.8116\n",
            "Epoch 9/50\n",
            "625/625 [==============================] - 2s 4ms/step - loss: 0.1116 - accuracy: 0.9632 - val_loss: 0.6363 - val_accuracy: 0.8049\n",
            "Epoch 10/50\n",
            "625/625 [==============================] - 2s 4ms/step - loss: 0.0972 - accuracy: 0.9672 - val_loss: 0.7501 - val_accuracy: 0.8032\n",
            "Epoch 11/50\n",
            "625/625 [==============================] - 2s 4ms/step - loss: 0.0805 - accuracy: 0.9710 - val_loss: 0.8261 - val_accuracy: 0.8030\n",
            "Epoch 12/50\n",
            "625/625 [==============================] - 2s 4ms/step - loss: 0.0664 - accuracy: 0.9772 - val_loss: 0.8982 - val_accuracy: 0.8007\n",
            "Epoch 13/50\n",
            "625/625 [==============================] - 3s 4ms/step - loss: 0.0524 - accuracy: 0.9822 - val_loss: 0.9604 - val_accuracy: 0.7928\n",
            "Epoch 14/50\n",
            "625/625 [==============================] - 3s 4ms/step - loss: 0.0486 - accuracy: 0.9808 - val_loss: 1.0766 - val_accuracy: 0.7989\n",
            "Epoch 15/50\n",
            "625/625 [==============================] - 3s 4ms/step - loss: 0.0419 - accuracy: 0.9857 - val_loss: 1.1568 - val_accuracy: 0.7979\n",
            "Epoch 16/50\n",
            "625/625 [==============================] - 2s 4ms/step - loss: 0.0407 - accuracy: 0.9836 - val_loss: 1.2490 - val_accuracy: 0.7985\n",
            "Epoch 17/50\n",
            "625/625 [==============================] - 2s 4ms/step - loss: 0.0359 - accuracy: 0.9868 - val_loss: 1.2837 - val_accuracy: 0.7934\n",
            "Epoch 18/50\n",
            "625/625 [==============================] - 2s 4ms/step - loss: 0.0435 - accuracy: 0.9830 - val_loss: 1.4297 - val_accuracy: 0.7895\n",
            "Epoch 19/50\n",
            "625/625 [==============================] - 2s 4ms/step - loss: 0.0337 - accuracy: 0.9862 - val_loss: 1.4558 - val_accuracy: 0.7983\n",
            "Epoch 20/50\n",
            "625/625 [==============================] - 2s 4ms/step - loss: 0.0277 - accuracy: 0.9895 - val_loss: 1.5445 - val_accuracy: 0.7848\n",
            "Epoch 21/50\n",
            "625/625 [==============================] - 3s 4ms/step - loss: 0.0275 - accuracy: 0.9890 - val_loss: 1.6029 - val_accuracy: 0.7974\n",
            "Epoch 22/50\n",
            "625/625 [==============================] - 3s 4ms/step - loss: 0.0309 - accuracy: 0.9860 - val_loss: 1.7648 - val_accuracy: 0.7918\n",
            "Epoch 23/50\n",
            "625/625 [==============================] - 3s 4ms/step - loss: 0.0307 - accuracy: 0.9877 - val_loss: 1.6929 - val_accuracy: 0.7934\n",
            "Epoch 24/50\n",
            "625/625 [==============================] - 3s 4ms/step - loss: 0.0332 - accuracy: 0.9863 - val_loss: 1.7008 - val_accuracy: 0.7968\n",
            "Epoch 25/50\n",
            "625/625 [==============================] - 3s 4ms/step - loss: 0.0293 - accuracy: 0.9880 - val_loss: 1.7493 - val_accuracy: 0.7933\n",
            "Epoch 26/50\n",
            "625/625 [==============================] - 3s 4ms/step - loss: 0.0210 - accuracy: 0.9904 - val_loss: 1.8463 - val_accuracy: 0.7933\n",
            "Epoch 27/50\n",
            "625/625 [==============================] - 3s 4ms/step - loss: 0.0165 - accuracy: 0.9927 - val_loss: 1.8496 - val_accuracy: 0.7927\n",
            "Epoch 28/50\n",
            "625/625 [==============================] - 3s 4ms/step - loss: 0.0216 - accuracy: 0.9904 - val_loss: 1.9317 - val_accuracy: 0.7889\n",
            "Epoch 29/50\n",
            "625/625 [==============================] - 3s 4ms/step - loss: 0.0283 - accuracy: 0.9884 - val_loss: 1.9339 - val_accuracy: 0.7900\n",
            "Epoch 30/50\n",
            "625/625 [==============================] - 3s 4ms/step - loss: 0.0311 - accuracy: 0.9867 - val_loss: 1.9483 - val_accuracy: 0.7925\n",
            "Epoch 31/50\n",
            "625/625 [==============================] - 3s 4ms/step - loss: 0.0238 - accuracy: 0.9899 - val_loss: 1.9450 - val_accuracy: 0.7939\n",
            "Epoch 32/50\n",
            "625/625 [==============================] - 3s 4ms/step - loss: 0.0185 - accuracy: 0.9921 - val_loss: 2.1027 - val_accuracy: 0.7915\n",
            "Epoch 33/50\n",
            "625/625 [==============================] - 3s 4ms/step - loss: 0.0198 - accuracy: 0.9916 - val_loss: 2.1743 - val_accuracy: 0.7949\n",
            "Epoch 34/50\n",
            "625/625 [==============================] - 3s 4ms/step - loss: 0.0266 - accuracy: 0.9883 - val_loss: 2.2907 - val_accuracy: 0.7906\n",
            "Epoch 35/50\n",
            "625/625 [==============================] - 2s 4ms/step - loss: 0.0225 - accuracy: 0.9894 - val_loss: 2.2265 - val_accuracy: 0.7971\n",
            "Epoch 36/50\n",
            "625/625 [==============================] - 3s 4ms/step - loss: 0.0285 - accuracy: 0.9894 - val_loss: 2.3318 - val_accuracy: 0.7898\n",
            "Epoch 37/50\n",
            "625/625 [==============================] - 3s 4ms/step - loss: 0.0209 - accuracy: 0.9904 - val_loss: 2.3264 - val_accuracy: 0.7940\n",
            "Epoch 38/50\n",
            "625/625 [==============================] - 3s 4ms/step - loss: 0.0212 - accuracy: 0.9904 - val_loss: 2.3158 - val_accuracy: 0.7946\n",
            "Epoch 39/50\n",
            "625/625 [==============================] - 3s 4ms/step - loss: 0.0234 - accuracy: 0.9908 - val_loss: 2.2890 - val_accuracy: 0.7949\n",
            "Epoch 40/50\n",
            "625/625 [==============================] - 3s 4ms/step - loss: 0.0211 - accuracy: 0.9907 - val_loss: 2.3153 - val_accuracy: 0.7882\n",
            "Epoch 41/50\n",
            "625/625 [==============================] - 3s 4ms/step - loss: 0.0199 - accuracy: 0.9907 - val_loss: 2.2851 - val_accuracy: 0.7866\n",
            "Epoch 42/50\n",
            "625/625 [==============================] - 3s 4ms/step - loss: 0.0196 - accuracy: 0.9915 - val_loss: 2.4208 - val_accuracy: 0.7867\n",
            "Epoch 43/50\n",
            "625/625 [==============================] - 3s 4ms/step - loss: 0.0168 - accuracy: 0.9929 - val_loss: 2.4180 - val_accuracy: 0.7839\n",
            "Epoch 44/50\n",
            "625/625 [==============================] - 2s 4ms/step - loss: 0.0164 - accuracy: 0.9927 - val_loss: 2.6032 - val_accuracy: 0.7861\n",
            "Epoch 45/50\n",
            "625/625 [==============================] - 2s 4ms/step - loss: 0.0227 - accuracy: 0.9902 - val_loss: 2.3933 - val_accuracy: 0.7860\n",
            "Epoch 46/50\n",
            "625/625 [==============================] - 2s 4ms/step - loss: 0.0267 - accuracy: 0.9891 - val_loss: 2.4207 - val_accuracy: 0.7901\n",
            "Epoch 47/50\n",
            "625/625 [==============================] - 3s 4ms/step - loss: 0.0226 - accuracy: 0.9902 - val_loss: 2.6182 - val_accuracy: 0.7894\n",
            "Epoch 48/50\n",
            "625/625 [==============================] - 3s 4ms/step - loss: 0.0179 - accuracy: 0.9915 - val_loss: 2.5489 - val_accuracy: 0.7816\n",
            "Epoch 49/50\n",
            "625/625 [==============================] - 3s 4ms/step - loss: 0.0172 - accuracy: 0.9926 - val_loss: 2.7014 - val_accuracy: 0.7931\n",
            "Epoch 50/50\n",
            "625/625 [==============================] - 2s 4ms/step - loss: 0.0164 - accuracy: 0.9923 - val_loss: 2.5999 - val_accuracy: 0.7897\n"
          ],
          "name": "stdout"
        }
      ]
    },
    {
      "cell_type": "code",
      "metadata": {
        "id": "g9DC6dmLF8DC",
        "colab": {
          "base_uri": "https://localhost:8080/",
          "height": 542
        },
        "outputId": "7cffa97d-64f4-4b55-ab49-f0d16d07dd02"
      },
      "source": [
        "import matplotlib.pyplot as plt\n",
        "\n",
        "\n",
        "def plot_graphs(history, string):\n",
        "  plt.plot(history.history[string])\n",
        "  plt.plot(history.history['val_'+string])\n",
        "  plt.xlabel(\"Epochs\")\n",
        "  plt.ylabel(string)\n",
        "  plt.legend([string, 'val_'+string])\n",
        "  plt.show()\n",
        "\n",
        "plot_graphs(history, 'accuracy')\n",
        "plot_graphs(history, 'loss')"
      ],
      "execution_count": 2,
      "outputs": [
        {
          "output_type": "display_data",
          "data": {
            "image/png": "[encoded data removed]",
            "text/plain": [
              "<Figure size 432x288 with 1 Axes>"
            ]
          },
          "metadata": {
            "tags": [],
            "needs_background": "light"
          }
        },
        {
          "output_type": "display_data",
          "data": {
            "image/png": "[encoded data removed]",
            "text/plain": [
              "<Figure size 432x288 with 1 Axes>"
            ]
          },
          "metadata": {
            "tags": [],
            "needs_background": "light"
          }
        }
      ]
    },
    {
      "cell_type": "code",
      "metadata": {
        "id": "7ZEZIUppGhdi"
      },
      "source": [
        "model.save(\"test.h5\")"
      ],
      "execution_count": null,
      "outputs": []
    }
  ]
}