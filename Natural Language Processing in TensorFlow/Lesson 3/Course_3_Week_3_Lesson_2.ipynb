{
  "nbformat": 4,
  "nbformat_minor": 0,
  "metadata": {
    "accelerator": "GPU",
    "colab": {
      "name": "Course 3 - Week 3 - Lesson 2.ipynb",
      "provenance": [],
      "collapsed_sections": [],
      "toc_visible": true,
      "include_colab_link": true
    },
    "kernelspec": {
      "display_name": "Python 3",
      "language": "python",
      "name": "python3"
    },
    "language_info": {
      "codemirror_mode": {
        "name": "ipython",
        "version": 3
      },
      "file_extension": ".py",
      "mimetype": "text/x-python",
      "name": "python",
      "nbconvert_exporter": "python",
      "pygments_lexer": "ipython3",
      "version": "3.7.6"
    }
  },
  "cells": [
    {
      "cell_type": "markdown",
      "metadata": {
        "id": "view-in-github",
        "colab_type": "text"
      },
      "source": [
        "<a href=\"https://colab.research.google.com/github/mohameddhameem/TensorflowCertification/blob/main/Natural%20Language%20Processing%20in%20TensorFlow/Lesson%203/Course_3_Week_3_Lesson_2.ipynb\" target=\"_parent\"><img src=\"https://colab.research.google.com/assets/colab-badge.svg\" alt=\"Open In Colab\"/></a>"
      ]
    },
    {
      "cell_type": "code",
      "metadata": {
        "id": "zX4Kg8DUTKWO"
      },
      "source": [
        "#@title Licensed under the Apache License, Version 2.0 (the \"License\");\n",
        "# you may not use this file except in compliance with the License.\n",
        "# You may obtain a copy of the License at\n",
        "#\n",
        "# https://www.apache.org/licenses/LICENSE-2.0\n",
        "#\n",
        "# Unless required by applicable law or agreed to in writing, software\n",
        "# distributed under the License is distributed on an \"AS IS\" BASIS,\n",
        "# WITHOUT WARRANTIES OR CONDITIONS OF ANY KIND, either express or implied.\n",
        "# See the License for the specific language governing permissions and\n",
        "# limitations under the License."
      ],
      "execution_count": null,
      "outputs": []
    },
    {
      "cell_type": "markdown",
      "metadata": {
        "id": "ExT4gTkemoEZ"
      },
      "source": [
        "<a href=\"https://colab.research.google.com/github/lmoroney/dlaicourse/blob/master/TensorFlow%20In%20Practice/Course%203%20-%20NLP/Course%203%20-%20Week%203%20-%20Lesson%202.ipynb\" target=\"_parent\"><img src=\"https://colab.research.google.com/assets/colab-badge.svg\" alt=\"Open In Colab\"/></a>"
      ]
    },
    {
      "cell_type": "code",
      "metadata": {
        "id": "jGwXGIXvFhXW",
        "colab": {
          "base_uri": "https://localhost:8080/"
        },
        "outputId": "934ef99f-b81a-43cc-f147-9f92578a9100"
      },
      "source": [
        "import numpy as np\n",
        "\n",
        "import json\n",
        "import tensorflow as tf\n",
        "\n",
        "from tensorflow.keras.preprocessing.text import Tokenizer\n",
        "from tensorflow.keras.preprocessing.sequence import pad_sequences\n",
        "\n",
        "!wget --no-check-certificate \\\n",
        "    https://storage.googleapis.com/laurencemoroney-blog.appspot.com/sarcasm.json \\\n",
        "    -O /tmp/sarcasm.json\n",
        "\n",
        "vocab_size = 1000\n",
        "embedding_dim = 16\n",
        "max_length = 120\n",
        "trunc_type='post'\n",
        "padding_type='post'\n",
        "oov_tok = \"<OOV>\"\n",
        "training_size = 20000\n",
        "\n",
        "\n",
        "with open(\"/tmp/sarcasm.json\", 'r') as f:\n",
        "    datastore = json.load(f)\n",
        "\n",
        "\n",
        "sentences = []\n",
        "labels = []\n",
        "urls = []\n",
        "for item in datastore:\n",
        "    sentences.append(item['headline'])\n",
        "    labels.append(item['is_sarcastic'])\n",
        "\n",
        "training_sentences = sentences[0:training_size]\n",
        "testing_sentences = sentences[training_size:]\n",
        "training_labels = labels[0:training_size]\n",
        "testing_labels = labels[training_size:]\n",
        "\n",
        "tokenizer = Tokenizer(num_words=vocab_size, oov_token=oov_tok)\n",
        "tokenizer.fit_on_texts(training_sentences)\n",
        "\n",
        "word_index = tokenizer.word_index\n",
        "\n",
        "training_sequences = tokenizer.texts_to_sequences(training_sentences)\n",
        "training_padded = pad_sequences(training_sequences, maxlen=max_length, padding=padding_type, truncating=trunc_type)\n",
        "\n",
        "testing_sequences = tokenizer.texts_to_sequences(testing_sentences)\n",
        "testing_padded = pad_sequences(testing_sequences, maxlen=max_length, padding=padding_type, truncating=trunc_type)\n",
        "\n",
        "model = tf.keras.Sequential([\n",
        "    tf.keras.layers.Embedding(vocab_size, embedding_dim, input_length=max_length),\n",
        "    tf.keras.layers.Bidirectional(tf.keras.layers.LSTM(32)),\n",
        "    tf.keras.layers.Dense(24, activation='relu'),\n",
        "    tf.keras.layers.Dense(1, activation='sigmoid')\n",
        "])\n",
        "model.compile(loss='binary_crossentropy',optimizer='adam',metrics=['accuracy'])\n",
        "model.summary()\n",
        "\n",
        "num_epochs = 50\n",
        "training_padded = np.array(training_padded)\n",
        "training_labels = np.array(training_labels)\n",
        "testing_padded = np.array(testing_padded)\n",
        "testing_labels = np.array(testing_labels)\n",
        "history = model.fit(training_padded, training_labels, epochs=num_epochs, validation_data=(testing_padded, testing_labels), verbose=1)\n"
      ],
      "execution_count": 1,
      "outputs": [
        {
          "output_type": "stream",
          "text": [
            "--2021-05-09 05:31:19--  https://storage.googleapis.com/laurencemoroney-blog.appspot.com/sarcasm.json\n",
            "Resolving storage.googleapis.com (storage.googleapis.com)... 172.217.12.240, 142.251.33.208, 142.250.81.208, ...\n",
            "Connecting to storage.googleapis.com (storage.googleapis.com)|172.217.12.240|:443... connected.\n",
            "HTTP request sent, awaiting response... 200 OK\n",
            "Length: 5643545 (5.4M) [application/json]\n",
            "Saving to: ‘/tmp/sarcasm.json’\n",
            "\n",
            "\r/tmp/sarcasm.json     0%[                    ]       0  --.-KB/s               \r/tmp/sarcasm.json   100%[===================>]   5.38M  --.-KB/s    in 0.05s   \n",
            "\n",
            "2021-05-09 05:31:20 (107 MB/s) - ‘/tmp/sarcasm.json’ saved [5643545/5643545]\n",
            "\n",
            "Model: \"sequential\"\n",
            "_________________________________________________________________\n",
            "Layer (type)                 Output Shape              Param #   \n",
            "=================================================================\n",
            "embedding (Embedding)        (None, 120, 16)           16000     \n",
            "_________________________________________________________________\n",
            "bidirectional (Bidirectional (None, 64)                12544     \n",
            "_________________________________________________________________\n",
            "dense (Dense)                (None, 24)                1560      \n",
            "_________________________________________________________________\n",
            "dense_1 (Dense)              (None, 1)                 25        \n",
            "=================================================================\n",
            "Total params: 30,129\n",
            "Trainable params: 30,129\n",
            "Non-trainable params: 0\n",
            "_________________________________________________________________\n",
            "Epoch 1/50\n",
            "625/625 [==============================] - 42s 14ms/step - loss: 0.5424 - accuracy: 0.6933 - val_loss: 0.3982 - val_accuracy: 0.8141\n",
            "Epoch 2/50\n",
            "625/625 [==============================] - 8s 12ms/step - loss: 0.3500 - accuracy: 0.8404 - val_loss: 0.3872 - val_accuracy: 0.8243\n",
            "Epoch 3/50\n",
            "625/625 [==============================] - 8s 12ms/step - loss: 0.3304 - accuracy: 0.8536 - val_loss: 0.3701 - val_accuracy: 0.8337\n",
            "Epoch 4/50\n",
            "625/625 [==============================] - 8s 12ms/step - loss: 0.3051 - accuracy: 0.8642 - val_loss: 0.3787 - val_accuracy: 0.8277\n",
            "Epoch 5/50\n",
            "625/625 [==============================] - 8s 12ms/step - loss: 0.3020 - accuracy: 0.8694 - val_loss: 0.3718 - val_accuracy: 0.8329\n",
            "Epoch 6/50\n",
            "625/625 [==============================] - 8s 12ms/step - loss: 0.2807 - accuracy: 0.8789 - val_loss: 0.3837 - val_accuracy: 0.8311\n",
            "Epoch 7/50\n",
            "625/625 [==============================] - 8s 12ms/step - loss: 0.2746 - accuracy: 0.8788 - val_loss: 0.3856 - val_accuracy: 0.8286\n",
            "Epoch 8/50\n",
            "625/625 [==============================] - 8s 12ms/step - loss: 0.2692 - accuracy: 0.8824 - val_loss: 0.3851 - val_accuracy: 0.8304\n",
            "Epoch 9/50\n",
            "625/625 [==============================] - 8s 12ms/step - loss: 0.2601 - accuracy: 0.8866 - val_loss: 0.3909 - val_accuracy: 0.8325\n",
            "Epoch 10/50\n",
            "625/625 [==============================] - 8s 12ms/step - loss: 0.2535 - accuracy: 0.8918 - val_loss: 0.3899 - val_accuracy: 0.8271\n",
            "Epoch 11/50\n",
            "625/625 [==============================] - 8s 12ms/step - loss: 0.2453 - accuracy: 0.8931 - val_loss: 0.3934 - val_accuracy: 0.8299\n",
            "Epoch 12/50\n",
            "625/625 [==============================] - 8s 12ms/step - loss: 0.2408 - accuracy: 0.8963 - val_loss: 0.4015 - val_accuracy: 0.8269\n",
            "Epoch 13/50\n",
            "625/625 [==============================] - 8s 12ms/step - loss: 0.2297 - accuracy: 0.9020 - val_loss: 0.4254 - val_accuracy: 0.8255\n",
            "Epoch 14/50\n",
            "625/625 [==============================] - 8s 12ms/step - loss: 0.2200 - accuracy: 0.9066 - val_loss: 0.4288 - val_accuracy: 0.8202\n",
            "Epoch 15/50\n",
            "625/625 [==============================] - 8s 12ms/step - loss: 0.2145 - accuracy: 0.9105 - val_loss: 0.4629 - val_accuracy: 0.8186\n",
            "Epoch 16/50\n",
            "625/625 [==============================] - 8s 12ms/step - loss: 0.2088 - accuracy: 0.9134 - val_loss: 0.4733 - val_accuracy: 0.8193\n",
            "Epoch 17/50\n",
            "625/625 [==============================] - 8s 12ms/step - loss: 0.1958 - accuracy: 0.9209 - val_loss: 0.4903 - val_accuracy: 0.8183\n",
            "Epoch 18/50\n",
            "625/625 [==============================] - 8s 12ms/step - loss: 0.1895 - accuracy: 0.9213 - val_loss: 0.5385 - val_accuracy: 0.8161\n",
            "Epoch 19/50\n",
            "625/625 [==============================] - 8s 12ms/step - loss: 0.1859 - accuracy: 0.9256 - val_loss: 0.5331 - val_accuracy: 0.8119\n",
            "Epoch 20/50\n",
            "625/625 [==============================] - 8s 12ms/step - loss: 0.1844 - accuracy: 0.9249 - val_loss: 0.5580 - val_accuracy: 0.8189\n",
            "Epoch 21/50\n",
            "625/625 [==============================] - 8s 12ms/step - loss: 0.1747 - accuracy: 0.9281 - val_loss: 0.5508 - val_accuracy: 0.8150\n",
            "Epoch 22/50\n",
            "625/625 [==============================] - 8s 12ms/step - loss: 0.1689 - accuracy: 0.9315 - val_loss: 0.6135 - val_accuracy: 0.8155\n",
            "Epoch 23/50\n",
            "625/625 [==============================] - 8s 12ms/step - loss: 0.1632 - accuracy: 0.9341 - val_loss: 0.6160 - val_accuracy: 0.8027\n",
            "Epoch 24/50\n",
            "625/625 [==============================] - 8s 12ms/step - loss: 0.1572 - accuracy: 0.9358 - val_loss: 0.6650 - val_accuracy: 0.8073\n",
            "Epoch 25/50\n",
            "625/625 [==============================] - 8s 12ms/step - loss: 0.1503 - accuracy: 0.9401 - val_loss: 0.7969 - val_accuracy: 0.8092\n",
            "Epoch 26/50\n",
            "625/625 [==============================] - 8s 12ms/step - loss: 0.1438 - accuracy: 0.9430 - val_loss: 0.6962 - val_accuracy: 0.7998\n",
            "Epoch 27/50\n",
            "625/625 [==============================] - 8s 12ms/step - loss: 0.1355 - accuracy: 0.9476 - val_loss: 0.7081 - val_accuracy: 0.8032\n",
            "Epoch 28/50\n",
            "625/625 [==============================] - 8s 12ms/step - loss: 0.1340 - accuracy: 0.9499 - val_loss: 0.7898 - val_accuracy: 0.8043\n",
            "Epoch 29/50\n",
            "625/625 [==============================] - 8s 12ms/step - loss: 0.1268 - accuracy: 0.9512 - val_loss: 0.8495 - val_accuracy: 0.8034\n",
            "Epoch 30/50\n",
            "625/625 [==============================] - 8s 13ms/step - loss: 0.1229 - accuracy: 0.9526 - val_loss: 0.8270 - val_accuracy: 0.8037\n",
            "Epoch 31/50\n",
            "625/625 [==============================] - 8s 13ms/step - loss: 0.1208 - accuracy: 0.9519 - val_loss: 0.8996 - val_accuracy: 0.8028\n",
            "Epoch 32/50\n",
            "625/625 [==============================] - 8s 13ms/step - loss: 0.1155 - accuracy: 0.9552 - val_loss: 0.9099 - val_accuracy: 0.8070\n",
            "Epoch 33/50\n",
            "625/625 [==============================] - 8s 12ms/step - loss: 0.1079 - accuracy: 0.9574 - val_loss: 1.0100 - val_accuracy: 0.7974\n",
            "Epoch 34/50\n",
            "625/625 [==============================] - 8s 12ms/step - loss: 0.1119 - accuracy: 0.9555 - val_loss: 1.0459 - val_accuracy: 0.7964\n",
            "Epoch 35/50\n",
            "625/625 [==============================] - 8s 12ms/step - loss: 0.1053 - accuracy: 0.9599 - val_loss: 1.0131 - val_accuracy: 0.7980\n",
            "Epoch 36/50\n",
            "625/625 [==============================] - 8s 12ms/step - loss: 0.0967 - accuracy: 0.9618 - val_loss: 1.0731 - val_accuracy: 0.7994\n",
            "Epoch 37/50\n",
            "625/625 [==============================] - 8s 12ms/step - loss: 0.0970 - accuracy: 0.9609 - val_loss: 1.1133 - val_accuracy: 0.8019\n",
            "Epoch 38/50\n",
            "625/625 [==============================] - 8s 12ms/step - loss: 0.0898 - accuracy: 0.9645 - val_loss: 1.2466 - val_accuracy: 0.7983\n",
            "Epoch 39/50\n",
            "625/625 [==============================] - 8s 12ms/step - loss: 0.0824 - accuracy: 0.9673 - val_loss: 1.2446 - val_accuracy: 0.8040\n",
            "Epoch 40/50\n",
            "625/625 [==============================] - 8s 12ms/step - loss: 0.0865 - accuracy: 0.9650 - val_loss: 1.2639 - val_accuracy: 0.7994\n",
            "Epoch 41/50\n",
            "625/625 [==============================] - 8s 12ms/step - loss: 0.0804 - accuracy: 0.9677 - val_loss: 1.3154 - val_accuracy: 0.7988\n",
            "Epoch 42/50\n",
            "625/625 [==============================] - 8s 13ms/step - loss: 0.0730 - accuracy: 0.9711 - val_loss: 1.4610 - val_accuracy: 0.7931\n",
            "Epoch 43/50\n",
            "625/625 [==============================] - 8s 12ms/step - loss: 0.0790 - accuracy: 0.9700 - val_loss: 1.3809 - val_accuracy: 0.7968\n",
            "Epoch 44/50\n",
            "625/625 [==============================] - 8s 12ms/step - loss: 0.0745 - accuracy: 0.9693 - val_loss: 1.4961 - val_accuracy: 0.7925\n",
            "Epoch 45/50\n",
            "625/625 [==============================] - 8s 12ms/step - loss: 0.0654 - accuracy: 0.9735 - val_loss: 1.4954 - val_accuracy: 0.7942\n",
            "Epoch 46/50\n",
            "625/625 [==============================] - 8s 12ms/step - loss: 0.0685 - accuracy: 0.9731 - val_loss: 1.4271 - val_accuracy: 0.7982\n",
            "Epoch 47/50\n",
            "625/625 [==============================] - 8s 12ms/step - loss: 0.0637 - accuracy: 0.9731 - val_loss: 1.5702 - val_accuracy: 0.7964\n",
            "Epoch 48/50\n",
            "625/625 [==============================] - 8s 12ms/step - loss: 0.0603 - accuracy: 0.9743 - val_loss: 1.7414 - val_accuracy: 0.7974\n",
            "Epoch 49/50\n",
            "625/625 [==============================] - 8s 12ms/step - loss: 0.0607 - accuracy: 0.9755 - val_loss: 1.7154 - val_accuracy: 0.7988\n",
            "Epoch 50/50\n",
            "625/625 [==============================] - 8s 12ms/step - loss: 0.0636 - accuracy: 0.9740 - val_loss: 1.5960 - val_accuracy: 0.7934\n"
          ],
          "name": "stdout"
        }
      ]
    },
    {
      "cell_type": "code",
      "metadata": {
        "id": "g9DC6dmLF8DC",
        "colab": {
          "base_uri": "https://localhost:8080/",
          "height": 541
        },
        "outputId": "3e6ce00b-835e-4db9-c92e-dca03b5441bb"
      },
      "source": [
        "import matplotlib.pyplot as plt\n",
        "\n",
        "\n",
        "def plot_graphs(history, string):\n",
        "  plt.plot(history.history[string])\n",
        "  plt.plot(history.history['val_'+string])\n",
        "  plt.xlabel(\"Epochs\")\n",
        "  plt.ylabel(string)\n",
        "  plt.legend([string, 'val_'+string])\n",
        "  plt.show()\n",
        "\n",
        "plot_graphs(history, 'accuracy')\n",
        "plot_graphs(history, 'loss')"
      ],
      "execution_count": 2,
      "outputs": [
        {
          "output_type": "display_data",
          "data": {
            "image/png": "[encoded data removed]",
            "text/plain": [
              "<Figure size 432x288 with 1 Axes>"
            ]
          },
          "metadata": {
            "tags": [],
            "needs_background": "light"
          }
        },
        {
          "output_type": "display_data",
          "data": {
            "image/png": "[encoded data removed]",
            "text/plain": [
              "<Figure size 432x288 with 1 Axes>"
            ]
          },
          "metadata": {
            "tags": [],
            "needs_background": "light"
          }
        }
      ]
    },
    {
      "cell_type": "code",
      "metadata": {
        "id": "7ZEZIUppGhdi"
      },
      "source": [
        "model.save(\"test.h5\")"
      ],
      "execution_count": null,
      "outputs": []
    }
  ]
}