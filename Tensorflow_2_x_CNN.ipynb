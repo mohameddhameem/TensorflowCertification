{
  "nbformat": 4,
  "nbformat_minor": 0,
  "metadata": {
    "accelerator": "GPU",
    "colab": {
      "name": "Tensorflow 2.x CNN.ipynb",
      "provenance": [],
      "authorship_tag": "ABX9TyOfKzLVN1b1vbVOTEZj1dqE",
      "include_colab_link": true
    },
    "kernelspec": {
      "display_name": "Python 3",
      "name": "python3"
    }
  },
  "cells": [
    {
      "cell_type": "markdown",
      "metadata": {
        "id": "view-in-github",
        "colab_type": "text"
      },
      "source": [
        "<a href=\"https://colab.research.google.com/github/mohameddhameem/TensorflowCertification/blob/main/Tensorflow_2_x_CNN.ipynb\" target=\"_parent\"><img src=\"https://colab.research.google.com/assets/colab-badge.svg\" alt=\"Open In Colab\"/></a>"
      ]
    },
    {
      "cell_type": "markdown",
      "metadata": {
        "id": "vuDEK-18Qb7j"
      },
      "source": [
        "# Tensorflow 2.x CNN"
      ]
    },
    {
      "cell_type": "code",
      "metadata": {
        "id": "7UlpggItQLTJ"
      },
      "source": [
        "import tensorflow as tf\n",
        "from tensorflow.keras import datasets, layers, models, optimizers\n",
        "\n",
        "EPOCHS = 20\n",
        "BATCH_SIZE = 128\n",
        "VERBOSE = 1\n",
        "OPTIMIZER = tf.keras.optimizers.Adam()\n",
        "VALIDATION_SPLIT = 0.3\n",
        "IMG_ROWS, IMG_COLS = 28, 28\n",
        "INPUT_SHAPE = (IMG_ROWS, IMG_COLS, 1) # We use only 1 channel\n",
        "NB_CLASSES = 10"
      ],
      "execution_count": 1,
      "outputs": []
    },
    {
      "cell_type": "code",
      "metadata": {
        "id": "Ui0JhfZEQ-XG"
      },
      "source": [
        "#Lets build the model\n",
        "def build(input_shape, classes):\n",
        "  model = models.Sequential()\n",
        "  # CONV => RELU => POOL\n",
        "  model.add(layers.Convolution2D(20, (2,2), activation='relu', input_shape = input_shape))\n",
        "  model.add(layers.MaxPool2D(pool_size=(2,2), strides=(2,2)))\n",
        "  # CONV => RELU => POOL\n",
        "  model.add(layers.Convolution2D(50, (5, 5), activation='relu'))\n",
        "  model.add(layers.MaxPooling2D(pool_size=(2, 2), strides=(2, 2)))\n",
        "  # Flatten => RELU layers - before going for final classifier flatten it\n",
        "  model.add(layers.Flatten())\n",
        "  model.add(layers.Dense(500, activation='relu'))\n",
        "  # a softmax classifier - final layer\n",
        "  model.add(layers.Dense(classes, activation=\"softmax\"))\n",
        "  return model"
      ],
      "execution_count": 2,
      "outputs": []
    },
    {
      "cell_type": "code",
      "metadata": {
        "colab": {
          "base_uri": "https://localhost:8080/"
        },
        "id": "ib3pbfRqSVgw",
        "outputId": "41f57a73-ada1-49e5-9766-dcc5a0b4e3ef"
      },
      "source": [
        "# Build the data set\n",
        "(X_train, y_train), (X_test, y_test) = datasets.mnist.load_data()\n",
        "print(X_train.shape, y_train.shape)\n",
        "print(X_test.shape, y_test.shape)\n",
        "#reshape\n",
        "X_train = X_train.reshape((60000, 28, 28, 1))\n",
        "X_test = X_test.reshape((10000, 28, 28, 1))\n",
        "#normalize\n",
        "X_train, X_test = X_train / 255.0, X_test / 255.0\n",
        "\n",
        "#convert / cast to float 32\n",
        "X_train = X_train.astype('float32')\n",
        "X_test = X_test.astype('float32')\n",
        "# convert class vectors to binary class matrices\n",
        "y_train = tf.keras.utils.to_categorical(y_train, NB_CLASSES)\n",
        "y_test = tf.keras.utils.to_categorical(y_test, NB_CLASSES)\n",
        "print(X_train.shape, y_train.shape)\n",
        "print(X_test.shape, y_test.shape)\n",
        "model = build(INPUT_SHAPE, NB_CLASSES)\n",
        "model.compile(loss='categorical_crossentropy', optimizer=OPTIMIZER,\n",
        "              metrics=[\"accuracy\"])\n",
        "model.summary()\n",
        "\n",
        "#custom callback\n",
        "callbacks = [\n",
        "             tf.keras.callbacks.TensorBoard(log_dir='./logs')\n",
        "]\n",
        "history = model.fit(X_train, y_train,\n",
        "                    batch_size = BATCH_SIZE,\n",
        "                    epochs = EPOCHS,\n",
        "                    verbose = VERBOSE,\n",
        "                    validation_split=VALIDATION_SPLIT,\n",
        "                    callbacks = callbacks)\n",
        "score = model.evaluate(X_test,y_test, verbose=VERBOSE)\n",
        "print(\"\\nTest score:\", score[0])\n",
        "print('Test accuracy:', score[1])"
      ],
      "execution_count": 3,
      "outputs": [
        {
          "output_type": "stream",
          "text": [
            "Downloading data from https://storage.googleapis.com/tensorflow/tf-keras-datasets/mnist.npz\n",
            "11493376/11490434 [==============================] - 0s 0us/step\n",
            "(60000, 28, 28) (60000,)\n",
            "(10000, 28, 28) (10000,)\n",
            "(60000, 28, 28, 1) (60000, 10)\n",
            "(10000, 28, 28, 1) (10000, 10)\n",
            "Model: \"sequential\"\n",
            "_________________________________________________________________\n",
            "Layer (type)                 Output Shape              Param #   \n",
            "=================================================================\n",
            "conv2d (Conv2D)              (None, 27, 27, 20)        100       \n",
            "_________________________________________________________________\n",
            "max_pooling2d (MaxPooling2D) (None, 13, 13, 20)        0         \n",
            "_________________________________________________________________\n",
            "conv2d_1 (Conv2D)            (None, 9, 9, 50)          25050     \n",
            "_________________________________________________________________\n",
            "max_pooling2d_1 (MaxPooling2 (None, 4, 4, 50)          0         \n",
            "_________________________________________________________________\n",
            "flatten (Flatten)            (None, 800)               0         \n",
            "_________________________________________________________________\n",
            "dense (Dense)                (None, 500)               400500    \n",
            "_________________________________________________________________\n",
            "dense_1 (Dense)              (None, 10)                5010      \n",
            "=================================================================\n",
            "Total params: 430,660\n",
            "Trainable params: 430,660\n",
            "Non-trainable params: 0\n",
            "_________________________________________________________________\n",
            "Epoch 1/20\n",
            "329/329 [==============================] - 10s 7ms/step - loss: 0.6113 - accuracy: 0.8257 - val_loss: 0.1055 - val_accuracy: 0.9673\n",
            "Epoch 2/20\n",
            "329/329 [==============================] - 2s 5ms/step - loss: 0.0743 - accuracy: 0.9766 - val_loss: 0.0689 - val_accuracy: 0.9796\n",
            "Epoch 3/20\n",
            "329/329 [==============================] - 2s 5ms/step - loss: 0.0439 - accuracy: 0.9863 - val_loss: 0.0545 - val_accuracy: 0.9829\n",
            "Epoch 4/20\n",
            "329/329 [==============================] - 2s 6ms/step - loss: 0.0357 - accuracy: 0.9880 - val_loss: 0.0516 - val_accuracy: 0.9851\n",
            "Epoch 5/20\n",
            "329/329 [==============================] - 2s 5ms/step - loss: 0.0246 - accuracy: 0.9924 - val_loss: 0.0439 - val_accuracy: 0.9869\n",
            "Epoch 6/20\n",
            "329/329 [==============================] - 2s 5ms/step - loss: 0.0176 - accuracy: 0.9951 - val_loss: 0.0441 - val_accuracy: 0.9872\n",
            "Epoch 7/20\n",
            "329/329 [==============================] - 2s 5ms/step - loss: 0.0159 - accuracy: 0.9946 - val_loss: 0.0621 - val_accuracy: 0.9831\n",
            "Epoch 8/20\n",
            "329/329 [==============================] - 2s 5ms/step - loss: 0.0126 - accuracy: 0.9958 - val_loss: 0.0510 - val_accuracy: 0.9857\n",
            "Epoch 9/20\n",
            "329/329 [==============================] - 2s 5ms/step - loss: 0.0189 - accuracy: 0.9939 - val_loss: 0.0484 - val_accuracy: 0.9872\n",
            "Epoch 10/20\n",
            "329/329 [==============================] - 2s 5ms/step - loss: 0.0068 - accuracy: 0.9980 - val_loss: 0.0467 - val_accuracy: 0.9879\n",
            "Epoch 11/20\n",
            "329/329 [==============================] - 2s 5ms/step - loss: 0.0106 - accuracy: 0.9969 - val_loss: 0.0437 - val_accuracy: 0.9891\n",
            "Epoch 12/20\n",
            "329/329 [==============================] - 2s 5ms/step - loss: 0.0038 - accuracy: 0.9990 - val_loss: 0.0481 - val_accuracy: 0.9885\n",
            "Epoch 13/20\n",
            "329/329 [==============================] - 2s 5ms/step - loss: 0.0054 - accuracy: 0.9981 - val_loss: 0.0458 - val_accuracy: 0.9887\n",
            "Epoch 14/20\n",
            "329/329 [==============================] - 2s 5ms/step - loss: 0.0043 - accuracy: 0.9987 - val_loss: 0.0672 - val_accuracy: 0.9847\n",
            "Epoch 15/20\n",
            "329/329 [==============================] - 2s 6ms/step - loss: 0.0066 - accuracy: 0.9977 - val_loss: 0.0544 - val_accuracy: 0.9868\n",
            "Epoch 16/20\n",
            "329/329 [==============================] - 2s 5ms/step - loss: 0.0029 - accuracy: 0.9992 - val_loss: 0.0528 - val_accuracy: 0.9888\n",
            "Epoch 17/20\n",
            "329/329 [==============================] - 2s 5ms/step - loss: 0.0055 - accuracy: 0.9979 - val_loss: 0.0557 - val_accuracy: 0.9871\n",
            "Epoch 18/20\n",
            "329/329 [==============================] - 2s 5ms/step - loss: 0.0054 - accuracy: 0.9981 - val_loss: 0.0557 - val_accuracy: 0.9893\n",
            "Epoch 19/20\n",
            "329/329 [==============================] - 2s 5ms/step - loss: 0.0014 - accuracy: 0.9996 - val_loss: 0.0513 - val_accuracy: 0.9899\n",
            "Epoch 20/20\n",
            "329/329 [==============================] - 2s 5ms/step - loss: 0.0015 - accuracy: 0.9994 - val_loss: 0.0494 - val_accuracy: 0.9899\n",
            "313/313 [==============================] - 1s 3ms/step - loss: 0.0372 - accuracy: 0.9908\n",
            "\n",
            "Test score: 0.03724450245499611\n",
            "Test accuracy: 0.9908000230789185\n"
          ],
          "name": "stdout"
        }
      ]
    },
    {
      "cell_type": "markdown",
      "metadata": {
        "id": "eRb6HJBOfgHD"
      },
      "source": [
        "# CIFAR Dataset"
      ]
    },
    {
      "cell_type": "code",
      "metadata": {
        "id": "1ab2nLvpTVUA"
      },
      "source": [
        "import tensorflow as tf\n",
        "from tensorflow.keras import datasets, layers, models, regularizers, optimizers\n",
        "from tensorflow.keras.preprocessing.image import ImageDataGenerator\n",
        "import numpy as np\n",
        "\n",
        "EPOCHS = 50\n",
        "NUM_CLASSES = 10\n",
        "\n",
        "def load_data():\n",
        "    (x_train, y_train), (x_test, y_test) = datasets.cifar10.load_data()\n",
        "    x_train = x_train.astype('float32')\n",
        "    x_test = x_test.astype('float32')\n",
        " \n",
        "    # normalize \n",
        "    mean = np.mean(x_train,axis=(0,1,2,3))\n",
        "    std = np.std(x_train,axis=(0,1,2,3))\n",
        "    x_train = (x_train-mean)/(std+1e-7)\n",
        "    x_test = (x_test-mean)/(std+1e-7)\n",
        " \n",
        "    y_train =  tf.keras.utils.to_categorical(y_train,NUM_CLASSES)\n",
        "    y_test =  tf.keras.utils.to_categorical(y_test,NUM_CLASSES)\n",
        "    return x_train, y_train, x_test, y_test\n",
        "\n",
        "def build_model():\n",
        "    model = models.Sequential()\n",
        "    \n",
        "    # 1st block\n",
        "    model.add(layers.Conv2D(32, (3,3), padding='same', \n",
        "        input_shape=x_train.shape[1:], activation='relu'))\n",
        "    model.add(layers.BatchNormalization())\n",
        "    model.add(layers.Conv2D(32, (3,3), padding='same', activation='relu'))\n",
        "    model.add(layers.BatchNormalization())\n",
        "    model.add(layers.MaxPooling2D(pool_size=(2,2)))\n",
        "    model.add(layers.Dropout(0.2))\n",
        "    # 2nd block\n",
        "    model.add(layers.Conv2D(64, (3,3), padding='same', activation='relu'))\n",
        "    model.add(layers.BatchNormalization())\n",
        "    model.add(layers.Conv2D(64, (3,3), padding='same', activation='relu'))\n",
        "    model.add(layers.BatchNormalization())\n",
        "    model.add(layers.MaxPooling2D(pool_size=(2,2)))\n",
        "    model.add(layers.Dropout(0.3))\n",
        "    # 3d block \n",
        "    model.add(layers.Conv2D(128, (3,3), padding='same', activation='relu'))\n",
        "    model.add(layers.BatchNormalization())\n",
        "    model.add(layers.Conv2D(128, (3,3), padding='same', activation='relu'))\n",
        "    model.add(layers.BatchNormalization())\n",
        "    model.add(layers.MaxPooling2D(pool_size=(2,2)))\n",
        "    model.add(layers.Dropout(0.4))\n",
        "    # dense  \n",
        "    model.add(layers.Flatten())\n",
        "    model.add(layers.Dense(NUM_CLASSES, activation='softmax'))\n",
        "    return model"
      ],
      "execution_count": 16,
      "outputs": []
    },
    {
      "cell_type": "code",
      "metadata": {
        "colab": {
          "base_uri": "https://localhost:8080/"
        },
        "id": "1kf_epoOgKio",
        "outputId": "6e14a455-f853-4c08-8889-6f3711d20c16"
      },
      "source": [
        "# Then we need to have a part to train the network:\n",
        "(x_train, y_train, x_test, y_test) = load_data()\n",
        "model = build_model()\n",
        "model.summary()\n",
        "model.compile(loss='categorical_crossentropy',\n",
        "              optimizer='RMSprop',\n",
        "              metrics=['accuracy'])\n",
        "# train\n",
        "batch_size = 64\n",
        "model.fit(x_train, y_train, batch_size=batch_size,\n",
        "          epochs=EPOCHS, validation_data=(x_test,y_test)) \n",
        "score = model.evaluate(x_test, y_test, batch_size=BATCH_SIZE)\n",
        "print(\"\\nTest score:\", score[0])\n",
        "print('Test accuracy:', score[1])"
      ],
      "execution_count": 17,
      "outputs": [
        {
          "output_type": "stream",
          "text": [
            "Model: \"sequential_2\"\n",
            "_________________________________________________________________\n",
            "Layer (type)                 Output Shape              Param #   \n",
            "=================================================================\n",
            "conv2d_8 (Conv2D)            (None, 32, 32, 32)        896       \n",
            "_________________________________________________________________\n",
            "batch_normalization_6 (Batch (None, 32, 32, 32)        128       \n",
            "_________________________________________________________________\n",
            "conv2d_9 (Conv2D)            (None, 32, 32, 32)        9248      \n",
            "_________________________________________________________________\n",
            "batch_normalization_7 (Batch (None, 32, 32, 32)        128       \n",
            "_________________________________________________________________\n",
            "max_pooling2d_5 (MaxPooling2 (None, 16, 16, 32)        0         \n",
            "_________________________________________________________________\n",
            "dropout_3 (Dropout)          (None, 16, 16, 32)        0         \n",
            "_________________________________________________________________\n",
            "conv2d_10 (Conv2D)           (None, 16, 16, 64)        18496     \n",
            "_________________________________________________________________\n",
            "batch_normalization_8 (Batch (None, 16, 16, 64)        256       \n",
            "_________________________________________________________________\n",
            "conv2d_11 (Conv2D)           (None, 16, 16, 64)        36928     \n",
            "_________________________________________________________________\n",
            "batch_normalization_9 (Batch (None, 16, 16, 64)        256       \n",
            "_________________________________________________________________\n",
            "max_pooling2d_6 (MaxPooling2 (None, 8, 8, 64)          0         \n",
            "_________________________________________________________________\n",
            "dropout_4 (Dropout)          (None, 8, 8, 64)          0         \n",
            "_________________________________________________________________\n",
            "conv2d_12 (Conv2D)           (None, 8, 8, 128)         73856     \n",
            "_________________________________________________________________\n",
            "batch_normalization_10 (Batc (None, 8, 8, 128)         512       \n",
            "_________________________________________________________________\n",
            "conv2d_13 (Conv2D)           (None, 8, 8, 128)         147584    \n",
            "_________________________________________________________________\n",
            "batch_normalization_11 (Batc (None, 8, 8, 128)         512       \n",
            "_________________________________________________________________\n",
            "max_pooling2d_7 (MaxPooling2 (None, 4, 4, 128)         0         \n",
            "_________________________________________________________________\n",
            "dropout_5 (Dropout)          (None, 4, 4, 128)         0         \n",
            "_________________________________________________________________\n",
            "flatten_2 (Flatten)          (None, 2048)              0         \n",
            "_________________________________________________________________\n",
            "dense_3 (Dense)              (None, 10)                20490     \n",
            "=================================================================\n",
            "Total params: 309,290\n",
            "Trainable params: 308,394\n",
            "Non-trainable params: 896\n",
            "_________________________________________________________________\n",
            "Epoch 1/50\n",
            "782/782 [==============================] - 9s 10ms/step - loss: 2.2119 - accuracy: 0.3851 - val_loss: 1.2705 - val_accuracy: 0.5730\n",
            "Epoch 2/50\n",
            "782/782 [==============================] - 8s 10ms/step - loss: 1.1308 - accuracy: 0.6371 - val_loss: 0.9408 - val_accuracy: 0.6860\n",
            "Epoch 3/50\n",
            "782/782 [==============================] - 8s 10ms/step - loss: 0.8806 - accuracy: 0.7066 - val_loss: 0.8536 - val_accuracy: 0.7148\n",
            "Epoch 4/50\n",
            "782/782 [==============================] - 8s 10ms/step - loss: 0.7291 - accuracy: 0.7506 - val_loss: 0.6729 - val_accuracy: 0.7687\n",
            "Epoch 5/50\n",
            "782/782 [==============================] - 8s 10ms/step - loss: 0.6498 - accuracy: 0.7793 - val_loss: 0.7546 - val_accuracy: 0.7487\n",
            "Epoch 6/50\n",
            "782/782 [==============================] - 8s 10ms/step - loss: 0.5899 - accuracy: 0.8007 - val_loss: 0.6408 - val_accuracy: 0.7894\n",
            "Epoch 7/50\n",
            "782/782 [==============================] - 8s 10ms/step - loss: 0.5407 - accuracy: 0.8130 - val_loss: 0.5878 - val_accuracy: 0.8044\n",
            "Epoch 8/50\n",
            "782/782 [==============================] - 8s 10ms/step - loss: 0.5005 - accuracy: 0.8280 - val_loss: 0.5843 - val_accuracy: 0.8109\n",
            "Epoch 9/50\n",
            "782/782 [==============================] - 8s 10ms/step - loss: 0.4779 - accuracy: 0.8372 - val_loss: 0.5343 - val_accuracy: 0.8196\n",
            "Epoch 10/50\n",
            "782/782 [==============================] - 8s 10ms/step - loss: 0.4407 - accuracy: 0.8478 - val_loss: 0.5487 - val_accuracy: 0.8162\n",
            "Epoch 11/50\n",
            "782/782 [==============================] - 8s 10ms/step - loss: 0.4179 - accuracy: 0.8520 - val_loss: 0.5096 - val_accuracy: 0.8308\n",
            "Epoch 12/50\n",
            "782/782 [==============================] - 8s 10ms/step - loss: 0.4029 - accuracy: 0.8583 - val_loss: 0.5593 - val_accuracy: 0.8239\n",
            "Epoch 13/50\n",
            "782/782 [==============================] - 8s 10ms/step - loss: 0.3798 - accuracy: 0.8707 - val_loss: 0.5032 - val_accuracy: 0.8341\n",
            "Epoch 14/50\n",
            "782/782 [==============================] - 8s 10ms/step - loss: 0.3670 - accuracy: 0.8749 - val_loss: 0.4978 - val_accuracy: 0.8354\n",
            "Epoch 15/50\n",
            "782/782 [==============================] - 8s 10ms/step - loss: 0.3453 - accuracy: 0.8798 - val_loss: 0.5317 - val_accuracy: 0.8298\n",
            "Epoch 16/50\n",
            "782/782 [==============================] - 8s 10ms/step - loss: 0.3365 - accuracy: 0.8814 - val_loss: 0.5041 - val_accuracy: 0.8383\n",
            "Epoch 17/50\n",
            "782/782 [==============================] - 8s 10ms/step - loss: 0.3127 - accuracy: 0.8915 - val_loss: 0.4783 - val_accuracy: 0.8475\n",
            "Epoch 18/50\n",
            "782/782 [==============================] - 8s 10ms/step - loss: 0.3076 - accuracy: 0.8922 - val_loss: 0.4716 - val_accuracy: 0.8488\n",
            "Epoch 19/50\n",
            "782/782 [==============================] - 8s 10ms/step - loss: 0.2987 - accuracy: 0.8945 - val_loss: 0.5111 - val_accuracy: 0.8398\n",
            "Epoch 20/50\n",
            "782/782 [==============================] - 8s 10ms/step - loss: 0.2877 - accuracy: 0.8989 - val_loss: 0.4809 - val_accuracy: 0.8488\n",
            "Epoch 21/50\n",
            "782/782 [==============================] - 8s 10ms/step - loss: 0.2771 - accuracy: 0.9024 - val_loss: 0.4936 - val_accuracy: 0.8485\n",
            "Epoch 22/50\n",
            "782/782 [==============================] - 8s 10ms/step - loss: 0.2682 - accuracy: 0.9042 - val_loss: 0.4853 - val_accuracy: 0.8488\n",
            "Epoch 23/50\n",
            "782/782 [==============================] - 8s 10ms/step - loss: 0.2565 - accuracy: 0.9109 - val_loss: 0.5132 - val_accuracy: 0.8390\n",
            "Epoch 24/50\n",
            "782/782 [==============================] - 8s 10ms/step - loss: 0.2525 - accuracy: 0.9103 - val_loss: 0.5048 - val_accuracy: 0.8428\n",
            "Epoch 25/50\n",
            "782/782 [==============================] - 8s 10ms/step - loss: 0.2451 - accuracy: 0.9115 - val_loss: 0.4828 - val_accuracy: 0.8515\n",
            "Epoch 26/50\n",
            "782/782 [==============================] - 8s 10ms/step - loss: 0.2356 - accuracy: 0.9148 - val_loss: 0.5176 - val_accuracy: 0.8445\n",
            "Epoch 27/50\n",
            "782/782 [==============================] - 8s 10ms/step - loss: 0.2397 - accuracy: 0.9162 - val_loss: 0.4746 - val_accuracy: 0.8533\n",
            "Epoch 28/50\n",
            "782/782 [==============================] - 8s 10ms/step - loss: 0.2285 - accuracy: 0.9184 - val_loss: 0.4690 - val_accuracy: 0.8551\n",
            "Epoch 29/50\n",
            "782/782 [==============================] - 8s 10ms/step - loss: 0.2222 - accuracy: 0.9222 - val_loss: 0.4744 - val_accuracy: 0.8524\n",
            "Epoch 30/50\n",
            "782/782 [==============================] - 8s 10ms/step - loss: 0.2162 - accuracy: 0.9230 - val_loss: 0.4709 - val_accuracy: 0.8577\n",
            "Epoch 31/50\n",
            "782/782 [==============================] - 8s 10ms/step - loss: 0.2097 - accuracy: 0.9264 - val_loss: 0.4883 - val_accuracy: 0.8484\n",
            "Epoch 32/50\n",
            "782/782 [==============================] - 8s 10ms/step - loss: 0.2022 - accuracy: 0.9282 - val_loss: 0.4831 - val_accuracy: 0.8526\n",
            "Epoch 33/50\n",
            "782/782 [==============================] - 8s 10ms/step - loss: 0.1978 - accuracy: 0.9295 - val_loss: 0.5091 - val_accuracy: 0.8479\n",
            "Epoch 34/50\n",
            "782/782 [==============================] - 8s 10ms/step - loss: 0.1981 - accuracy: 0.9281 - val_loss: 0.4874 - val_accuracy: 0.8543\n",
            "Epoch 35/50\n",
            "782/782 [==============================] - 8s 10ms/step - loss: 0.1930 - accuracy: 0.9298 - val_loss: 0.5218 - val_accuracy: 0.8524\n",
            "Epoch 36/50\n",
            "782/782 [==============================] - 8s 10ms/step - loss: 0.1909 - accuracy: 0.9318 - val_loss: 0.4776 - val_accuracy: 0.8585\n",
            "Epoch 37/50\n",
            "782/782 [==============================] - 8s 10ms/step - loss: 0.1858 - accuracy: 0.9348 - val_loss: 0.4875 - val_accuracy: 0.8606\n",
            "Epoch 38/50\n",
            "782/782 [==============================] - 8s 10ms/step - loss: 0.1844 - accuracy: 0.9336 - val_loss: 0.4855 - val_accuracy: 0.8595\n",
            "Epoch 39/50\n",
            "782/782 [==============================] - 8s 10ms/step - loss: 0.1747 - accuracy: 0.9378 - val_loss: 0.5008 - val_accuracy: 0.8565\n",
            "Epoch 40/50\n",
            "782/782 [==============================] - 8s 10ms/step - loss: 0.1758 - accuracy: 0.9358 - val_loss: 0.4877 - val_accuracy: 0.8608\n",
            "Epoch 41/50\n",
            "782/782 [==============================] - 8s 10ms/step - loss: 0.1715 - accuracy: 0.9384 - val_loss: 0.4892 - val_accuracy: 0.8588\n",
            "Epoch 42/50\n",
            "782/782 [==============================] - 8s 10ms/step - loss: 0.1697 - accuracy: 0.9391 - val_loss: 0.5044 - val_accuracy: 0.8557\n",
            "Epoch 43/50\n",
            "782/782 [==============================] - 8s 10ms/step - loss: 0.1634 - accuracy: 0.9423 - val_loss: 0.4897 - val_accuracy: 0.8579\n",
            "Epoch 44/50\n",
            "782/782 [==============================] - 8s 10ms/step - loss: 0.1666 - accuracy: 0.9405 - val_loss: 0.5145 - val_accuracy: 0.8535\n",
            "Epoch 45/50\n",
            "782/782 [==============================] - 8s 10ms/step - loss: 0.1570 - accuracy: 0.9445 - val_loss: 0.5216 - val_accuracy: 0.8562\n",
            "Epoch 46/50\n",
            "782/782 [==============================] - 8s 10ms/step - loss: 0.1659 - accuracy: 0.9401 - val_loss: 0.5140 - val_accuracy: 0.8597\n",
            "Epoch 47/50\n",
            "782/782 [==============================] - 8s 10ms/step - loss: 0.1562 - accuracy: 0.9436 - val_loss: 0.5386 - val_accuracy: 0.8570\n",
            "Epoch 48/50\n",
            "782/782 [==============================] - 8s 10ms/step - loss: 0.1590 - accuracy: 0.9434 - val_loss: 0.4842 - val_accuracy: 0.8604\n",
            "Epoch 49/50\n",
            "782/782 [==============================] - 8s 10ms/step - loss: 0.1616 - accuracy: 0.9419 - val_loss: 0.5118 - val_accuracy: 0.8570\n",
            "Epoch 50/50\n",
            "782/782 [==============================] - 8s 10ms/step - loss: 0.1544 - accuracy: 0.9450 - val_loss: 0.5188 - val_accuracy: 0.8600\n",
            "79/79 [==============================] - 0s 5ms/step - loss: 0.5188 - accuracy: 0.8600\n",
            "\n",
            "Test score: 0.5187857151031494\n",
            "Test accuracy: 0.8600000143051147\n"
          ],
          "name": "stdout"
        }
      ]
    },
    {
      "cell_type": "markdown",
      "metadata": {
        "id": "5WRz8PV8iab5"
      },
      "source": [
        "## Keras image augmentation"
      ]
    },
    {
      "cell_type": "code",
      "metadata": {
        "id": "Pak0oh9-gixW"
      },
      "source": [
        "from tensorflow.keras.preprocessing.image import ImageDataGenerator\n",
        "\n",
        "datagen = ImageDataGenerator(\n",
        "    rotation_range = 30,\n",
        "    width_shift_range=0.2,\n",
        "    height_shift_range=0.2,\n",
        "    horizontal_flip=True,\n",
        ")\n",
        "datagen.fit(x_train)"
      ],
      "execution_count": 18,
      "outputs": []
    },
    {
      "cell_type": "code",
      "metadata": {
        "colab": {
          "base_uri": "https://localhost:8080/"
        },
        "id": "6dFPjW3wi5tr",
        "outputId": "4c8c1306-1a6d-4aaa-b8aa-598c91ad889b"
      },
      "source": [
        "batch_size = 64\n",
        "model.fit_generator(datagen.flow(x_train, y_train,\n",
        "                                 batch_size=batch_size),\n",
        "                    epochs=EPOCHS,\n",
        "                    verbose=1,validation_data=(x_test,y_test))"
      ],
      "execution_count": 19,
      "outputs": [
        {
          "output_type": "stream",
          "text": [
            "/usr/local/lib/python3.6/dist-packages/tensorflow/python/keras/engine/training.py:1844: UserWarning: `Model.fit_generator` is deprecated and will be removed in a future version. Please use `Model.fit`, which supports generators.\n",
            "  warnings.warn('`Model.fit_generator` is deprecated and '\n"
          ],
          "name": "stderr"
        },
        {
          "output_type": "stream",
          "text": [
            "Epoch 1/50\n",
            "782/782 [==============================] - 27s 33ms/step - loss: 0.9624 - accuracy: 0.6878 - val_loss: 0.6027 - val_accuracy: 0.8008\n",
            "Epoch 2/50\n",
            "782/782 [==============================] - 27s 34ms/step - loss: 0.7986 - accuracy: 0.7235 - val_loss: 0.5433 - val_accuracy: 0.8174\n",
            "Epoch 3/50\n",
            "782/782 [==============================] - 26s 33ms/step - loss: 0.7652 - accuracy: 0.7360 - val_loss: 0.5695 - val_accuracy: 0.8114\n",
            "Epoch 4/50\n",
            "782/782 [==============================] - 27s 34ms/step - loss: 0.7405 - accuracy: 0.7448 - val_loss: 0.5424 - val_accuracy: 0.8185\n",
            "Epoch 5/50\n",
            "782/782 [==============================] - 27s 35ms/step - loss: 0.7265 - accuracy: 0.7481 - val_loss: 0.5175 - val_accuracy: 0.8298\n",
            "Epoch 6/50\n",
            "782/782 [==============================] - 26s 34ms/step - loss: 0.7070 - accuracy: 0.7561 - val_loss: 0.5898 - val_accuracy: 0.8065\n",
            "Epoch 7/50\n",
            "782/782 [==============================] - 26s 34ms/step - loss: 0.6921 - accuracy: 0.7622 - val_loss: 0.4869 - val_accuracy: 0.8403\n",
            "Epoch 8/50\n",
            "782/782 [==============================] - 27s 34ms/step - loss: 0.6878 - accuracy: 0.7606 - val_loss: 0.6228 - val_accuracy: 0.8002\n",
            "Epoch 9/50\n",
            "782/782 [==============================] - 26s 34ms/step - loss: 0.6785 - accuracy: 0.7660 - val_loss: 0.4890 - val_accuracy: 0.8404\n",
            "Epoch 10/50\n",
            "782/782 [==============================] - 26s 34ms/step - loss: 0.6632 - accuracy: 0.7713 - val_loss: 0.5159 - val_accuracy: 0.8313\n",
            "Epoch 11/50\n",
            "782/782 [==============================] - 26s 34ms/step - loss: 0.6549 - accuracy: 0.7741 - val_loss: 0.4960 - val_accuracy: 0.8339\n",
            "Epoch 12/50\n",
            "782/782 [==============================] - 26s 34ms/step - loss: 0.6535 - accuracy: 0.7767 - val_loss: 0.5307 - val_accuracy: 0.8290\n",
            "Epoch 13/50\n",
            "782/782 [==============================] - 26s 33ms/step - loss: 0.6419 - accuracy: 0.7793 - val_loss: 0.5328 - val_accuracy: 0.8320\n",
            "Epoch 14/50\n",
            "782/782 [==============================] - 26s 34ms/step - loss: 0.6398 - accuracy: 0.7808 - val_loss: 0.4984 - val_accuracy: 0.8362\n",
            "Epoch 15/50\n",
            "782/782 [==============================] - 26s 33ms/step - loss: 0.6333 - accuracy: 0.7803 - val_loss: 0.5124 - val_accuracy: 0.8304\n",
            "Epoch 16/50\n",
            "782/782 [==============================] - 26s 33ms/step - loss: 0.6266 - accuracy: 0.7842 - val_loss: 0.5149 - val_accuracy: 0.8317\n",
            "Epoch 17/50\n",
            "782/782 [==============================] - 26s 33ms/step - loss: 0.6192 - accuracy: 0.7861 - val_loss: 0.4876 - val_accuracy: 0.8418\n",
            "Epoch 18/50\n",
            "782/782 [==============================] - 26s 33ms/step - loss: 0.6175 - accuracy: 0.7866 - val_loss: 0.4937 - val_accuracy: 0.8363\n",
            "Epoch 19/50\n",
            "782/782 [==============================] - 26s 33ms/step - loss: 0.6096 - accuracy: 0.7896 - val_loss: 0.5426 - val_accuracy: 0.8265\n",
            "Epoch 20/50\n",
            "782/782 [==============================] - 26s 33ms/step - loss: 0.6126 - accuracy: 0.7892 - val_loss: 0.4990 - val_accuracy: 0.8341\n",
            "Epoch 21/50\n",
            "782/782 [==============================] - 26s 33ms/step - loss: 0.6041 - accuracy: 0.7908 - val_loss: 0.4620 - val_accuracy: 0.8470\n",
            "Epoch 22/50\n",
            "782/782 [==============================] - 26s 33ms/step - loss: 0.6014 - accuracy: 0.7924 - val_loss: 0.4848 - val_accuracy: 0.8443\n",
            "Epoch 23/50\n",
            "782/782 [==============================] - 26s 33ms/step - loss: 0.5940 - accuracy: 0.7945 - val_loss: 0.5061 - val_accuracy: 0.8373\n",
            "Epoch 24/50\n",
            "782/782 [==============================] - 26s 33ms/step - loss: 0.5951 - accuracy: 0.7942 - val_loss: 0.4921 - val_accuracy: 0.8367\n",
            "Epoch 25/50\n",
            "782/782 [==============================] - 26s 33ms/step - loss: 0.5849 - accuracy: 0.7988 - val_loss: 0.4899 - val_accuracy: 0.8405\n",
            "Epoch 26/50\n",
            "782/782 [==============================] - 26s 34ms/step - loss: 0.5817 - accuracy: 0.7998 - val_loss: 0.5059 - val_accuracy: 0.8360\n",
            "Epoch 27/50\n",
            "782/782 [==============================] - 26s 33ms/step - loss: 0.5741 - accuracy: 0.8020 - val_loss: 0.5030 - val_accuracy: 0.8390\n",
            "Epoch 28/50\n",
            "782/782 [==============================] - 26s 33ms/step - loss: 0.5794 - accuracy: 0.8012 - val_loss: 0.5224 - val_accuracy: 0.8322\n",
            "Epoch 29/50\n",
            "782/782 [==============================] - 26s 33ms/step - loss: 0.5788 - accuracy: 0.8014 - val_loss: 0.5467 - val_accuracy: 0.8261\n",
            "Epoch 30/50\n",
            "782/782 [==============================] - 26s 33ms/step - loss: 0.5670 - accuracy: 0.8051 - val_loss: 0.4843 - val_accuracy: 0.8450\n",
            "Epoch 31/50\n",
            "782/782 [==============================] - 26s 34ms/step - loss: 0.5677 - accuracy: 0.8039 - val_loss: 0.5144 - val_accuracy: 0.8325\n",
            "Epoch 32/50\n",
            "782/782 [==============================] - 26s 34ms/step - loss: 0.5673 - accuracy: 0.8037 - val_loss: 0.4751 - val_accuracy: 0.8473\n",
            "Epoch 33/50\n",
            "782/782 [==============================] - 27s 35ms/step - loss: 0.5629 - accuracy: 0.8050 - val_loss: 0.4914 - val_accuracy: 0.8421\n",
            "Epoch 34/50\n",
            "782/782 [==============================] - 27s 34ms/step - loss: 0.5650 - accuracy: 0.8051 - val_loss: 0.4864 - val_accuracy: 0.8399\n",
            "Epoch 35/50\n",
            "782/782 [==============================] - 26s 34ms/step - loss: 0.5582 - accuracy: 0.8092 - val_loss: 0.5001 - val_accuracy: 0.8337\n",
            "Epoch 36/50\n",
            "782/782 [==============================] - 26s 34ms/step - loss: 0.5572 - accuracy: 0.8062 - val_loss: 0.5445 - val_accuracy: 0.8256\n",
            "Epoch 37/50\n",
            "782/782 [==============================] - 26s 34ms/step - loss: 0.5556 - accuracy: 0.8091 - val_loss: 0.5083 - val_accuracy: 0.8409\n",
            "Epoch 38/50\n",
            "782/782 [==============================] - 26s 34ms/step - loss: 0.5527 - accuracy: 0.8094 - val_loss: 0.5140 - val_accuracy: 0.8357\n",
            "Epoch 39/50\n",
            "782/782 [==============================] - 26s 34ms/step - loss: 0.5468 - accuracy: 0.8115 - val_loss: 0.4864 - val_accuracy: 0.8430\n",
            "Epoch 40/50\n",
            "782/782 [==============================] - 26s 34ms/step - loss: 0.5441 - accuracy: 0.8142 - val_loss: 0.4919 - val_accuracy: 0.8461\n",
            "Epoch 41/50\n",
            "782/782 [==============================] - 26s 33ms/step - loss: 0.5447 - accuracy: 0.8123 - val_loss: 0.4557 - val_accuracy: 0.8552\n",
            "Epoch 42/50\n",
            "782/782 [==============================] - 26s 34ms/step - loss: 0.5447 - accuracy: 0.8132 - val_loss: 0.4995 - val_accuracy: 0.8394\n",
            "Epoch 43/50\n",
            "782/782 [==============================] - 26s 33ms/step - loss: 0.5409 - accuracy: 0.8142 - val_loss: 0.4549 - val_accuracy: 0.8520\n",
            "Epoch 44/50\n",
            "782/782 [==============================] - 26s 33ms/step - loss: 0.5353 - accuracy: 0.8162 - val_loss: 0.5040 - val_accuracy: 0.8364\n",
            "Epoch 45/50\n",
            "782/782 [==============================] - 26s 34ms/step - loss: 0.5415 - accuracy: 0.8142 - val_loss: 0.5358 - val_accuracy: 0.8297\n",
            "Epoch 46/50\n",
            "782/782 [==============================] - 26s 33ms/step - loss: 0.5356 - accuracy: 0.8145 - val_loss: 0.4666 - val_accuracy: 0.8497\n",
            "Epoch 47/50\n",
            "782/782 [==============================] - 26s 33ms/step - loss: 0.5329 - accuracy: 0.8163 - val_loss: 0.5699 - val_accuracy: 0.8203\n",
            "Epoch 48/50\n",
            "782/782 [==============================] - 26s 34ms/step - loss: 0.5347 - accuracy: 0.8166 - val_loss: 0.5042 - val_accuracy: 0.8373\n",
            "Epoch 49/50\n",
            "782/782 [==============================] - 26s 34ms/step - loss: 0.5280 - accuracy: 0.8185 - val_loss: 0.4796 - val_accuracy: 0.8490\n",
            "Epoch 50/50\n",
            "782/782 [==============================] - 26s 34ms/step - loss: 0.5299 - accuracy: 0.8165 - val_loss: 0.5098 - val_accuracy: 0.8395\n"
          ],
          "name": "stdout"
        },
        {
          "output_type": "execute_result",
          "data": {
            "text/plain": [
              "<tensorflow.python.keras.callbacks.History at 0x7fd2aaf33be0>"
            ]
          },
          "metadata": {
            "tags": []
          },
          "execution_count": 19
        }
      ]
    },
    {
      "cell_type": "code",
      "metadata": {
        "colab": {
          "base_uri": "https://localhost:8080/"
        },
        "id": "eHGpoTTujYET",
        "outputId": "8f456bc5-6add-4f37-843e-919633637aa5"
      },
      "source": [
        "# save to disk\n",
        "model_json = model.to_json()\n",
        "with open('cifar10_architecture.json', 'w') as json_file:\n",
        "    json_file.write(model_json)\n",
        "model.save_weights('cifar10_weights.h5') \n",
        "# test\n",
        "scores = model.evaluate(x_test, y_test, batch_size=128, verbose=1)\n",
        "print('\\nTest result: %.3f loss: %.3f' % (scores[1]*100,scores[0]))"
      ],
      "execution_count": 20,
      "outputs": [
        {
          "output_type": "stream",
          "text": [
            "79/79 [==============================] - 0s 6ms/step - loss: 0.5098 - accuracy: 0.8395\n",
            "\n",
            "Test result: 83.950 loss: 0.510\n"
          ],
          "name": "stdout"
        }
      ]
    },
    {
      "cell_type": "markdown",
      "metadata": {
        "id": "QxGcQNAKTX4g"
      },
      "source": [
        "# Use Pretrained model for prediction"
      ]
    },
    {
      "cell_type": "code",
      "metadata": {
        "id": "n1oSrk4JUo8b"
      },
      "source": [
        "import numpy as np\n",
        "from skimage.transform import resize\n",
        "from imageio import imread\n",
        "from tensorflow.keras.models import model_from_json\n",
        "from tensorflow.keras.optimizers import SGD"
      ],
      "execution_count": 1,
      "outputs": []
    },
    {
      "cell_type": "code",
      "metadata": {
        "id": "flqnqLzWS_xT"
      },
      "source": [
        "dog = 'https://raw.githubusercontent.com/PacktPublishing/Deep-Learning-with-TensorFlow-2-and-Keras/master/Chapter%204/dog.jpg'\n",
        "cat = 'https://raw.githubusercontent.com/PacktPublishing/Deep-Learning-with-TensorFlow-2-and-Keras/master/Chapter%204/cat-standing.jpg'"
      ],
      "execution_count": 22,
      "outputs": []
    },
    {
      "cell_type": "code",
      "metadata": {
        "id": "HdyigaRdUs3z"
      },
      "source": [
        "# load model\n",
        "model_architecture = 'cifar10_architecture.json'\n",
        "model_weights = 'cifar10_weights.h5'\n",
        "model = model_from_json(open(model_architecture).read())\n",
        "model.load_weights(model_weights)"
      ],
      "execution_count": 23,
      "outputs": []
    },
    {
      "cell_type": "code",
      "metadata": {
        "colab": {
          "base_uri": "https://localhost:8080/"
        },
        "id": "Ao_jp_CZUvtj",
        "outputId": "ca72c59c-f688-431c-ff33-d384dfb546cc"
      },
      "source": [
        "# load images\n",
        "img_names = [cat, dog]\n",
        "imgs = [resize(imread(img_name), (32, 32)).astype(\"float32\") for img_name in img_names]\n",
        "imgs = np.array(imgs) / 255\n",
        "print(\"imgs.shape:\", imgs.shape)"
      ],
      "execution_count": 24,
      "outputs": [
        {
          "output_type": "stream",
          "text": [
            "imgs.shape: (2, 32, 32, 3)\n"
          ],
          "name": "stdout"
        }
      ]
    },
    {
      "cell_type": "code",
      "metadata": {
        "colab": {
          "base_uri": "https://localhost:8080/"
        },
        "id": "4ZGHnIY6U9s4",
        "outputId": "110137de-3089-490d-e8d1-b84bb5b417b8"
      },
      "source": [
        "# train\n",
        "optim = SGD()\n",
        "model.compile(loss='categorical_crossentropy', optimizer=optim,\n",
        "              metrics=['accuracy'])\n",
        "# predict \n",
        "predictions = model.predict_classes(imgs)\n",
        "print(\"predictions:\", predictions)"
      ],
      "execution_count": 25,
      "outputs": [
        {
          "output_type": "stream",
          "text": [
            "predictions: [8 8]\n"
          ],
          "name": "stdout"
        },
        {
          "output_type": "stream",
          "text": [
            "/usr/local/lib/python3.6/dist-packages/tensorflow/python/keras/engine/sequential.py:450: UserWarning: `model.predict_classes()` is deprecated and will be removed after 2021-01-01. Please use instead:* `np.argmax(model.predict(x), axis=-1)`,   if your model does multi-class classification   (e.g. if it uses a `softmax` last-layer activation).* `(model.predict(x) > 0.5).astype(\"int32\")`,   if your model does binary classification   (e.g. if it uses a `sigmoid` last-layer activation).\n",
            "  warnings.warn('`model.predict_classes()` is deprecated and '\n"
          ],
          "name": "stderr"
        }
      ]
    },
    {
      "cell_type": "markdown",
      "metadata": {
        "id": "Bc-iPlwKTpS1"
      },
      "source": [
        "# tf.keras built-in VGG16 Net"
      ]
    },
    {
      "cell_type": "code",
      "metadata": {
        "id": "oinXgKpsVCse"
      },
      "source": [
        "import tensorflow as tf\n",
        "from tensorflow.keras.applications.vgg16 import VGG16\n",
        "import matplotlib.pyplot as plt\n",
        "import numpy as np\n",
        "import cv2\n",
        "from imageio import imread"
      ],
      "execution_count": 2,
      "outputs": []
    },
    {
      "cell_type": "code",
      "metadata": {
        "colab": {
          "base_uri": "https://localhost:8080/"
        },
        "id": "CpcV5fNGTsvK",
        "outputId": "43154d2e-1e1f-4174-fea6-a1b20ddf7ca5"
      },
      "source": [
        "# prebuild model with pre-trained weights on imagenet\n",
        "model = VGG16(weights='imagenet', include_top=True)\n",
        "model.compile(optimizer='sgd', loss='categorical_crossentropy')"
      ],
      "execution_count": 3,
      "outputs": [
        {
          "output_type": "stream",
          "text": [
            "Downloading data from https://storage.googleapis.com/tensorflow/keras-applications/vgg16/vgg16_weights_tf_dim_ordering_tf_kernels.h5\n",
            "553467904/553467096 [==============================] - 4s 0us/step\n"
          ],
          "name": "stdout"
        }
      ]
    },
    {
      "cell_type": "code",
      "metadata": {
        "id": "14NW-8leUIHc"
      },
      "source": [
        "IMG_PATH = \"https://raw.githubusercontent.com/PacktPublishing/Deep-Learning-with-TensorFlow-2-and-Keras/master/Chapter%204/steam-locomotive.jpg\"\n",
        "# resize into VGG16 trained images' format\n",
        "im = cv2.resize(imread(IMG_PATH), (224, 224))\n",
        "im = np.expand_dims(im, axis=0)\n",
        "im = im.astype(np.float32)"
      ],
      "execution_count": 5,
      "outputs": []
    },
    {
      "cell_type": "code",
      "metadata": {
        "colab": {
          "base_uri": "https://localhost:8080/",
          "height": 282
        },
        "id": "xKOcGTcoUZ_Z",
        "outputId": "07ba42a3-a436-4a8f-a7be-65294a507c23"
      },
      "source": [
        "# predict\n",
        "out = model.predict(im)\n",
        "index = np.argmax(out)\n",
        "print(index)\n",
        "plt.plot(out.ravel())\n",
        "plt.show()"
      ],
      "execution_count": 6,
      "outputs": [
        {
          "output_type": "stream",
          "text": [
            "820\n"
          ],
          "name": "stdout"
        },
        {
          "output_type": "display_data",
          "data": {
            "image/png": "[encoded data removed]",
            "text/plain": [
              "<Figure size 432x288 with 1 Axes>"
            ]
          },
          "metadata": {
            "tags": [],
            "needs_background": "light"
          }
        }
      ]
    },
    {
      "cell_type": "markdown",
      "metadata": {
        "id": "KBjJoGAJnCsj"
      },
      "source": [
        "# Recycling prebuilt deep learning models for extracting features"
      ]
    },
    {
      "cell_type": "code",
      "metadata": {
        "colab": {
          "base_uri": "https://localhost:8080/"
        },
        "id": "mNY7cXgjm4Qm",
        "outputId": "e9eb7c03-02f2-4c01-b34e-89304b6175b8"
      },
      "source": [
        "import tensorflow as tf\n",
        "from tensorflow.keras.applications.vgg16 import VGG16 \n",
        "from tensorflow.keras import models\n",
        "from tensorflow.keras.preprocessing import image\n",
        "from tensorflow.keras.applications.vgg16 import preprocess_input\n",
        "import numpy as np\n",
        "import cv2\n",
        "# prebuild model with pre-trained weights on imagenet\n",
        "base_model = VGG16(weights='imagenet', include_top=True)\n",
        "base_model.summary"
      ],
      "execution_count": 9,
      "outputs": [
        {
          "output_type": "execute_result",
          "data": {
            "text/plain": [
              "<bound method Model.summary of <tensorflow.python.keras.engine.functional.Functional object at 0x7f214b9e1470>>"
            ]
          },
          "metadata": {
            "tags": []
          },
          "execution_count": 9
        }
      ]
    },
    {
      "cell_type": "code",
      "metadata": {
        "colab": {
          "base_uri": "https://localhost:8080/"
        },
        "id": "tkml9RrunNQW",
        "outputId": "c1b6a382-da10-49e7-88dc-eda57be9b85a"
      },
      "source": [
        "for i, layer in enumerate(base_model.layers):\n",
        "    print (i, layer.name, layer.output_shape)"
      ],
      "execution_count": 10,
      "outputs": [
        {
          "output_type": "stream",
          "text": [
            "0 input_4 [(None, 224, 224, 3)]\n",
            "1 block1_conv1 (None, 224, 224, 64)\n",
            "2 block1_conv2 (None, 224, 224, 64)\n",
            "3 block1_pool (None, 112, 112, 64)\n",
            "4 block2_conv1 (None, 112, 112, 128)\n",
            "5 block2_conv2 (None, 112, 112, 128)\n",
            "6 block2_pool (None, 56, 56, 128)\n",
            "7 block3_conv1 (None, 56, 56, 256)\n",
            "8 block3_conv2 (None, 56, 56, 256)\n",
            "9 block3_conv3 (None, 56, 56, 256)\n",
            "10 block3_pool (None, 28, 28, 256)\n",
            "11 block4_conv1 (None, 28, 28, 512)\n",
            "12 block4_conv2 (None, 28, 28, 512)\n",
            "13 block4_conv3 (None, 28, 28, 512)\n",
            "14 block4_pool (None, 14, 14, 512)\n",
            "15 block5_conv1 (None, 14, 14, 512)\n",
            "16 block5_conv2 (None, 14, 14, 512)\n",
            "17 block5_conv3 (None, 14, 14, 512)\n",
            "18 block5_pool (None, 7, 7, 512)\n",
            "19 flatten (None, 25088)\n",
            "20 fc1 (None, 4096)\n",
            "21 fc2 (None, 4096)\n",
            "22 predictions (None, 1000)\n"
          ],
          "name": "stdout"
        }
      ]
    },
    {
      "cell_type": "code",
      "metadata": {
        "id": "xHvHO27OnZGv"
      },
      "source": [
        "# extract features from block4_pool block\n",
        "model = models.Model(inputs=base_model.input, \n",
        "    outputs=base_model.get_layer('block4_pool').output)"
      ],
      "execution_count": 11,
      "outputs": []
    },
    {
      "cell_type": "code",
      "metadata": {
        "colab": {
          "base_uri": "https://localhost:8080/"
        },
        "id": "FeBrRnr5ng0G",
        "outputId": "29521fd8-2ac4-4920-a793-ad1a0f949d69"
      },
      "source": [
        "img_path = 'https://raw.githubusercontent.com/PacktPublishing/Deep-Learning-with-TensorFlow-2-and-Keras/master/Chapter%204/cat.jpg'\n",
        "import urllib.request\n",
        "urllib.request.urlretrieve(img_path, \"cat.jpg\")\n",
        "img = image.load_img('cat.jpg', target_size=(224, 224, 3))\n",
        "x = image.img_to_array(img)\n",
        "x = np.expand_dims(x, axis=0)\n",
        "x = preprocess_input(x)\n",
        "# get the features from this block\n",
        "features = model.predict(x)\n",
        "print(features)"
      ],
      "execution_count": 27,
      "outputs": [
        {
          "output_type": "stream",
          "text": [
            "[[[[  0.         0.        39.127655 ...   0.         0.\n",
            "      0.      ]\n",
            "   [  0.         0.         0.       ...   0.       261.40973\n",
            "      0.      ]\n",
            "   [  0.         0.         0.       ...   0.       376.41425\n",
            "      0.      ]\n",
            "   ...\n",
            "   [  0.         0.         0.       ...   0.       175.46494\n",
            "      0.      ]\n",
            "   [  0.         0.        32.00825  ...   0.         0.\n",
            "      0.      ]\n",
            "   [  0.         0.        76.28149  ...   0.         0.\n",
            "      0.      ]]\n",
            "\n",
            "  [[  0.         0.         0.       ...   0.        50.92023\n",
            "      0.      ]\n",
            "   [  0.         0.        44.452904 ...   0.       123.95452\n",
            "      0.      ]\n",
            "   [  0.         0.        27.892153 ...   0.       573.44165\n",
            "      0.      ]\n",
            "   ...\n",
            "   [  0.         0.         0.       ...   0.       683.4282\n",
            "      0.      ]\n",
            "   [  0.         0.         0.       ...   0.        18.34751\n",
            "      0.      ]\n",
            "   [  0.         0.        60.561913 ...   0.         0.\n",
            "      0.      ]]\n",
            "\n",
            "  [[  0.         0.        27.617643 ...   0.         0.\n",
            "      0.      ]\n",
            "   [  0.       372.48425    0.       ...  29.134195   0.\n",
            "      0.      ]\n",
            "   [  0.        34.772655 105.49562  ...   0.         0.\n",
            "      0.      ]\n",
            "   ...\n",
            "   [  0.         0.         0.       ...   0.       823.46704\n",
            "      0.      ]\n",
            "   [  0.         0.         0.       ...   0.        95.23555\n",
            "      0.      ]\n",
            "   [  0.         0.        20.0432   ...   0.         0.\n",
            "      0.      ]]\n",
            "\n",
            "  ...\n",
            "\n",
            "  [[  0.         0.         0.       ...   0.        58.513058\n",
            "      0.      ]\n",
            "   [  0.         0.         0.       ...   0.         0.\n",
            "      0.      ]\n",
            "   [  0.         0.         0.       ...   0.         0.\n",
            "      0.      ]\n",
            "   ...\n",
            "   [  0.         0.         0.       ...   0.       376.7513\n",
            "      0.      ]\n",
            "   [  0.         0.         0.       ...   0.         0.\n",
            "      0.      ]\n",
            "   [  0.         0.         9.00437  ...   0.         0.\n",
            "      0.      ]]\n",
            "\n",
            "  [[  0.         0.         0.       ...   0.       112.54091\n",
            "      0.      ]\n",
            "   [  0.         0.         0.       ...   0.        48.29862\n",
            "      0.      ]\n",
            "   [  0.         0.         0.       ...   0.         0.\n",
            "      0.      ]\n",
            "   ...\n",
            "   [  0.         0.         0.       ...   0.       340.15564\n",
            "      0.      ]\n",
            "   [  0.         0.         0.       ...   0.         0.\n",
            "      0.      ]\n",
            "   [  0.         0.         0.       ...   0.         0.\n",
            "      0.      ]]\n",
            "\n",
            "  [[  0.         0.        33.47351  ...   0.        89.46333\n",
            "      0.      ]\n",
            "   [  0.         0.         0.       ...   0.       169.87428\n",
            "      0.      ]\n",
            "   [  0.         0.         0.       ...   0.         0.\n",
            "      0.      ]\n",
            "   ...\n",
            "   [  0.         0.         0.       ...   0.       142.92583\n",
            "      0.      ]\n",
            "   [  0.         0.         0.       ...   0.        14.979053\n",
            "      0.      ]\n",
            "   [  0.         0.        51.72882  ...   0.         0.\n",
            "      0.      ]]]]\n"
          ],
          "name": "stdout"
        }
      ]
    },
    {
      "cell_type": "code",
      "metadata": {
        "id": "-8i9oGzcnw1L"
      },
      "source": [
        ""
      ],
      "execution_count": null,
      "outputs": []
    }
  ]
}