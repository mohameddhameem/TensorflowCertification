{
  "nbformat": 4,
  "nbformat_minor": 0,
  "metadata": {
    "accelerator": "GPU",
    "colab": {
      "name": "Course 2 - Part 4 - Lesson 4 - Notebook.ipynb",
      "provenance": [],
      "collapsed_sections": [],
      "toc_visible": true,
      "include_colab_link": true
    },
    "kernelspec": {
      "display_name": "Python 3",
      "name": "python3"
    }
  },
  "cells": [
    {
      "cell_type": "markdown",
      "metadata": {
        "id": "view-in-github",
        "colab_type": "text"
      },
      "source": [
        "<a href=\"https://colab.research.google.com/github/mohameddhameem/TensorflowCertification/blob/main/AdvancedCNN/Course_2_Part_4_Lesson_4_Notebook.ipynb\" target=\"_parent\"><img src=\"https://colab.research.google.com/assets/colab-badge.svg\" alt=\"Open In Colab\"/></a>"
      ]
    },
    {
      "cell_type": "markdown",
      "metadata": {
        "id": "rX8mhOLljYeM"
      },
      "source": [
        "##### Copyright 2019 The TensorFlow Authors."
      ]
    },
    {
      "cell_type": "code",
      "metadata": {
        "cellView": "form",
        "id": "BZSlp3DAjdYf"
      },
      "source": [
        "#@title Licensed under the Apache License, Version 2.0 (the \"License\");\n",
        "# you may not use this file except in compliance with the License.\n",
        "# You may obtain a copy of the License at\n",
        "#\n",
        "# https://www.apache.org/licenses/LICENSE-2.0\n",
        "#\n",
        "# Unless required by applicable law or agreed to in writing, software\n",
        "# distributed under the License is distributed on an \"AS IS\" BASIS,\n",
        "# WITHOUT WARRANTIES OR CONDITIONS OF ANY KIND, either express or implied.\n",
        "# See the License for the specific language governing permissions and\n",
        "# limitations under the License."
      ],
      "execution_count": null,
      "outputs": []
    },
    {
      "cell_type": "code",
      "metadata": {
        "id": "RXZT2UsyIVe_",
        "colab": {
          "base_uri": "https://localhost:8080/"
        },
        "outputId": "7a60027a-8c47-4574-dc00-f9dca9dcd667"
      },
      "source": [
        "!wget --no-check-certificate \\\n",
        "    https://storage.googleapis.com/laurencemoroney-blog.appspot.com/horse-or-human.zip \\\n",
        "    -O /tmp/horse-or-human.zip\n",
        "\n",
        "!wget --no-check-certificate \\\n",
        "    https://storage.googleapis.com/laurencemoroney-blog.appspot.com/validation-horse-or-human.zip \\\n",
        "    -O /tmp/validation-horse-or-human.zip\n",
        "  \n",
        "import os\n",
        "import zipfile\n",
        "\n",
        "local_zip = '/tmp/horse-or-human.zip'\n",
        "zip_ref = zipfile.ZipFile(local_zip, 'r')\n",
        "zip_ref.extractall('/tmp/horse-or-human')\n",
        "local_zip = '/tmp/validation-horse-or-human.zip'\n",
        "zip_ref = zipfile.ZipFile(local_zip, 'r')\n",
        "zip_ref.extractall('/tmp/validation-horse-or-human')\n",
        "zip_ref.close()\n",
        "# Directory with our training horse pictures\n",
        "train_horse_dir = os.path.join('/tmp/horse-or-human/horses')\n",
        "\n",
        "# Directory with our training human pictures\n",
        "train_human_dir = os.path.join('/tmp/horse-or-human/humans')\n",
        "\n",
        "# Directory with our training horse pictures\n",
        "validation_horse_dir = os.path.join('/tmp/validation-horse-or-human/horses')\n",
        "\n",
        "# Directory with our training human pictures\n",
        "validation_human_dir = os.path.join('/tmp/validation-horse-or-human/humans')"
      ],
      "execution_count": 1,
      "outputs": [
        {
          "output_type": "stream",
          "text": [
            "--2021-04-04 04:05:14--  https://storage.googleapis.com/laurencemoroney-blog.appspot.com/horse-or-human.zip\n",
            "Resolving storage.googleapis.com (storage.googleapis.com)... 142.250.73.240, 142.250.65.80, 172.217.13.240, ...\n",
            "Connecting to storage.googleapis.com (storage.googleapis.com)|142.250.73.240|:443... connected.\n",
            "HTTP request sent, awaiting response... 200 OK\n",
            "Length: 149574867 (143M) [application/zip]\n",
            "Saving to: ‘/tmp/horse-or-human.zip’\n",
            "\n",
            "/tmp/horse-or-human 100%[===================>] 142.65M   109MB/s    in 1.3s    \n",
            "\n",
            "2021-04-04 04:05:16 (109 MB/s) - ‘/tmp/horse-or-human.zip’ saved [149574867/149574867]\n",
            "\n",
            "--2021-04-04 04:05:16--  https://storage.googleapis.com/laurencemoroney-blog.appspot.com/validation-horse-or-human.zip\n",
            "Resolving storage.googleapis.com (storage.googleapis.com)... 142.250.73.240, 142.250.65.80, 172.217.5.240, ...\n",
            "Connecting to storage.googleapis.com (storage.googleapis.com)|142.250.73.240|:443... connected.\n",
            "HTTP request sent, awaiting response... 200 OK\n",
            "Length: 11480187 (11M) [application/zip]\n",
            "Saving to: ‘/tmp/validation-horse-or-human.zip’\n",
            "\n",
            "/tmp/validation-hor 100%[===================>]  10.95M  --.-KB/s    in 0.07s   \n",
            "\n",
            "2021-04-04 04:05:16 (159 MB/s) - ‘/tmp/validation-horse-or-human.zip’ saved [11480187/11480187]\n",
            "\n"
          ],
          "name": "stdout"
        }
      ]
    },
    {
      "cell_type": "markdown",
      "metadata": {
        "id": "5oqBkNBJmtUv"
      },
      "source": [
        "## Building a Small Model from Scratch\n",
        "\n",
        "But before we continue, let's start defining the model:\n",
        "\n",
        "Step 1 will be to import tensorflow."
      ]
    },
    {
      "cell_type": "code",
      "metadata": {
        "id": "qvfZg3LQbD-5"
      },
      "source": [
        "import tensorflow as tf"
      ],
      "execution_count": 2,
      "outputs": []
    },
    {
      "cell_type": "markdown",
      "metadata": {
        "id": "BnhYCP4tdqjC"
      },
      "source": [
        "We then add convolutional layers as in the previous example, and flatten the final result to feed into the densely connected layers."
      ]
    },
    {
      "cell_type": "markdown",
      "metadata": {
        "id": "gokG5HKpdtzm"
      },
      "source": [
        "Finally we add the densely connected layers. \n",
        "\n",
        "Note that because we are facing a two-class classification problem, i.e. a *binary classification problem*, we will end our network with a [*sigmoid* activation](https://wikipedia.org/wiki/Sigmoid_function), so that the output of our network will be a single scalar between 0 and 1, encoding the probability that the current image is class 1 (as opposed to class 0)."
      ]
    },
    {
      "cell_type": "code",
      "metadata": {
        "id": "PixZ2s5QbYQ3"
      },
      "source": [
        "model = tf.keras.models.Sequential([\n",
        "    # Note the input shape is the desired size of the image 300x300 with 3 bytes color\n",
        "    # This is the first convolution\n",
        "    tf.keras.layers.Conv2D(16, (3,3), activation='relu', input_shape=(300, 300, 3)),\n",
        "    tf.keras.layers.MaxPooling2D(2, 2),\n",
        "    # The second convolution\n",
        "    tf.keras.layers.Conv2D(32, (3,3), activation='relu'),\n",
        "    tf.keras.layers.MaxPooling2D(2,2),\n",
        "    # The third convolution\n",
        "    tf.keras.layers.Conv2D(64, (3,3), activation='relu'),\n",
        "    tf.keras.layers.MaxPooling2D(2,2),\n",
        "    # The fourth convolution\n",
        "    tf.keras.layers.Conv2D(64, (3,3), activation='relu'),\n",
        "    tf.keras.layers.MaxPooling2D(2,2),\n",
        "    # The fifth convolution\n",
        "    tf.keras.layers.Conv2D(64, (3,3), activation='relu'),\n",
        "    tf.keras.layers.MaxPooling2D(2,2),\n",
        "    # Flatten the results to feed into a DNN\n",
        "    tf.keras.layers.Flatten(),\n",
        "    # 512 neuron hidden layer\n",
        "    tf.keras.layers.Dense(512, activation='relu'),\n",
        "    # Only 1 output neuron. It will contain a value from 0-1 where 0 for 1 class ('horses') and 1 for the other ('humans')\n",
        "    tf.keras.layers.Dense(1, activation='sigmoid')\n",
        "])"
      ],
      "execution_count": 3,
      "outputs": []
    },
    {
      "cell_type": "code",
      "metadata": {
        "id": "8DHWhFP_uhq3"
      },
      "source": [
        "from tensorflow.keras.optimizers import RMSprop\n",
        "\n",
        "model.compile(loss='binary_crossentropy',\n",
        "              optimizer=RMSprop(lr=1e-4),\n",
        "              metrics=['accuracy'])"
      ],
      "execution_count": 4,
      "outputs": []
    },
    {
      "cell_type": "code",
      "metadata": {
        "id": "ClebU9NJg99G",
        "colab": {
          "base_uri": "https://localhost:8080/"
        },
        "outputId": "a5d4925c-1139-42cd-db35-b9fa1eb0cf46"
      },
      "source": [
        "from tensorflow.keras.preprocessing.image import ImageDataGenerator\n",
        "\n",
        "# All images will be rescaled by 1./255\n",
        "train_datagen = ImageDataGenerator(\n",
        "      rescale=1./255,\n",
        "      rotation_range=40,\n",
        "      width_shift_range=0.2,\n",
        "      height_shift_range=0.2,\n",
        "      shear_range=0.2,\n",
        "      zoom_range=0.2,\n",
        "      horizontal_flip=True,\n",
        "      fill_mode='nearest')\n",
        "\n",
        "validation_datagen = ImageDataGenerator(rescale=1/255)\n",
        "\n",
        "# Flow training images in batches of 128 using train_datagen generator\n",
        "train_generator = train_datagen.flow_from_directory(\n",
        "        '/tmp/horse-or-human/',  # This is the source directory for training images\n",
        "        target_size=(300, 300),  # All images will be resized to 300x300\n",
        "        batch_size=128,\n",
        "        # Since we use binary_crossentropy loss, we need binary labels\n",
        "        class_mode='binary')\n",
        "\n",
        "# Flow training images in batches of 128 using train_datagen generator\n",
        "validation_generator = validation_datagen.flow_from_directory(\n",
        "        '/tmp/validation-horse-or-human/',  # This is the source directory for training images\n",
        "        target_size=(300, 300),  # All images will be resized to 300x300\n",
        "        batch_size=32,\n",
        "        # Since we use binary_crossentropy loss, we need binary labels\n",
        "        class_mode='binary')"
      ],
      "execution_count": 5,
      "outputs": [
        {
          "output_type": "stream",
          "text": [
            "Found 1027 images belonging to 2 classes.\n",
            "Found 256 images belonging to 2 classes.\n"
          ],
          "name": "stdout"
        }
      ]
    },
    {
      "cell_type": "code",
      "metadata": {
        "id": "Fb1_lgobv81m",
        "colab": {
          "base_uri": "https://localhost:8080/"
        },
        "outputId": "88bd9444-fc82-49c1-a36b-5be828ac46b6"
      },
      "source": [
        "history = model.fit(\n",
        "      train_generator,\n",
        "      steps_per_epoch=8,  \n",
        "      epochs=100,\n",
        "      verbose=1,\n",
        "      validation_data = validation_generator,\n",
        "      validation_steps=8)"
      ],
      "execution_count": 6,
      "outputs": [
        {
          "output_type": "stream",
          "text": [
            "Epoch 1/100\n",
            "8/8 [==============================] - 54s 3s/step - loss: 0.6935 - accuracy: 0.5275 - val_loss: 0.6976 - val_accuracy: 0.5000\n",
            "Epoch 2/100\n",
            "8/8 [==============================] - 21s 3s/step - loss: 0.6762 - accuracy: 0.5712 - val_loss: 0.6577 - val_accuracy: 0.5391\n",
            "Epoch 3/100\n",
            "8/8 [==============================] - 21s 3s/step - loss: 0.6599 - accuracy: 0.6494 - val_loss: 0.6039 - val_accuracy: 0.8906\n",
            "Epoch 4/100\n",
            "8/8 [==============================] - 21s 3s/step - loss: 0.6398 - accuracy: 0.6516 - val_loss: 0.6004 - val_accuracy: 0.6328\n",
            "Epoch 5/100\n",
            "8/8 [==============================] - 21s 3s/step - loss: 0.6190 - accuracy: 0.7042 - val_loss: 0.6701 - val_accuracy: 0.5117\n",
            "Epoch 6/100\n",
            "8/8 [==============================] - 21s 3s/step - loss: 0.6252 - accuracy: 0.6833 - val_loss: 0.5375 - val_accuracy: 0.7734\n",
            "Epoch 7/100\n",
            "8/8 [==============================] - 21s 3s/step - loss: 0.5810 - accuracy: 0.7897 - val_loss: 0.4992 - val_accuracy: 0.7969\n",
            "Epoch 8/100\n",
            "8/8 [==============================] - 23s 3s/step - loss: 0.5519 - accuracy: 0.7453 - val_loss: 0.9686 - val_accuracy: 0.5078\n",
            "Epoch 9/100\n",
            "8/8 [==============================] - 23s 3s/step - loss: 0.5537 - accuracy: 0.7118 - val_loss: 0.5020 - val_accuracy: 0.7188\n",
            "Epoch 10/100\n",
            "8/8 [==============================] - 21s 3s/step - loss: 0.5163 - accuracy: 0.7614 - val_loss: 0.5223 - val_accuracy: 0.6875\n",
            "Epoch 11/100\n",
            "8/8 [==============================] - 21s 3s/step - loss: 0.4862 - accuracy: 0.8064 - val_loss: 0.6189 - val_accuracy: 0.6484\n",
            "Epoch 12/100\n",
            "8/8 [==============================] - 21s 3s/step - loss: 0.4851 - accuracy: 0.7771 - val_loss: 0.6975 - val_accuracy: 0.6250\n",
            "Epoch 13/100\n",
            "8/8 [==============================] - 21s 3s/step - loss: 0.4610 - accuracy: 0.8144 - val_loss: 0.6323 - val_accuracy: 0.6641\n",
            "Epoch 14/100\n",
            "8/8 [==============================] - 21s 3s/step - loss: 0.4553 - accuracy: 0.7995 - val_loss: 0.5989 - val_accuracy: 0.6680\n",
            "Epoch 15/100\n",
            "8/8 [==============================] - 21s 3s/step - loss: 0.4427 - accuracy: 0.8072 - val_loss: 0.8601 - val_accuracy: 0.6133\n",
            "Epoch 16/100\n",
            "8/8 [==============================] - 21s 3s/step - loss: 0.4844 - accuracy: 0.7611 - val_loss: 0.9439 - val_accuracy: 0.5859\n",
            "Epoch 17/100\n",
            "8/8 [==============================] - 21s 3s/step - loss: 0.4839 - accuracy: 0.7584 - val_loss: 0.9707 - val_accuracy: 0.5859\n",
            "Epoch 18/100\n",
            "8/8 [==============================] - 21s 3s/step - loss: 0.4084 - accuracy: 0.8248 - val_loss: 1.1625 - val_accuracy: 0.5781\n",
            "Epoch 19/100\n",
            "8/8 [==============================] - 21s 3s/step - loss: 0.4031 - accuracy: 0.8255 - val_loss: 0.3120 - val_accuracy: 0.8555\n",
            "Epoch 20/100\n",
            "8/8 [==============================] - 23s 3s/step - loss: 0.5478 - accuracy: 0.7448 - val_loss: 1.1234 - val_accuracy: 0.5781\n",
            "Epoch 21/100\n",
            "8/8 [==============================] - 21s 3s/step - loss: 0.3913 - accuracy: 0.8078 - val_loss: 2.5420 - val_accuracy: 0.5000\n",
            "Epoch 22/100\n",
            "8/8 [==============================] - 21s 3s/step - loss: 0.5983 - accuracy: 0.7380 - val_loss: 1.1612 - val_accuracy: 0.6055\n",
            "Epoch 23/100\n",
            "8/8 [==============================] - 21s 3s/step - loss: 0.5086 - accuracy: 0.7582 - val_loss: 1.2904 - val_accuracy: 0.5781\n",
            "Epoch 24/100\n",
            "8/8 [==============================] - 21s 3s/step - loss: 0.3657 - accuracy: 0.8309 - val_loss: 1.7706 - val_accuracy: 0.5273\n",
            "Epoch 25/100\n",
            "8/8 [==============================] - 21s 3s/step - loss: 0.3382 - accuracy: 0.8566 - val_loss: 2.8393 - val_accuracy: 0.5000\n",
            "Epoch 26/100\n",
            "8/8 [==============================] - 21s 3s/step - loss: 0.5217 - accuracy: 0.7541 - val_loss: 1.2671 - val_accuracy: 0.6172\n",
            "Epoch 27/100\n",
            "8/8 [==============================] - 21s 3s/step - loss: 0.3543 - accuracy: 0.8512 - val_loss: 1.1021 - val_accuracy: 0.6133\n",
            "Epoch 28/100\n",
            "8/8 [==============================] - 21s 3s/step - loss: 0.2900 - accuracy: 0.8800 - val_loss: 2.4048 - val_accuracy: 0.5156\n",
            "Epoch 29/100\n",
            "8/8 [==============================] - 21s 3s/step - loss: 0.4012 - accuracy: 0.7929 - val_loss: 1.3727 - val_accuracy: 0.5977\n",
            "Epoch 30/100\n",
            "8/8 [==============================] - 21s 3s/step - loss: 0.3059 - accuracy: 0.8722 - val_loss: 1.7723 - val_accuracy: 0.5664\n",
            "Epoch 31/100\n",
            "8/8 [==============================] - 21s 3s/step - loss: 0.3540 - accuracy: 0.8431 - val_loss: 1.1187 - val_accuracy: 0.6406\n",
            "Epoch 32/100\n",
            "8/8 [==============================] - 21s 3s/step - loss: 0.3152 - accuracy: 0.8705 - val_loss: 1.8240 - val_accuracy: 0.5703\n",
            "Epoch 33/100\n",
            "8/8 [==============================] - 21s 3s/step - loss: 0.3223 - accuracy: 0.8686 - val_loss: 1.1275 - val_accuracy: 0.6680\n",
            "Epoch 34/100\n",
            "8/8 [==============================] - 21s 3s/step - loss: 0.2924 - accuracy: 0.8885 - val_loss: 3.4333 - val_accuracy: 0.5000\n",
            "Epoch 35/100\n",
            "8/8 [==============================] - 21s 3s/step - loss: 0.5075 - accuracy: 0.7686 - val_loss: 1.1615 - val_accuracy: 0.6562\n",
            "Epoch 36/100\n",
            "8/8 [==============================] - 21s 3s/step - loss: 0.3358 - accuracy: 0.8353 - val_loss: 1.1166 - val_accuracy: 0.6719\n",
            "Epoch 37/100\n",
            "8/8 [==============================] - 21s 3s/step - loss: 0.2951 - accuracy: 0.8716 - val_loss: 1.8436 - val_accuracy: 0.5781\n",
            "Epoch 38/100\n",
            "8/8 [==============================] - 21s 3s/step - loss: 0.2933 - accuracy: 0.8840 - val_loss: 1.2704 - val_accuracy: 0.6445\n",
            "Epoch 39/100\n",
            "8/8 [==============================] - 21s 3s/step - loss: 0.3156 - accuracy: 0.8588 - val_loss: 3.1383 - val_accuracy: 0.5000\n",
            "Epoch 40/100\n",
            "8/8 [==============================] - 21s 3s/step - loss: 0.4030 - accuracy: 0.8209 - val_loss: 1.3515 - val_accuracy: 0.6172\n",
            "Epoch 41/100\n",
            "8/8 [==============================] - 21s 3s/step - loss: 0.2748 - accuracy: 0.8832 - val_loss: 0.3480 - val_accuracy: 0.8516\n",
            "Epoch 42/100\n",
            "8/8 [==============================] - 23s 3s/step - loss: 0.3990 - accuracy: 0.8142 - val_loss: 1.8308 - val_accuracy: 0.5703\n",
            "Epoch 43/100\n",
            "8/8 [==============================] - 23s 3s/step - loss: 0.2473 - accuracy: 0.8968 - val_loss: 1.3820 - val_accuracy: 0.6289\n",
            "Epoch 44/100\n",
            "8/8 [==============================] - 21s 3s/step - loss: 0.3283 - accuracy: 0.8569 - val_loss: 1.6682 - val_accuracy: 0.5898\n",
            "Epoch 45/100\n",
            "8/8 [==============================] - 21s 3s/step - loss: 0.2258 - accuracy: 0.9097 - val_loss: 2.3593 - val_accuracy: 0.5430\n",
            "Epoch 46/100\n",
            "8/8 [==============================] - 21s 3s/step - loss: 0.3373 - accuracy: 0.8515 - val_loss: 1.6150 - val_accuracy: 0.6172\n",
            "Epoch 47/100\n",
            "8/8 [==============================] - 21s 3s/step - loss: 0.2285 - accuracy: 0.9074 - val_loss: 1.8985 - val_accuracy: 0.5820\n",
            "Epoch 48/100\n",
            "8/8 [==============================] - 21s 3s/step - loss: 0.2454 - accuracy: 0.9091 - val_loss: 1.7194 - val_accuracy: 0.6016\n",
            "Epoch 49/100\n",
            "8/8 [==============================] - 21s 3s/step - loss: 0.2599 - accuracy: 0.9082 - val_loss: 1.6274 - val_accuracy: 0.6289\n",
            "Epoch 50/100\n",
            "8/8 [==============================] - 21s 3s/step - loss: 0.2347 - accuracy: 0.9054 - val_loss: 1.7402 - val_accuracy: 0.6211\n",
            "Epoch 51/100\n",
            "8/8 [==============================] - 21s 3s/step - loss: 0.2172 - accuracy: 0.9095 - val_loss: 1.4166 - val_accuracy: 0.6445\n",
            "Epoch 52/100\n",
            "8/8 [==============================] - 21s 3s/step - loss: 0.2791 - accuracy: 0.8841 - val_loss: 2.1453 - val_accuracy: 0.5859\n",
            "Epoch 53/100\n",
            "8/8 [==============================] - 21s 3s/step - loss: 0.2476 - accuracy: 0.8931 - val_loss: 1.4244 - val_accuracy: 0.6367\n",
            "Epoch 54/100\n",
            "8/8 [==============================] - 21s 3s/step - loss: 0.2331 - accuracy: 0.9029 - val_loss: 1.9675 - val_accuracy: 0.6055\n",
            "Epoch 55/100\n",
            "8/8 [==============================] - 21s 3s/step - loss: 0.2175 - accuracy: 0.9245 - val_loss: 2.8359 - val_accuracy: 0.5312\n",
            "Epoch 56/100\n",
            "8/8 [==============================] - 21s 3s/step - loss: 0.2724 - accuracy: 0.8817 - val_loss: 1.7658 - val_accuracy: 0.6211\n",
            "Epoch 57/100\n",
            "8/8 [==============================] - 23s 3s/step - loss: 0.2324 - accuracy: 0.8984 - val_loss: 2.2364 - val_accuracy: 0.5820\n",
            "Epoch 58/100\n",
            "8/8 [==============================] - 21s 3s/step - loss: 0.2201 - accuracy: 0.9118 - val_loss: 0.4042 - val_accuracy: 0.8711\n",
            "Epoch 59/100\n",
            "8/8 [==============================] - 23s 3s/step - loss: 0.4139 - accuracy: 0.8453 - val_loss: 2.0539 - val_accuracy: 0.6055\n",
            "Epoch 60/100\n",
            "8/8 [==============================] - 21s 3s/step - loss: 0.2731 - accuracy: 0.8899 - val_loss: 1.6737 - val_accuracy: 0.6328\n",
            "Epoch 61/100\n",
            "8/8 [==============================] - 21s 3s/step - loss: 0.1665 - accuracy: 0.9424 - val_loss: 2.0973 - val_accuracy: 0.6094\n",
            "Epoch 62/100\n",
            "8/8 [==============================] - 21s 3s/step - loss: 0.1783 - accuracy: 0.9266 - val_loss: 2.2777 - val_accuracy: 0.5859\n",
            "Epoch 63/100\n",
            "8/8 [==============================] - 21s 3s/step - loss: 0.1988 - accuracy: 0.9200 - val_loss: 3.9789 - val_accuracy: 0.5078\n",
            "Epoch 64/100\n",
            "8/8 [==============================] - 21s 3s/step - loss: 0.2813 - accuracy: 0.8725 - val_loss: 2.2943 - val_accuracy: 0.5977\n",
            "Epoch 65/100\n",
            "8/8 [==============================] - 21s 3s/step - loss: 0.2535 - accuracy: 0.8948 - val_loss: 2.2924 - val_accuracy: 0.6055\n",
            "Epoch 66/100\n",
            "8/8 [==============================] - 21s 3s/step - loss: 0.1638 - accuracy: 0.9455 - val_loss: 2.6572 - val_accuracy: 0.5781\n",
            "Epoch 67/100\n",
            "8/8 [==============================] - 21s 3s/step - loss: 0.1862 - accuracy: 0.9247 - val_loss: 1.6951 - val_accuracy: 0.6602\n",
            "Epoch 68/100\n",
            "8/8 [==============================] - 21s 3s/step - loss: 0.2857 - accuracy: 0.8950 - val_loss: 1.9743 - val_accuracy: 0.6211\n",
            "Epoch 69/100\n",
            "8/8 [==============================] - 21s 3s/step - loss: 0.1711 - accuracy: 0.9461 - val_loss: 2.1344 - val_accuracy: 0.6211\n",
            "Epoch 70/100\n",
            "8/8 [==============================] - 21s 3s/step - loss: 0.2020 - accuracy: 0.9194 - val_loss: 1.1538 - val_accuracy: 0.7031\n",
            "Epoch 71/100\n",
            "8/8 [==============================] - 21s 3s/step - loss: 0.3261 - accuracy: 0.8691 - val_loss: 1.8827 - val_accuracy: 0.6250\n",
            "Epoch 72/100\n",
            "8/8 [==============================] - 21s 3s/step - loss: 0.1969 - accuracy: 0.9301 - val_loss: 1.3884 - val_accuracy: 0.6992\n",
            "Epoch 73/100\n",
            "8/8 [==============================] - 21s 3s/step - loss: 0.1922 - accuracy: 0.9233 - val_loss: 1.8222 - val_accuracy: 0.6562\n",
            "Epoch 74/100\n",
            "8/8 [==============================] - 21s 3s/step - loss: 0.2448 - accuracy: 0.8867 - val_loss: 2.3157 - val_accuracy: 0.6094\n",
            "Epoch 75/100\n",
            "8/8 [==============================] - 21s 3s/step - loss: 0.1622 - accuracy: 0.9343 - val_loss: 2.7480 - val_accuracy: 0.5703\n",
            "Epoch 76/100\n",
            "8/8 [==============================] - 21s 3s/step - loss: 0.1769 - accuracy: 0.9320 - val_loss: 0.5928 - val_accuracy: 0.8164\n",
            "Epoch 77/100\n",
            "8/8 [==============================] - 21s 3s/step - loss: 0.3074 - accuracy: 0.8589 - val_loss: 1.9118 - val_accuracy: 0.6211\n",
            "Epoch 78/100\n",
            "8/8 [==============================] - 21s 3s/step - loss: 0.1406 - accuracy: 0.9513 - val_loss: 1.4449 - val_accuracy: 0.7070\n",
            "Epoch 79/100\n",
            "8/8 [==============================] - 21s 3s/step - loss: 0.2850 - accuracy: 0.8624 - val_loss: 1.6464 - val_accuracy: 0.6328\n",
            "Epoch 80/100\n",
            "8/8 [==============================] - 21s 3s/step - loss: 0.1590 - accuracy: 0.9421 - val_loss: 1.7895 - val_accuracy: 0.6523\n",
            "Epoch 81/100\n",
            "8/8 [==============================] - 21s 3s/step - loss: 0.1653 - accuracy: 0.9380 - val_loss: 1.9718 - val_accuracy: 0.6523\n",
            "Epoch 82/100\n",
            "8/8 [==============================] - 21s 3s/step - loss: 0.1949 - accuracy: 0.9116 - val_loss: 1.4011 - val_accuracy: 0.6992\n",
            "Epoch 83/100\n",
            "8/8 [==============================] - 21s 3s/step - loss: 0.1839 - accuracy: 0.9232 - val_loss: 1.5589 - val_accuracy: 0.6914\n",
            "Epoch 84/100\n",
            "8/8 [==============================] - 23s 3s/step - loss: 0.1803 - accuracy: 0.9331 - val_loss: 2.1117 - val_accuracy: 0.6445\n",
            "Epoch 85/100\n",
            "8/8 [==============================] - 21s 3s/step - loss: 0.1640 - accuracy: 0.9334 - val_loss: 0.9697 - val_accuracy: 0.7266\n",
            "Epoch 86/100\n",
            "8/8 [==============================] - 23s 3s/step - loss: 0.1544 - accuracy: 0.9413 - val_loss: 2.8458 - val_accuracy: 0.5938\n",
            "Epoch 87/100\n",
            "8/8 [==============================] - 21s 3s/step - loss: 0.2441 - accuracy: 0.8987 - val_loss: 2.0829 - val_accuracy: 0.6484\n",
            "Epoch 88/100\n",
            "8/8 [==============================] - 21s 3s/step - loss: 0.1447 - accuracy: 0.9455 - val_loss: 1.7294 - val_accuracy: 0.6836\n",
            "Epoch 89/100\n",
            "8/8 [==============================] - 21s 3s/step - loss: 0.1382 - accuracy: 0.9457 - val_loss: 2.5663 - val_accuracy: 0.6133\n",
            "Epoch 90/100\n",
            "8/8 [==============================] - 21s 3s/step - loss: 0.1541 - accuracy: 0.9419 - val_loss: 2.0554 - val_accuracy: 0.6094\n",
            "Epoch 91/100\n",
            "8/8 [==============================] - 23s 3s/step - loss: 0.1689 - accuracy: 0.9320 - val_loss: 2.3651 - val_accuracy: 0.6133\n",
            "Epoch 92/100\n",
            "8/8 [==============================] - 21s 3s/step - loss: 0.1615 - accuracy: 0.9329 - val_loss: 2.0797 - val_accuracy: 0.6445\n",
            "Epoch 93/100\n",
            "8/8 [==============================] - 21s 3s/step - loss: 0.1694 - accuracy: 0.9379 - val_loss: 2.2481 - val_accuracy: 0.6406\n",
            "Epoch 94/100\n",
            "8/8 [==============================] - 21s 3s/step - loss: 0.2292 - accuracy: 0.9073 - val_loss: 1.8607 - val_accuracy: 0.6445\n",
            "Epoch 95/100\n",
            "8/8 [==============================] - 23s 3s/step - loss: 0.1333 - accuracy: 0.9483 - val_loss: 2.0679 - val_accuracy: 0.6602\n",
            "Epoch 96/100\n",
            "8/8 [==============================] - 21s 3s/step - loss: 0.1781 - accuracy: 0.9219 - val_loss: 2.4113 - val_accuracy: 0.6250\n",
            "Epoch 97/100\n",
            "8/8 [==============================] - 23s 3s/step - loss: 0.1271 - accuracy: 0.9553 - val_loss: 4.1245 - val_accuracy: 0.5391\n",
            "Epoch 98/100\n",
            "8/8 [==============================] - 21s 3s/step - loss: 0.2077 - accuracy: 0.9251 - val_loss: 4.7901 - val_accuracy: 0.5195\n",
            "Epoch 99/100\n",
            "8/8 [==============================] - 23s 3s/step - loss: 0.2013 - accuracy: 0.9093 - val_loss: 2.3240 - val_accuracy: 0.6328\n",
            "Epoch 100/100\n",
            "8/8 [==============================] - 23s 3s/step - loss: 0.1309 - accuracy: 0.9521 - val_loss: 2.5067 - val_accuracy: 0.6211\n"
          ],
          "name": "stdout"
        }
      ]
    },
    {
      "cell_type": "code",
      "metadata": {
        "id": "7zNPRWOVJdOH",
        "colab": {
          "base_uri": "https://localhost:8080/",
          "height": 545
        },
        "outputId": "21a6ddc9-6976-4376-92fc-7fdf871d09ed"
      },
      "source": [
        "import matplotlib.pyplot as plt\n",
        "acc = history.history['accuracy']\n",
        "val_acc = history.history['val_accuracy']\n",
        "loss = history.history['loss']\n",
        "val_loss = history.history['val_loss']\n",
        "\n",
        "epochs = range(len(acc))\n",
        "\n",
        "plt.plot(epochs, acc, 'r', label='Training accuracy')\n",
        "plt.plot(epochs, val_acc, 'b', label='Validation accuracy')\n",
        "plt.title('Training and validation accuracy')\n",
        "\n",
        "plt.figure()\n",
        "\n",
        "plt.plot(epochs, loss, 'r', label='Training Loss')\n",
        "plt.plot(epochs, val_loss, 'b', label='Validation Loss')\n",
        "plt.title('Training and validation loss')\n",
        "plt.legend()\n",
        "\n",
        "plt.show()"
      ],
      "execution_count": 7,
      "outputs": [
        {
          "output_type": "display_data",
          "data": {
            "image/png": "[encoded data removed]",
            "text/plain": [
              "<Figure size 432x288 with 1 Axes>"
            ]
          },
          "metadata": {
            "tags": [],
            "needs_background": "light"
          }
        },
        {
          "output_type": "display_data",
          "data": {
            "image/png": "[encoded data removed]",
            "text/plain": [
              "<Figure size 432x288 with 1 Axes>"
            ]
          },
          "metadata": {
            "tags": [],
            "needs_background": "light"
          }
        }
      ]
    },
    {
      "cell_type": "code",
      "metadata": {
        "id": "5oc5AfFWEFQQ"
      },
      "source": [
        ""
      ],
      "execution_count": null,
      "outputs": []
    }
  ]
}