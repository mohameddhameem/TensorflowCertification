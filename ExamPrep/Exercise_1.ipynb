{
  "nbformat": 4,
  "nbformat_minor": 0,
  "metadata": {
    "accelerator": "GPU",
    "colab": {
      "name": "Exercise 1.ipynb",
      "provenance": [],
      "toc_visible": true,
      "authorship_tag": "ABX9TyMWI9ge4ctYz8FUcgEr/XsY",
      "include_colab_link": true
    },
    "kernelspec": {
      "display_name": "Python 3",
      "name": "python3"
    },
    "language_info": {
      "name": "python"
    }
  },
  "cells": [
    {
      "cell_type": "markdown",
      "metadata": {
        "id": "view-in-github",
        "colab_type": "text"
      },
      "source": [
        "<a href=\"https://colab.research.google.com/github/mohameddhameem/TensorflowCertification/blob/main/ExamPrep/Exercise_1.ipynb\" target=\"_parent\"><img src=\"https://colab.research.google.com/assets/colab-badge.svg\" alt=\"Open In Colab\"/></a>"
      ]
    },
    {
      "cell_type": "markdown",
      "metadata": {
        "id": "lRLMnLJyPhH_"
      },
      "source": [
        "# For Problem Statement 1\n",
        "❏ UseTensorFlow2.x.\n",
        "\n",
        "❏ Build, compile and train machine learning (ML) models using TensorFlow.\n",
        "\n",
        "❏ Preprocess data to get it ready for use in a model.\n",
        "\n",
        "❏ Use models to predict results.\n",
        "\n",
        "❏ Build sequential models with multiple layers.\n",
        "\n",
        "❏ Build and train models for binary classification.\n",
        "\n",
        "❏ Build and train models for multi-class categorization.\n",
        "\n",
        "❏ Plot loss and accuracy of a trained model.\n",
        "\n",
        "❏ Identify strategies to prevent overfitting, including augmentation and dropout.\n",
        "\n",
        "❏ Use pre trained models(transfer learning).\n",
        "\n",
        "❏ Extract features from pre-trained models.\n",
        "\n",
        "❏ Ensure that that inputs to a model are in the correct shape.\n",
        "\n",
        "❏ Ensure that you can match test data to the input shape of a neural network.\n",
        "\n",
        "❏ Ensure you can match outputdata of a neural network to specified input shape for test data. \n",
        "\n",
        "❏ Understand batch loading of data.\n",
        "\n",
        "❏ Use callbacks to trigger the end of training cycles.\n",
        "\n",
        "❏ Use datasets from different sources.\n",
        "\n",
        "❏ Use datasets in different formats, including json and csv. \n",
        "\n",
        "❏ Use datasets from tf.data.datasets."
      ]
    },
    {
      "cell_type": "markdown",
      "metadata": {
        "id": "kEN65y-8QUkk"
      },
      "source": [
        "## Would like to addrss one or more above problems in a single model"
      ]
    },
    {
      "cell_type": "code",
      "metadata": {
        "colab": {
          "base_uri": "https://localhost:8080/"
        },
        "id": "ho9vwNeJPXoG",
        "outputId": "6828e886-07e9-4916-ee92-38388eab0dd9"
      },
      "source": [
        "import tensorflow as tf\n",
        "print(tf.__version__)"
      ],
      "execution_count": 1,
      "outputs": [
        {
          "output_type": "stream",
          "text": [
            "2.5.0\n"
          ],
          "name": "stdout"
        }
      ]
    },
    {
      "cell_type": "markdown",
      "metadata": {
        "id": "jpQUpviaQ3vF"
      },
      "source": [
        "* Binary Classification Cat vs Dog\n",
        "* Plot Loss and accuracy of a trained model\n",
        "* Prevent overfitting (with dropout)"
      ]
    },
    {
      "cell_type": "code",
      "metadata": {
        "id": "g2G-kFndQggq"
      },
      "source": [
        "import os\n",
        "import zipfile\n",
        "import tensorflow as tf\n",
        "from tensorflow.keras.optimizers import RMSprop\n",
        "from tensorflow.keras.preprocessing.image import ImageDataGenerator"
      ],
      "execution_count": 2,
      "outputs": []
    },
    {
      "cell_type": "markdown",
      "metadata": {
        "id": "Bt7QFT_ASLV0"
      },
      "source": [
        "# Cat vs Dog"
      ]
    },
    {
      "cell_type": "code",
      "metadata": {
        "colab": {
          "base_uri": "https://localhost:8080/"
        },
        "id": "liCDpAgSSIej",
        "outputId": "6870998e-8e13-4464-8137-e4933122658e"
      },
      "source": [
        "!wget --no-check-certificate \\\n",
        "    https://storage.googleapis.com/mledu-datasets/cats_and_dogs_filtered.zip \\\n",
        "    -O /tmp/cats_and_dogs_filtered.zip\n",
        "\n",
        "local_zip = '/tmp/cats_and_dogs_filtered.zip'\n",
        "zip_ref = zipfile.ZipFile(local_zip, 'r')\n",
        "zip_ref.extractall('/tmp')\n",
        "zip_ref.close()\n",
        "\n",
        "base_dir = '/tmp/cats_and_dogs_filtered'"
      ],
      "execution_count": 3,
      "outputs": [
        {
          "output_type": "stream",
          "text": [
            "--2021-06-02 11:53:46--  https://storage.googleapis.com/mledu-datasets/cats_and_dogs_filtered.zip\n",
            "Resolving storage.googleapis.com (storage.googleapis.com)... 74.125.206.128, 64.233.167.128, 64.233.166.128, ...\n",
            "Connecting to storage.googleapis.com (storage.googleapis.com)|74.125.206.128|:443... connected.\n",
            "HTTP request sent, awaiting response... 200 OK\n",
            "Length: 68606236 (65M) [application/zip]\n",
            "Saving to: ‘/tmp/cats_and_dogs_filtered.zip’\n",
            "\n",
            "/tmp/cats_and_dogs_ 100%[===================>]  65.43M   203MB/s    in 0.3s    \n",
            "\n",
            "2021-06-02 11:53:46 (203 MB/s) - ‘/tmp/cats_and_dogs_filtered.zip’ saved [68606236/68606236]\n",
            "\n"
          ],
          "name": "stdout"
        }
      ]
    },
    {
      "cell_type": "code",
      "metadata": {
        "id": "br66MTb3SHzF"
      },
      "source": [
        "train_dir = os.path.join(base_dir, 'train')\n",
        "validation_dir = os.path.join(base_dir, 'validation')\n",
        "\n",
        "# Directory with our training cat pictures\n",
        "train_cats_dir = os.path.join(train_dir, 'cats')\n",
        "\n",
        "# Directory with our training dog pictures\n",
        "train_dogs_dir = os.path.join(train_dir, 'dogs')\n",
        "\n",
        "# Directory with our validation cat pictures\n",
        "validation_cats_dir = os.path.join(validation_dir, 'cats')\n",
        "\n",
        "# Directory with our validation dog pictures\n",
        "validation_dogs_dir = os.path.join(validation_dir, 'dogs')"
      ],
      "execution_count": 4,
      "outputs": []
    },
    {
      "cell_type": "code",
      "metadata": {
        "colab": {
          "base_uri": "https://localhost:8080/"
        },
        "id": "zHx38B5bSf5g",
        "outputId": "eb356f32-2386-4b53-f0f0-0cbc68ea5023"
      },
      "source": [
        "# We already have the images properly placed in train / validation folder.\n",
        "# Lets build the model. Consider the incoming images would be of 150x150\n",
        "\n",
        "# 1. First Image generator\n",
        "train_image_gen = ImageDataGenerator(rescale=1. / 255)\n",
        "val_image_gen = ImageDataGenerator(rescale=1. / 255)\n",
        "\n",
        "train_generator = train_image_gen.flow_from_directory(train_dir,\n",
        "                                                      target_size=(150,150),\n",
        "                                                      batch_size=20,\n",
        "                                                      class_mode='binary')\n",
        "\n",
        "validation_generator = val_image_gen.flow_from_directory(validation_dir,\n",
        "                                                      target_size=(150,150),\n",
        "                                                      batch_size=20,\n",
        "                                                      class_mode='binary')"
      ],
      "execution_count": 7,
      "outputs": [
        {
          "output_type": "stream",
          "text": [
            "Found 2000 images belonging to 2 classes.\n",
            "Found 1000 images belonging to 2 classes.\n"
          ],
          "name": "stdout"
        }
      ]
    },
    {
      "cell_type": "code",
      "metadata": {
        "colab": {
          "base_uri": "https://localhost:8080/"
        },
        "id": "dGQ1Qk1sTxv9",
        "outputId": "6fe1897c-12cf-4652-c386-9fdf82278971"
      },
      "source": [
        "#Lets build our simple model\n",
        "model = tf.keras.models.Sequential([\n",
        "                                    tf.keras.layers.Conv2D(32,(3,3),activation='relu', input_shape=(150, 150, 3)),\n",
        "                                    tf.keras.layers.MaxPooling2D(pool_size=(2,2)),\n",
        "                                    tf.keras.layers.Flatten(),\n",
        "                                    tf.keras.layers.Dense(512, activation='relu'),\n",
        "                                    tf.keras.layers.Dense(1, activation='sigmoid')\n",
        "])\n",
        "\n",
        "model.compile(loss='binary_crossentropy', \n",
        "              optimizer=RMSprop(lr=1e-4),\n",
        "              metrics=['accuracy'])\n",
        "\n",
        "history = model.fit(\n",
        "    train_generator,\n",
        "      steps_per_epoch=100,  # 2000 images = batch_size * steps\n",
        "      epochs=100,\n",
        "      validation_data=validation_generator,\n",
        "      validation_steps=50,  # 1000 images = batch_size * steps\n",
        "      verbose=2)"
      ],
      "execution_count": 8,
      "outputs": [
        {
          "output_type": "stream",
          "text": [
            "/usr/local/lib/python3.7/dist-packages/tensorflow/python/keras/optimizer_v2/optimizer_v2.py:375: UserWarning: The `lr` argument is deprecated, use `learning_rate` instead.\n",
            "  \"The `lr` argument is deprecated, use `learning_rate` instead.\")\n"
          ],
          "name": "stderr"
        },
        {
          "output_type": "stream",
          "text": [
            "Epoch 1/100\n",
            "100/100 - 13s - loss: 2.0435 - accuracy: 0.5270 - val_loss: 0.7094 - val_accuracy: 0.5590\n",
            "Epoch 2/100\n",
            "100/100 - 12s - loss: 0.9052 - accuracy: 0.5770 - val_loss: 0.6676 - val_accuracy: 0.5660\n",
            "Epoch 3/100\n",
            "100/100 - 12s - loss: 0.6896 - accuracy: 0.6190 - val_loss: 0.7600 - val_accuracy: 0.5770\n",
            "Epoch 4/100\n",
            "100/100 - 12s - loss: 0.5701 - accuracy: 0.6875 - val_loss: 0.6839 - val_accuracy: 0.5850\n",
            "Epoch 5/100\n",
            "100/100 - 12s - loss: 0.4647 - accuracy: 0.7620 - val_loss: 0.6422 - val_accuracy: 0.6630\n",
            "Epoch 6/100\n",
            "100/100 - 12s - loss: 0.3811 - accuracy: 0.8365 - val_loss: 0.5737 - val_accuracy: 0.6890\n",
            "Epoch 7/100\n",
            "100/100 - 12s - loss: 0.3133 - accuracy: 0.8760 - val_loss: 0.7560 - val_accuracy: 0.5870\n",
            "Epoch 8/100\n",
            "100/100 - 12s - loss: 0.2553 - accuracy: 0.9155 - val_loss: 0.6504 - val_accuracy: 0.6870\n",
            "Epoch 9/100\n",
            "100/100 - 12s - loss: 0.1966 - accuracy: 0.9350 - val_loss: 0.6228 - val_accuracy: 0.7120\n",
            "Epoch 10/100\n",
            "100/100 - 12s - loss: 0.1557 - accuracy: 0.9610 - val_loss: 0.6979 - val_accuracy: 0.6940\n",
            "Epoch 11/100\n",
            "100/100 - 12s - loss: 0.1179 - accuracy: 0.9770 - val_loss: 0.6840 - val_accuracy: 0.7020\n",
            "Epoch 12/100\n",
            "100/100 - 12s - loss: 0.0961 - accuracy: 0.9815 - val_loss: 0.6793 - val_accuracy: 0.7120\n",
            "Epoch 13/100\n",
            "100/100 - 12s - loss: 0.0675 - accuracy: 0.9935 - val_loss: 0.8769 - val_accuracy: 0.6730\n",
            "Epoch 14/100\n",
            "100/100 - 12s - loss: 0.0616 - accuracy: 0.9910 - val_loss: 0.7460 - val_accuracy: 0.7080\n",
            "Epoch 15/100\n",
            "100/100 - 12s - loss: 0.0416 - accuracy: 0.9940 - val_loss: 0.7708 - val_accuracy: 0.6990\n",
            "Epoch 16/100\n",
            "100/100 - 12s - loss: 0.0350 - accuracy: 0.9930 - val_loss: 0.8120 - val_accuracy: 0.7050\n",
            "Epoch 17/100\n",
            "100/100 - 12s - loss: 0.0358 - accuracy: 0.9910 - val_loss: 0.8101 - val_accuracy: 0.6960\n",
            "Epoch 18/100\n",
            "100/100 - 12s - loss: 0.0220 - accuracy: 0.9990 - val_loss: 0.8756 - val_accuracy: 0.7060\n",
            "Epoch 19/100\n",
            "100/100 - 12s - loss: 0.0230 - accuracy: 0.9950 - val_loss: 0.8969 - val_accuracy: 0.7000\n",
            "Epoch 20/100\n",
            "100/100 - 12s - loss: 0.0167 - accuracy: 0.9965 - val_loss: 2.0470 - val_accuracy: 0.5720\n",
            "Epoch 21/100\n",
            "100/100 - 12s - loss: 0.0127 - accuracy: 0.9985 - val_loss: 0.9309 - val_accuracy: 0.6930\n",
            "Epoch 22/100\n",
            "100/100 - 12s - loss: 0.0148 - accuracy: 0.9950 - val_loss: 0.9463 - val_accuracy: 0.6960\n",
            "Epoch 23/100\n",
            "100/100 - 12s - loss: 0.0067 - accuracy: 0.9990 - val_loss: 0.9922 - val_accuracy: 0.6980\n",
            "Epoch 24/100\n",
            "100/100 - 12s - loss: 0.0106 - accuracy: 0.9970 - val_loss: 1.0892 - val_accuracy: 0.6910\n",
            "Epoch 25/100\n",
            "100/100 - 12s - loss: 0.0085 - accuracy: 0.9970 - val_loss: 1.0539 - val_accuracy: 0.6970\n",
            "Epoch 26/100\n",
            "100/100 - 12s - loss: 0.0096 - accuracy: 0.9970 - val_loss: 1.0995 - val_accuracy: 0.7020\n",
            "Epoch 27/100\n",
            "100/100 - 12s - loss: 0.0074 - accuracy: 0.9980 - val_loss: 1.0956 - val_accuracy: 0.6880\n",
            "Epoch 28/100\n",
            "100/100 - 12s - loss: 0.0052 - accuracy: 0.9985 - val_loss: 1.1252 - val_accuracy: 0.6910\n",
            "Epoch 29/100\n",
            "100/100 - 12s - loss: 0.0108 - accuracy: 0.9965 - val_loss: 1.1308 - val_accuracy: 0.6930\n",
            "Epoch 30/100\n",
            "100/100 - 12s - loss: 0.0052 - accuracy: 0.9980 - val_loss: 1.1750 - val_accuracy: 0.6920\n",
            "Epoch 31/100\n",
            "100/100 - 12s - loss: 0.0015 - accuracy: 1.0000 - val_loss: 1.2053 - val_accuracy: 0.6980\n",
            "Epoch 32/100\n",
            "100/100 - 12s - loss: 0.0162 - accuracy: 0.9955 - val_loss: 1.2059 - val_accuracy: 0.6870\n",
            "Epoch 33/100\n",
            "100/100 - 12s - loss: 0.0041 - accuracy: 0.9985 - val_loss: 1.2454 - val_accuracy: 0.7050\n",
            "Epoch 34/100\n",
            "100/100 - 12s - loss: 0.0178 - accuracy: 0.9955 - val_loss: 1.2180 - val_accuracy: 0.6920\n",
            "Epoch 35/100\n",
            "100/100 - 12s - loss: 0.0018 - accuracy: 1.0000 - val_loss: 1.2544 - val_accuracy: 0.6810\n",
            "Epoch 36/100\n",
            "100/100 - 12s - loss: 0.0122 - accuracy: 0.9955 - val_loss: 1.2505 - val_accuracy: 0.7040\n",
            "Epoch 37/100\n",
            "100/100 - 12s - loss: 0.0042 - accuracy: 0.9985 - val_loss: 1.2792 - val_accuracy: 0.7000\n",
            "Epoch 38/100\n",
            "100/100 - 12s - loss: 0.0094 - accuracy: 0.9980 - val_loss: 1.2532 - val_accuracy: 0.6910\n",
            "Epoch 39/100\n",
            "100/100 - 12s - loss: 0.0014 - accuracy: 0.9995 - val_loss: 1.3133 - val_accuracy: 0.6900\n",
            "Epoch 40/100\n",
            "100/100 - 12s - loss: 0.0032 - accuracy: 0.9995 - val_loss: 1.3327 - val_accuracy: 0.6880\n",
            "Epoch 41/100\n",
            "100/100 - 12s - loss: 0.0145 - accuracy: 0.9975 - val_loss: 1.3536 - val_accuracy: 0.6800\n",
            "Epoch 42/100\n",
            "100/100 - 12s - loss: 1.5688e-04 - accuracy: 1.0000 - val_loss: 1.3750 - val_accuracy: 0.6940\n",
            "Epoch 43/100\n",
            "100/100 - 12s - loss: 0.0109 - accuracy: 0.9970 - val_loss: 1.3626 - val_accuracy: 0.6930\n",
            "Epoch 44/100\n",
            "100/100 - 12s - loss: 0.0113 - accuracy: 0.9960 - val_loss: 1.3732 - val_accuracy: 0.6930\n",
            "Epoch 45/100\n",
            "100/100 - 12s - loss: 0.0017 - accuracy: 0.9995 - val_loss: 1.3923 - val_accuracy: 0.6820\n",
            "Epoch 46/100\n",
            "100/100 - 12s - loss: 8.0932e-05 - accuracy: 1.0000 - val_loss: 1.6043 - val_accuracy: 0.6940\n",
            "Epoch 47/100\n",
            "100/100 - 12s - loss: 0.0134 - accuracy: 0.9955 - val_loss: 1.4479 - val_accuracy: 0.6950\n",
            "Epoch 48/100\n",
            "100/100 - 12s - loss: 0.0182 - accuracy: 0.9945 - val_loss: 1.4723 - val_accuracy: 0.6760\n",
            "Epoch 49/100\n",
            "100/100 - 12s - loss: 5.6400e-05 - accuracy: 1.0000 - val_loss: 1.5606 - val_accuracy: 0.6970\n",
            "Epoch 50/100\n",
            "100/100 - 12s - loss: 0.0010 - accuracy: 1.0000 - val_loss: 1.5080 - val_accuracy: 0.6940\n",
            "Epoch 51/100\n",
            "100/100 - 12s - loss: 0.0036 - accuracy: 0.9975 - val_loss: 1.4882 - val_accuracy: 0.6940\n",
            "Epoch 52/100\n",
            "100/100 - 12s - loss: 0.0040 - accuracy: 0.9980 - val_loss: 1.6520 - val_accuracy: 0.6670\n",
            "Epoch 53/100\n",
            "100/100 - 12s - loss: 7.6105e-05 - accuracy: 1.0000 - val_loss: 1.5501 - val_accuracy: 0.6940\n",
            "Epoch 54/100\n",
            "100/100 - 12s - loss: 0.0043 - accuracy: 0.9980 - val_loss: 1.5345 - val_accuracy: 0.7060\n",
            "Epoch 55/100\n",
            "100/100 - 12s - loss: 0.0060 - accuracy: 0.9965 - val_loss: 1.7879 - val_accuracy: 0.6990\n",
            "Epoch 56/100\n",
            "100/100 - 12s - loss: 5.5515e-05 - accuracy: 1.0000 - val_loss: 1.5567 - val_accuracy: 0.7050\n",
            "Epoch 57/100\n",
            "100/100 - 12s - loss: 1.8449e-05 - accuracy: 1.0000 - val_loss: 1.8400 - val_accuracy: 0.6590\n",
            "Epoch 58/100\n",
            "100/100 - 12s - loss: 0.0041 - accuracy: 0.9985 - val_loss: 1.6204 - val_accuracy: 0.6940\n",
            "Epoch 59/100\n",
            "100/100 - 12s - loss: 0.0110 - accuracy: 0.9975 - val_loss: 2.0574 - val_accuracy: 0.6820\n",
            "Epoch 60/100\n",
            "100/100 - 12s - loss: 6.8713e-05 - accuracy: 1.0000 - val_loss: 1.6687 - val_accuracy: 0.6990\n",
            "Epoch 61/100\n",
            "100/100 - 12s - loss: 9.3443e-06 - accuracy: 1.0000 - val_loss: 1.7651 - val_accuracy: 0.6960\n",
            "Epoch 62/100\n",
            "100/100 - 12s - loss: 5.9118e-06 - accuracy: 1.0000 - val_loss: 1.8453 - val_accuracy: 0.6970\n",
            "Epoch 63/100\n",
            "100/100 - 12s - loss: 2.6543e-06 - accuracy: 1.0000 - val_loss: 1.9419 - val_accuracy: 0.6890\n",
            "Epoch 64/100\n",
            "100/100 - 12s - loss: 1.5048e-06 - accuracy: 1.0000 - val_loss: 2.0223 - val_accuracy: 0.6960\n",
            "Epoch 65/100\n",
            "100/100 - 12s - loss: 7.5366e-07 - accuracy: 1.0000 - val_loss: 2.1037 - val_accuracy: 0.6910\n",
            "Epoch 66/100\n",
            "100/100 - 12s - loss: 4.5335e-07 - accuracy: 1.0000 - val_loss: 2.1882 - val_accuracy: 0.6950\n",
            "Epoch 67/100\n",
            "100/100 - 12s - loss: 2.6788e-07 - accuracy: 1.0000 - val_loss: 2.3541 - val_accuracy: 0.6880\n",
            "Epoch 68/100\n",
            "100/100 - 12s - loss: 1.7881e-07 - accuracy: 1.0000 - val_loss: 2.3261 - val_accuracy: 0.6990\n",
            "Epoch 69/100\n",
            "100/100 - 12s - loss: 1.2014e-07 - accuracy: 1.0000 - val_loss: 2.3746 - val_accuracy: 0.6980\n",
            "Epoch 70/100\n",
            "100/100 - 12s - loss: 8.2380e-08 - accuracy: 1.0000 - val_loss: 2.4296 - val_accuracy: 0.6990\n",
            "Epoch 71/100\n",
            "100/100 - 12s - loss: 6.0147e-08 - accuracy: 1.0000 - val_loss: 2.4357 - val_accuracy: 0.6980\n",
            "Epoch 72/100\n",
            "100/100 - 12s - loss: 4.6427e-08 - accuracy: 1.0000 - val_loss: 2.5087 - val_accuracy: 0.7040\n",
            "Epoch 73/100\n",
            "100/100 - 12s - loss: 3.5648e-08 - accuracy: 1.0000 - val_loss: 2.5315 - val_accuracy: 0.6930\n",
            "Epoch 74/100\n",
            "100/100 - 12s - loss: 2.9811e-08 - accuracy: 1.0000 - val_loss: 2.5835 - val_accuracy: 0.7000\n",
            "Epoch 75/100\n",
            "100/100 - 12s - loss: 2.3661e-08 - accuracy: 1.0000 - val_loss: 2.6124 - val_accuracy: 0.6960\n",
            "Epoch 76/100\n",
            "100/100 - 12s - loss: 1.9716e-08 - accuracy: 1.0000 - val_loss: 2.6113 - val_accuracy: 0.7010\n",
            "Epoch 77/100\n",
            "100/100 - 12s - loss: 1.7018e-08 - accuracy: 1.0000 - val_loss: 2.6352 - val_accuracy: 0.6960\n",
            "Epoch 78/100\n",
            "100/100 - 12s - loss: 1.4158e-08 - accuracy: 1.0000 - val_loss: 2.6910 - val_accuracy: 0.6920\n",
            "Epoch 79/100\n",
            "100/100 - 12s - loss: 1.3135e-08 - accuracy: 1.0000 - val_loss: 2.6830 - val_accuracy: 0.6920\n",
            "Epoch 80/100\n",
            "100/100 - 12s - loss: 1.1424e-08 - accuracy: 1.0000 - val_loss: 2.7121 - val_accuracy: 0.6970\n",
            "Epoch 81/100\n",
            "100/100 - 12s - loss: 1.0929e-08 - accuracy: 1.0000 - val_loss: 2.6964 - val_accuracy: 0.7020\n",
            "Epoch 82/100\n",
            "100/100 - 12s - loss: 9.4571e-09 - accuracy: 1.0000 - val_loss: 2.7397 - val_accuracy: 0.6970\n",
            "Epoch 83/100\n",
            "100/100 - 12s - loss: 8.5527e-09 - accuracy: 1.0000 - val_loss: 2.7373 - val_accuracy: 0.7010\n",
            "Epoch 84/100\n",
            "100/100 - 12s - loss: 8.4486e-09 - accuracy: 1.0000 - val_loss: 2.7693 - val_accuracy: 0.6940\n",
            "Epoch 85/100\n",
            "100/100 - 12s - loss: 7.3709e-09 - accuracy: 1.0000 - val_loss: 2.7624 - val_accuracy: 0.6940\n",
            "Epoch 86/100\n",
            "100/100 - 12s - loss: 6.6596e-09 - accuracy: 1.0000 - val_loss: 2.7974 - val_accuracy: 0.6960\n",
            "Epoch 87/100\n",
            "100/100 - 12s - loss: 6.4944e-09 - accuracy: 1.0000 - val_loss: 2.8131 - val_accuracy: 0.6910\n",
            "Epoch 88/100\n",
            "100/100 - 12s - loss: 6.3003e-09 - accuracy: 1.0000 - val_loss: 2.8040 - val_accuracy: 0.6970\n",
            "Epoch 89/100\n",
            "100/100 - 12s - loss: 5.9084e-09 - accuracy: 1.0000 - val_loss: 2.7910 - val_accuracy: 0.6960\n",
            "Epoch 90/100\n",
            "100/100 - 12s - loss: 5.2858e-09 - accuracy: 1.0000 - val_loss: 2.8276 - val_accuracy: 0.7000\n",
            "Epoch 91/100\n",
            "100/100 - 12s - loss: 5.3858e-09 - accuracy: 1.0000 - val_loss: 2.8155 - val_accuracy: 0.6950\n",
            "Epoch 92/100\n",
            "100/100 - 12s - loss: 4.9305e-09 - accuracy: 1.0000 - val_loss: 2.8544 - val_accuracy: 0.6940\n",
            "Epoch 93/100\n",
            "100/100 - 12s - loss: 4.7349e-09 - accuracy: 1.0000 - val_loss: 2.8213 - val_accuracy: 0.6960\n",
            "Epoch 94/100\n",
            "100/100 - 12s - loss: 4.6162e-09 - accuracy: 1.0000 - val_loss: 2.8668 - val_accuracy: 0.6950\n",
            "Epoch 95/100\n",
            "100/100 - 12s - loss: 4.4336e-09 - accuracy: 1.0000 - val_loss: 2.8778 - val_accuracy: 0.6970\n",
            "Epoch 96/100\n",
            "100/100 - 12s - loss: 4.2475e-09 - accuracy: 1.0000 - val_loss: 2.8584 - val_accuracy: 0.6960\n",
            "Epoch 97/100\n",
            "100/100 - 12s - loss: 4.1291e-09 - accuracy: 1.0000 - val_loss: 2.8386 - val_accuracy: 0.6930\n",
            "Epoch 98/100\n",
            "100/100 - 12s - loss: 3.8485e-09 - accuracy: 1.0000 - val_loss: 2.8638 - val_accuracy: 0.6950\n",
            "Epoch 99/100\n",
            "100/100 - 12s - loss: 3.6862e-09 - accuracy: 1.0000 - val_loss: 2.8938 - val_accuracy: 0.6970\n",
            "Epoch 100/100\n",
            "100/100 - 12s - loss: 3.6210e-09 - accuracy: 1.0000 - val_loss: 2.9081 - val_accuracy: 0.6940\n"
          ],
          "name": "stdout"
        }
      ]
    },
    {
      "cell_type": "markdown",
      "metadata": {
        "id": "ulJ4rvNp0XTi"
      },
      "source": [
        "# Build and train models for multi-class categorization."
      ]
    },
    {
      "cell_type": "code",
      "metadata": {
        "id": "-Uu_QqIeVrKZ",
        "colab": {
          "base_uri": "https://localhost:8080/"
        },
        "outputId": "bb7d00ff-6d28-4eb8-c5e9-33d0ea99a80e"
      },
      "source": [
        "import tensorflow_datasets as tfd\n",
        "\n",
        "#For multi class classification lets use MNIST\n",
        "(X_train, y_train), (X_test, y_test) = tf.keras.datasets.mnist.load_data()"
      ],
      "execution_count": 9,
      "outputs": [
        {
          "output_type": "stream",
          "text": [
            "Downloading data from https://storage.googleapis.com/tensorflow/tf-keras-datasets/mnist.npz\n",
            "11493376/11490434 [==============================] - 0s 0us/step\n"
          ],
          "name": "stdout"
        }
      ]
    },
    {
      "cell_type": "code",
      "metadata": {
        "colab": {
          "base_uri": "https://localhost:8080/"
        },
        "id": "p7BaLSRX19rr",
        "outputId": "5dabcdb8-b8e1-4444-9e80-a9f4e7140f36"
      },
      "source": [
        "X_train.shape , X_test.shape"
      ],
      "execution_count": 11,
      "outputs": [
        {
          "output_type": "execute_result",
          "data": {
            "text/plain": [
              "((60000, 28, 28), (10000, 28, 28))"
            ]
          },
          "metadata": {
            "tags": []
          },
          "execution_count": 11
        }
      ]
    },
    {
      "cell_type": "code",
      "metadata": {
        "colab": {
          "base_uri": "https://localhost:8080/"
        },
        "id": "5meWpBfs2AT7",
        "outputId": "de86d421-a2cb-4c3f-a72d-9d518deb2728"
      },
      "source": [
        "y_train.shape, y_test.shape"
      ],
      "execution_count": 12,
      "outputs": [
        {
          "output_type": "execute_result",
          "data": {
            "text/plain": [
              "((60000,), (10000,))"
            ]
          },
          "metadata": {
            "tags": []
          },
          "execution_count": 12
        }
      ]
    },
    {
      "cell_type": "code",
      "metadata": {
        "id": "RmpbjLb93Tzn"
      },
      "source": [
        "EPOCH = 200\n",
        "BATCH_SIZE = 128\n",
        "VERBOSE = 1\n",
        "NB_CLASSES = 10\n",
        "VALIDATION_SPLIT = 0.2\n",
        "RESHAPED = 784"
      ],
      "execution_count": 24,
      "outputs": []
    },
    {
      "cell_type": "code",
      "metadata": {
        "id": "gnwsW9bm3Ag1"
      },
      "source": [
        "# we will convert the target variable as categorical. \n",
        "y_train = tf.keras.utils.to_categorical(y_train, NB_CLASSES)\n",
        "y_test = tf.keras.utils.to_categorical(y_test, NB_CLASSES)"
      ],
      "execution_count": 16,
      "outputs": []
    },
    {
      "cell_type": "code",
      "metadata": {
        "id": "YhxdbjmQ3IDk"
      },
      "source": [
        "#Lets create a simple DNN to play around . Later we can try with CNN also\n",
        "#Lets reshape the input to 784\n",
        "X_train = X_train.reshape(X_train.shape[0], RESHAPED)\n",
        "X_test = X_test.reshape(X_test.shape[0], RESHAPED)\n",
        "X_train = X_train.astype('float32')\n",
        "X_test = X_test.astype('float32')"
      ],
      "execution_count": 18,
      "outputs": []
    },
    {
      "cell_type": "code",
      "metadata": {
        "id": "RDtsvyH84OuB"
      },
      "source": [
        "#Normalize the input within [0, 1]\n",
        "X_train /= 255\n",
        "X_test /= 255"
      ],
      "execution_count": 19,
      "outputs": []
    },
    {
      "cell_type": "code",
      "metadata": {
        "id": "8wWYYGAz55Gh"
      },
      "source": [
        "class myCallback(tf.keras.callbacks.Callback):\n",
        "  def on_epoch_end(self, epoch, logs={}):\n",
        "    if(logs.get('val_accuracy')>0.95):\n",
        "      print(\"\\nReached 95% accuracy so cancelling training!\")\n",
        "      self.model.stop_training = True\n",
        "\n",
        "callbacks = myCallback()"
      ],
      "execution_count": 35,
      "outputs": []
    },
    {
      "cell_type": "code",
      "metadata": {
        "colab": {
          "base_uri": "https://localhost:8080/"
        },
        "id": "whhQDFlG4VOD",
        "outputId": "114f2b88-b16f-4b7c-ebd3-70f8d302bb93"
      },
      "source": [
        "# we will use Sequential model\n",
        "model = tf.keras.Sequential([\n",
        "                             tf.keras.layers.Dense(RESHAPED, input_shape=(RESHAPED,), activation='relu'),\n",
        "                             tf.keras.layers.Dense(512, activation='relu'),\n",
        "                             tf.keras.layers.Dense(NB_CLASSES, activation='softmax')\n",
        "])\n",
        "model.compile(optimizer='SGD',\n",
        "              loss='categorical_crossentropy',\n",
        "              metrics=['accuracy'])\n",
        "model.summary()"
      ],
      "execution_count": 36,
      "outputs": [
        {
          "output_type": "stream",
          "text": [
            "Model: \"sequential_8\"\n",
            "_________________________________________________________________\n",
            "Layer (type)                 Output Shape              Param #   \n",
            "=================================================================\n",
            "dense_22 (Dense)             (None, 784)               615440    \n",
            "_________________________________________________________________\n",
            "dense_23 (Dense)             (None, 512)               401920    \n",
            "_________________________________________________________________\n",
            "dense_24 (Dense)             (None, 10)                5130      \n",
            "=================================================================\n",
            "Total params: 1,022,490\n",
            "Trainable params: 1,022,490\n",
            "Non-trainable params: 0\n",
            "_________________________________________________________________\n"
          ],
          "name": "stdout"
        }
      ]
    },
    {
      "cell_type": "code",
      "metadata": {
        "colab": {
          "base_uri": "https://localhost:8080/"
        },
        "id": "MIlvQuOl5XS8",
        "outputId": "b59ab7d5-e026-4a65-9909-c3cef9126f3d"
      },
      "source": [
        "history = model.fit(X_train,y_train,\n",
        "          batch_size=BATCH_SIZE,\n",
        "          epochs=EPOCH,\n",
        "          verbose=VERBOSE,\n",
        "          validation_split=VALIDATION_SPLIT,\n",
        "          callbacks=[callbacks])"
      ],
      "execution_count": 37,
      "outputs": [
        {
          "output_type": "stream",
          "text": [
            "Epoch 1/200\n",
            "375/375 [==============================] - 2s 5ms/step - loss: 1.2125 - accuracy: 0.7367 - val_loss: 0.5827 - val_accuracy: 0.8690\n",
            "Epoch 2/200\n",
            "375/375 [==============================] - 2s 5ms/step - loss: 0.4993 - accuracy: 0.8757 - val_loss: 0.3949 - val_accuracy: 0.8973\n",
            "Epoch 3/200\n",
            "375/375 [==============================] - 2s 5ms/step - loss: 0.3872 - accuracy: 0.8948 - val_loss: 0.3333 - val_accuracy: 0.9107\n",
            "Epoch 4/200\n",
            "375/375 [==============================] - 2s 5ms/step - loss: 0.3403 - accuracy: 0.9060 - val_loss: 0.3031 - val_accuracy: 0.9168\n",
            "Epoch 5/200\n",
            "375/375 [==============================] - 2s 5ms/step - loss: 0.3112 - accuracy: 0.9138 - val_loss: 0.2845 - val_accuracy: 0.9193\n",
            "Epoch 6/200\n",
            "375/375 [==============================] - 2s 5ms/step - loss: 0.2902 - accuracy: 0.9191 - val_loss: 0.2664 - val_accuracy: 0.9249\n",
            "Epoch 7/200\n",
            "375/375 [==============================] - 2s 5ms/step - loss: 0.2736 - accuracy: 0.9239 - val_loss: 0.2547 - val_accuracy: 0.9292\n",
            "Epoch 8/200\n",
            "375/375 [==============================] - 2s 5ms/step - loss: 0.2597 - accuracy: 0.9281 - val_loss: 0.2444 - val_accuracy: 0.9324\n",
            "Epoch 9/200\n",
            "375/375 [==============================] - 2s 5ms/step - loss: 0.2476 - accuracy: 0.9309 - val_loss: 0.2327 - val_accuracy: 0.9365\n",
            "Epoch 10/200\n",
            "375/375 [==============================] - 2s 5ms/step - loss: 0.2366 - accuracy: 0.9342 - val_loss: 0.2247 - val_accuracy: 0.9367\n",
            "Epoch 11/200\n",
            "375/375 [==============================] - 2s 5ms/step - loss: 0.2271 - accuracy: 0.9366 - val_loss: 0.2169 - val_accuracy: 0.9392\n",
            "Epoch 12/200\n",
            "375/375 [==============================] - 2s 5ms/step - loss: 0.2177 - accuracy: 0.9392 - val_loss: 0.2100 - val_accuracy: 0.9419\n",
            "Epoch 13/200\n",
            "375/375 [==============================] - 2s 5ms/step - loss: 0.2093 - accuracy: 0.9409 - val_loss: 0.2029 - val_accuracy: 0.9432\n",
            "Epoch 14/200\n",
            "375/375 [==============================] - 2s 5ms/step - loss: 0.2017 - accuracy: 0.9439 - val_loss: 0.1965 - val_accuracy: 0.9460\n",
            "Epoch 15/200\n",
            "375/375 [==============================] - 2s 5ms/step - loss: 0.1943 - accuracy: 0.9452 - val_loss: 0.1899 - val_accuracy: 0.9479\n",
            "Epoch 16/200\n",
            "375/375 [==============================] - 2s 5ms/step - loss: 0.1874 - accuracy: 0.9471 - val_loss: 0.1852 - val_accuracy: 0.9505\n",
            "\n",
            "Reached 95% accuracy so cancelling training!\n"
          ],
          "name": "stdout"
        }
      ]
    },
    {
      "cell_type": "code",
      "metadata": {
        "colab": {
          "base_uri": "https://localhost:8080/"
        },
        "id": "siUuK4Pj5yU1",
        "outputId": "42fbd413-39fd-4cd9-be77-6f16928a9994"
      },
      "source": [
        "#Lets evaluate the model with test set\n",
        "test_loss = model.evaluate(X_test, y_test)"
      ],
      "execution_count": 38,
      "outputs": [
        {
          "output_type": "stream",
          "text": [
            "313/313 [==============================] - 1s 3ms/step - loss: 0.1852 - accuracy: 0.9475\n"
          ],
          "name": "stdout"
        }
      ]
    },
    {
      "cell_type": "code",
      "metadata": {
        "colab": {
          "base_uri": "https://localhost:8080/",
          "height": 562
        },
        "id": "edRo9ZcM6_QO",
        "outputId": "e7338cc9-9a51-47e1-9fdf-ae0cadc9cb93"
      },
      "source": [
        "# PLOT LOSS AND ACCURACY\n",
        "%matplotlib inline\n",
        "\n",
        "import matplotlib.image  as mpimg\n",
        "import matplotlib.pyplot as plt\n",
        "\n",
        "#-----------------------------------------------------------\n",
        "# Retrieve a list of list results on training and test data\n",
        "# sets for each training epoch\n",
        "#-----------------------------------------------------------\n",
        "acc=history.history['accuracy']\n",
        "val_acc=history.history['val_accuracy']\n",
        "loss=history.history['loss']\n",
        "val_loss=history.history['val_loss']\n",
        "\n",
        "epochs=range(len(acc)) # Get number of epochs\n",
        "\n",
        "#------------------------------------------------\n",
        "# Plot training and validation accuracy per epoch\n",
        "#------------------------------------------------\n",
        "plt.plot(epochs, acc, 'r', \"Training Accuracy\")\n",
        "plt.plot(epochs, val_acc, 'b', \"Validation Accuracy\")\n",
        "plt.title('Training and validation accuracy')\n",
        "plt.figure()\n",
        "\n",
        "#------------------------------------------------\n",
        "# Plot training and validation loss per epoch\n",
        "#------------------------------------------------\n",
        "plt.plot(epochs, loss, 'r', \"Training Loss\")\n",
        "plt.plot(epochs, val_loss, 'b', \"Validation Loss\")\n",
        "\n",
        "\n",
        "plt.title('Training and validation loss')"
      ],
      "execution_count": 39,
      "outputs": [
        {
          "output_type": "execute_result",
          "data": {
            "text/plain": [
              "Text(0.5, 1.0, 'Training and validation loss')"
            ]
          },
          "metadata": {
            "tags": []
          },
          "execution_count": 39
        },
        {
          "output_type": "display_data",
          "data": {
            "image/png": "[encoded data removed]",
            "text/plain": [
              "<Figure size 432x288 with 1 Axes>"
            ]
          },
          "metadata": {
            "tags": [],
            "needs_background": "light"
          }
        },
        {
          "output_type": "display_data",
          "data": {
            "image/png": "[encoded data removed]",
            "text/plain": [
              "<Figure size 432x288 with 1 Axes>"
            ]
          },
          "metadata": {
            "tags": [],
            "needs_background": "light"
          }
        }
      ]
    },
    {
      "cell_type": "code",
      "metadata": {
        "id": "TUnAKGTK847y"
      },
      "source": [
        ""
      ],
      "execution_count": null,
      "outputs": []
    }
  ]
}