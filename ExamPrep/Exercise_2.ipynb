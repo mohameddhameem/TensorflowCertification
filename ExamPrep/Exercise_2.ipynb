{
  "nbformat": 4,
  "nbformat_minor": 0,
  "metadata": {
    "colab": {
      "name": "Exercise 2.ipynb",
      "provenance": [],
      "toc_visible": true,
      "authorship_tag": "ABX9TyPW3QW2sBcA5sALFGMvYcXw",
      "include_colab_link": true
    },
    "kernelspec": {
      "name": "python3",
      "display_name": "Python 3"
    },
    "language_info": {
      "name": "python"
    },
    "accelerator": "GPU"
  },
  "cells": [
    {
      "cell_type": "markdown",
      "metadata": {
        "id": "view-in-github",
        "colab_type": "text"
      },
      "source": [
        "<a href=\"https://colab.research.google.com/github/mohameddhameem/TensorflowCertification/blob/main/%20TensorflowCertification/Exercise_2.ipynb\" target=\"_parent\"><img src=\"https://colab.research.google.com/assets/colab-badge.svg\" alt=\"Open In Colab\"/></a>"
      ]
    },
    {
      "cell_type": "markdown",
      "metadata": {
        "id": "lRLMnLJyPhH_"
      },
      "source": [
        "# For Problem Statement 2\n",
        "❏ UseTensorFlow2.x.\n",
        "\n",
        "❏ Build, compile and train machine learning (ML) models using TensorFlow.\n",
        "\n",
        "❏ Preprocess data to get it ready for use in a model.\n",
        "\n",
        "❏ Use models to predict results.\n",
        "\n",
        "❏ Build sequential models with multiple layers.\n",
        "\n",
        "❏ Build and train models for binary classification.\n",
        "\n",
        "❏ Build and train models for multi-class categorization.\n",
        "\n",
        "❏ Plot loss and accuracy of a trained model.\n",
        "\n",
        "❏ Identify strategies to prevent overfitting, including augmentation and dropout.\n",
        "\n",
        "❏ Use pre trained models(transfer learning).\n",
        "\n",
        "❏ Extract features from pre-trained models.\n",
        "\n",
        "❏ Ensure that that inputs to a model are in the correct shape.\n",
        "\n",
        "❏ Ensure that you can match test data to the input shape of a neural network."
      ]
    },
    {
      "cell_type": "markdown",
      "metadata": {
        "id": "kEN65y-8QUkk"
      },
      "source": [
        "## Would like to addrss one or more above problems in a single model"
      ]
    },
    {
      "cell_type": "code",
      "metadata": {
        "colab": {
          "base_uri": "https://localhost:8080/"
        },
        "id": "ho9vwNeJPXoG",
        "outputId": "76f7bec5-9884-4db0-9adb-e58f6bba1a9d"
      },
      "source": [
        "import tensorflow as tf\n",
        "print(tf.__version__)"
      ],
      "execution_count": 1,
      "outputs": [
        {
          "output_type": "stream",
          "text": [
            "2.5.0\n"
          ],
          "name": "stdout"
        }
      ]
    },
    {
      "cell_type": "markdown",
      "metadata": {
        "id": "jpQUpviaQ3vF"
      },
      "source": [
        "* Binary Classification Cat vs Dog\n",
        "* Plot Loss and accuracy of a trained model\n",
        "* Prevent overfitting (with dropout)\n",
        "* Use Callback to do early stoping\n",
        "* Image augmentation"
      ]
    },
    {
      "cell_type": "code",
      "metadata": {
        "id": "g2G-kFndQggq"
      },
      "source": [
        "import os\n",
        "import zipfile\n",
        "import tensorflow as tf\n",
        "from tensorflow.keras.optimizers import RMSprop\n",
        "from tensorflow.keras.preprocessing.image import ImageDataGenerator"
      ],
      "execution_count": 2,
      "outputs": []
    },
    {
      "cell_type": "markdown",
      "metadata": {
        "id": "Bt7QFT_ASLV0"
      },
      "source": [
        "### Cat vs Dog"
      ]
    },
    {
      "cell_type": "code",
      "metadata": {
        "colab": {
          "base_uri": "https://localhost:8080/"
        },
        "id": "liCDpAgSSIej",
        "outputId": "1cda0731-b639-420c-cdb1-14afd5f047a4"
      },
      "source": [
        "!wget --no-check-certificate \\\n",
        "    https://storage.googleapis.com/mledu-datasets/cats_and_dogs_filtered.zip \\\n",
        "    -O /tmp/cats_and_dogs_filtered.zip\n",
        "\n",
        "local_zip = '/tmp/cats_and_dogs_filtered.zip'\n",
        "zip_ref = zipfile.ZipFile(local_zip, 'r')\n",
        "zip_ref.extractall('/tmp')\n",
        "zip_ref.close()\n",
        "\n",
        "base_dir = '/tmp/cats_and_dogs_filtered'"
      ],
      "execution_count": 3,
      "outputs": [
        {
          "output_type": "stream",
          "text": [
            "--2021-05-30 03:36:08--  https://storage.googleapis.com/mledu-datasets/cats_and_dogs_filtered.zip\n",
            "Resolving storage.googleapis.com (storage.googleapis.com)... 142.250.101.128, 142.250.141.128, 2607:f8b0:4023:c03::80, ...\n",
            "Connecting to storage.googleapis.com (storage.googleapis.com)|142.250.101.128|:443... connected.\n",
            "HTTP request sent, awaiting response... 200 OK\n",
            "Length: 68606236 (65M) [application/zip]\n",
            "Saving to: ‘/tmp/cats_and_dogs_filtered.zip’\n",
            "\n",
            "/tmp/cats_and_dogs_ 100%[===================>]  65.43M   107MB/s    in 0.6s    \n",
            "\n",
            "2021-05-30 03:36:10 (107 MB/s) - ‘/tmp/cats_and_dogs_filtered.zip’ saved [68606236/68606236]\n",
            "\n"
          ],
          "name": "stdout"
        }
      ]
    },
    {
      "cell_type": "code",
      "metadata": {
        "id": "br66MTb3SHzF"
      },
      "source": [
        "train_dir = os.path.join(base_dir, 'train')\n",
        "validation_dir = os.path.join(base_dir, 'validation')\n",
        "\n",
        "# Directory with our training cat pictures\n",
        "train_cats_dir = os.path.join(train_dir, 'cats')\n",
        "\n",
        "# Directory with our training dog pictures\n",
        "train_dogs_dir = os.path.join(train_dir, 'dogs')\n",
        "\n",
        "# Directory with our validation cat pictures\n",
        "validation_cats_dir = os.path.join(validation_dir, 'cats')\n",
        "\n",
        "# Directory with our validation dog pictures\n",
        "validation_dogs_dir = os.path.join(validation_dir, 'dogs')"
      ],
      "execution_count": 4,
      "outputs": []
    },
    {
      "cell_type": "code",
      "metadata": {
        "colab": {
          "base_uri": "https://localhost:8080/"
        },
        "id": "zHx38B5bSf5g",
        "outputId": "193a1dd3-709e-40df-b3c9-3548c50b7cca"
      },
      "source": [
        "# We already have the images properly placed in train / validation folder.\n",
        "# Lets build the model. Consider the incoming images would be of 150x150\n",
        "\n",
        "# 1. First Image generator\n",
        "train_image_gen = ImageDataGenerator(rescale=1. / 255,\n",
        "                                     rotation_range=40,\n",
        "                                      width_shift_range=0.2,\n",
        "                                      height_shift_range=0.2,\n",
        "                                      shear_range=0.2,\n",
        "                                      zoom_range=0.2,\n",
        "                                      horizontal_flip=True,\n",
        "                                      fill_mode='nearest')\n",
        "val_image_gen = ImageDataGenerator(rescale=1. / 255)\n",
        "\n",
        "train_generator = train_image_gen.flow_from_directory(train_dir,\n",
        "                                                      target_size=(150,150),\n",
        "                                                      batch_size=20,\n",
        "                                                      class_mode='binary')\n",
        "\n",
        "validation_generator = val_image_gen.flow_from_directory(validation_dir,\n",
        "                                                      target_size=(150,150),\n",
        "                                                      batch_size=20,\n",
        "                                                      class_mode='binary')"
      ],
      "execution_count": 11,
      "outputs": [
        {
          "output_type": "stream",
          "text": [
            "Found 2000 images belonging to 2 classes.\n",
            "Found 1000 images belonging to 2 classes.\n"
          ],
          "name": "stdout"
        }
      ]
    },
    {
      "cell_type": "code",
      "metadata": {
        "id": "xzQUrD77bQzM"
      },
      "source": [
        "class myCallback(tf.keras.callbacks.Callback):\n",
        "  def on_epoch_end(self, epoch, logs={}):\n",
        "    if(logs.get('val_accuracy')>0.75):\n",
        "      print(\"\\nReached 75% accuracy so cancelling training!\")\n",
        "      self.model.stop_training = True"
      ],
      "execution_count": 16,
      "outputs": []
    },
    {
      "cell_type": "code",
      "metadata": {
        "colab": {
          "base_uri": "https://localhost:8080/"
        },
        "id": "dGQ1Qk1sTxv9",
        "outputId": "0e5de054-18d2-4296-8276-4c191cb38495"
      },
      "source": [
        "#Lets build our simple model\n",
        "model = tf.keras.models.Sequential([\n",
        "                                    tf.keras.layers.Conv2D(32,(3,3),activation='relu', input_shape=(150, 150, 3)),\n",
        "                                    tf.keras.layers.MaxPooling2D(pool_size=(2,2)),\n",
        "                                    # The second convolution\n",
        "                                    tf.keras.layers.Conv2D(32, (3,3), activation='relu'),\n",
        "                                    tf.keras.layers.MaxPooling2D(2,2),\n",
        "                                    # The third convolution\n",
        "                                    tf.keras.layers.Conv2D(64, (3,3), activation='relu'),\n",
        "                                    tf.keras.layers.MaxPooling2D(2,2),\n",
        "                                    # The fourth convolution\n",
        "                                    tf.keras.layers.Conv2D(64, (3,3), activation='relu'),\n",
        "                                    tf.keras.layers.MaxPooling2D(2,2),\n",
        "                                    # The fifth convolution\n",
        "                                    tf.keras.layers.Conv2D(64, (3,3), activation='relu'),\n",
        "                                    tf.keras.layers.MaxPooling2D(2,2),\n",
        "                                    tf.keras.layers.Dropout(0.3),\n",
        "                                    tf.keras.layers.Flatten(),\n",
        "                                    tf.keras.layers.Dense(512, activation='relu'),\n",
        "                                    tf.keras.layers.Dense(1, activation='sigmoid')\n",
        "])\n",
        "\n",
        "model.compile(loss='binary_crossentropy', \n",
        "              optimizer=RMSprop(lr=1e-4),\n",
        "              metrics=['accuracy'])\n",
        "callbacks = myCallback()\n",
        "history = model.fit(\n",
        "    train_generator,\n",
        "      steps_per_epoch=100,  # 2000 images = batch_size * steps\n",
        "      epochs=100,\n",
        "      validation_data=validation_generator,\n",
        "      validation_steps=50,  # 1000 images = batch_size * steps\n",
        "      callbacks=[callbacks],\n",
        "      verbose=2)"
      ],
      "execution_count": 17,
      "outputs": [
        {
          "output_type": "stream",
          "text": [
            "/usr/local/lib/python3.7/dist-packages/tensorflow/python/keras/optimizer_v2/optimizer_v2.py:375: UserWarning: The `lr` argument is deprecated, use `learning_rate` instead.\n",
            "  \"The `lr` argument is deprecated, use `learning_rate` instead.\")\n"
          ],
          "name": "stderr"
        },
        {
          "output_type": "stream",
          "text": [
            "Epoch 1/100\n",
            "100/100 - 16s - loss: 0.6929 - accuracy: 0.5090 - val_loss: 0.6913 - val_accuracy: 0.5180\n",
            "Epoch 2/100\n",
            "100/100 - 15s - loss: 0.6902 - accuracy: 0.5280 - val_loss: 0.6855 - val_accuracy: 0.5020\n",
            "Epoch 3/100\n",
            "100/100 - 15s - loss: 0.6848 - accuracy: 0.5515 - val_loss: 0.6734 - val_accuracy: 0.5870\n",
            "Epoch 4/100\n",
            "100/100 - 16s - loss: 0.6795 - accuracy: 0.5775 - val_loss: 0.6938 - val_accuracy: 0.5240\n",
            "Epoch 5/100\n",
            "100/100 - 15s - loss: 0.6705 - accuracy: 0.5900 - val_loss: 0.6557 - val_accuracy: 0.5960\n",
            "Epoch 6/100\n",
            "100/100 - 15s - loss: 0.6630 - accuracy: 0.5985 - val_loss: 0.6522 - val_accuracy: 0.6040\n",
            "Epoch 7/100\n",
            "100/100 - 15s - loss: 0.6631 - accuracy: 0.6100 - val_loss: 0.6415 - val_accuracy: 0.6300\n",
            "Epoch 8/100\n",
            "100/100 - 15s - loss: 0.6598 - accuracy: 0.6115 - val_loss: 0.6374 - val_accuracy: 0.6440\n",
            "Epoch 9/100\n",
            "100/100 - 15s - loss: 0.6553 - accuracy: 0.6195 - val_loss: 0.6287 - val_accuracy: 0.6570\n",
            "Epoch 10/100\n",
            "100/100 - 15s - loss: 0.6453 - accuracy: 0.6245 - val_loss: 0.6246 - val_accuracy: 0.6490\n",
            "Epoch 11/100\n",
            "100/100 - 15s - loss: 0.6462 - accuracy: 0.6360 - val_loss: 0.6397 - val_accuracy: 0.6160\n",
            "Epoch 12/100\n",
            "100/100 - 15s - loss: 0.6400 - accuracy: 0.6270 - val_loss: 0.6224 - val_accuracy: 0.6490\n",
            "Epoch 13/100\n",
            "100/100 - 15s - loss: 0.6460 - accuracy: 0.6265 - val_loss: 0.6072 - val_accuracy: 0.6670\n",
            "Epoch 14/100\n",
            "100/100 - 15s - loss: 0.6334 - accuracy: 0.6390 - val_loss: 0.6079 - val_accuracy: 0.6620\n",
            "Epoch 15/100\n",
            "100/100 - 15s - loss: 0.6276 - accuracy: 0.6560 - val_loss: 0.6145 - val_accuracy: 0.6560\n",
            "Epoch 16/100\n",
            "100/100 - 15s - loss: 0.6243 - accuracy: 0.6535 - val_loss: 0.5925 - val_accuracy: 0.6860\n",
            "Epoch 17/100\n",
            "100/100 - 15s - loss: 0.6228 - accuracy: 0.6660 - val_loss: 0.5907 - val_accuracy: 0.6890\n",
            "Epoch 18/100\n",
            "100/100 - 15s - loss: 0.6124 - accuracy: 0.6630 - val_loss: 0.5762 - val_accuracy: 0.7060\n",
            "Epoch 19/100\n",
            "100/100 - 15s - loss: 0.6112 - accuracy: 0.6765 - val_loss: 0.6047 - val_accuracy: 0.6780\n",
            "Epoch 20/100\n",
            "100/100 - 15s - loss: 0.6034 - accuracy: 0.6760 - val_loss: 0.5634 - val_accuracy: 0.7030\n",
            "Epoch 21/100\n",
            "100/100 - 15s - loss: 0.5971 - accuracy: 0.6880 - val_loss: 0.5643 - val_accuracy: 0.7080\n",
            "Epoch 22/100\n",
            "100/100 - 15s - loss: 0.5994 - accuracy: 0.6845 - val_loss: 0.5528 - val_accuracy: 0.7180\n",
            "Epoch 23/100\n",
            "100/100 - 15s - loss: 0.5979 - accuracy: 0.6890 - val_loss: 0.5704 - val_accuracy: 0.7000\n",
            "Epoch 24/100\n",
            "100/100 - 15s - loss: 0.5936 - accuracy: 0.6790 - val_loss: 0.5391 - val_accuracy: 0.7230\n",
            "Epoch 25/100\n",
            "100/100 - 15s - loss: 0.5936 - accuracy: 0.6910 - val_loss: 0.5518 - val_accuracy: 0.7300\n",
            "Epoch 26/100\n",
            "100/100 - 15s - loss: 0.5856 - accuracy: 0.6880 - val_loss: 0.5428 - val_accuracy: 0.7140\n",
            "Epoch 27/100\n",
            "100/100 - 15s - loss: 0.5846 - accuracy: 0.6890 - val_loss: 0.5276 - val_accuracy: 0.7290\n",
            "Epoch 28/100\n",
            "100/100 - 15s - loss: 0.5806 - accuracy: 0.6925 - val_loss: 0.5702 - val_accuracy: 0.7010\n",
            "Epoch 29/100\n",
            "100/100 - 15s - loss: 0.5662 - accuracy: 0.7015 - val_loss: 0.5873 - val_accuracy: 0.6800\n",
            "Epoch 30/100\n",
            "100/100 - 15s - loss: 0.5700 - accuracy: 0.6955 - val_loss: 0.5238 - val_accuracy: 0.7300\n",
            "Epoch 31/100\n",
            "100/100 - 15s - loss: 0.5713 - accuracy: 0.6940 - val_loss: 0.5357 - val_accuracy: 0.7300\n",
            "Epoch 32/100\n",
            "100/100 - 15s - loss: 0.5603 - accuracy: 0.7040 - val_loss: 0.5267 - val_accuracy: 0.7380\n",
            "Epoch 33/100\n",
            "100/100 - 15s - loss: 0.5685 - accuracy: 0.7000 - val_loss: 0.5302 - val_accuracy: 0.7360\n",
            "Epoch 34/100\n",
            "100/100 - 15s - loss: 0.5560 - accuracy: 0.7115 - val_loss: 0.6083 - val_accuracy: 0.6750\n",
            "Epoch 35/100\n",
            "100/100 - 15s - loss: 0.5499 - accuracy: 0.7260 - val_loss: 0.5180 - val_accuracy: 0.7420\n",
            "Epoch 36/100\n",
            "100/100 - 15s - loss: 0.5490 - accuracy: 0.7175 - val_loss: 0.5217 - val_accuracy: 0.7390\n",
            "Epoch 37/100\n",
            "100/100 - 15s - loss: 0.5456 - accuracy: 0.7210 - val_loss: 0.5796 - val_accuracy: 0.6900\n",
            "Epoch 38/100\n",
            "100/100 - 15s - loss: 0.5579 - accuracy: 0.7085 - val_loss: 0.6013 - val_accuracy: 0.6730\n",
            "Epoch 39/100\n",
            "100/100 - 15s - loss: 0.5377 - accuracy: 0.7330 - val_loss: 0.5061 - val_accuracy: 0.7600\n",
            "\n",
            "Reached 75% accuracy so cancelling training!\n"
          ],
          "name": "stdout"
        }
      ]
    },
    {
      "cell_type": "code",
      "metadata": {
        "colab": {
          "base_uri": "https://localhost:8080/",
          "height": 545
        },
        "id": "-Uu_QqIeVrKZ",
        "outputId": "9c10d4cf-0acc-428e-99cc-8dddb5d0dc0e"
      },
      "source": [
        "import matplotlib.pyplot as plt\n",
        "acc = history.history['accuracy']\n",
        "val_acc = history.history['val_accuracy']\n",
        "loss = history.history['loss']\n",
        "val_loss = history.history['val_loss']\n",
        "\n",
        "epochs = range(len(acc))\n",
        "\n",
        "plt.plot(epochs, acc, 'r', label='Training accuracy')\n",
        "plt.plot(epochs, val_acc, 'b', label='Validation accuracy')\n",
        "plt.title('Training and validation accuracy')\n",
        "\n",
        "plt.figure()\n",
        "\n",
        "plt.plot(epochs, loss, 'r', label='Training Loss')\n",
        "plt.plot(epochs, val_loss, 'b', label='Validation Loss')\n",
        "plt.title('Training and validation loss')\n",
        "plt.legend()\n",
        "\n",
        "plt.show()"
      ],
      "execution_count": 18,
      "outputs": [
        {
          "output_type": "display_data",
          "data": {
            "image/png": "[encoded data removed]",
            "text/plain": [
              "<Figure size 432x288 with 1 Axes>"
            ]
          },
          "metadata": {
            "tags": [],
            "needs_background": "light"
          }
        },
        {
          "output_type": "display_data",
          "data": {
            "image/png": "[encoded data removed]",
            "text/plain": [
              "<Figure size 432x288 with 1 Axes>"
            ]
          },
          "metadata": {
            "tags": [],
            "needs_background": "light"
          }
        }
      ]
    },
    {
      "cell_type": "code",
      "metadata": {
        "id": "1ENiqq1tXTQH"
      },
      "source": [
        ""
      ],
      "execution_count": null,
      "outputs": []
    }
  ]
}